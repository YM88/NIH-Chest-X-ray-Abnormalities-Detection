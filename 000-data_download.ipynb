{
 "cells": [
  {
   "cell_type": "markdown",
   "metadata": {},
   "source": [
    "# 0. Data Download\n",
    "NIH released the chest X-ray [dataset](https://www.nih.gov/news-events/news-releases/nih-clinical-center-provides-one-largest-publicly-available-chest-x-ray-datasets-scientific-community)\n",
    "Files are extracted in the **'data'** and and the images are extracted in the **'images'** folders.\n"
   ]
  },
  {
   "cell_type": "code",
   "execution_count": 2,
   "metadata": {
    "ExecuteTime": {
     "end_time": "2019-11-26T15:46:57.605388Z",
     "start_time": "2019-11-26T15:46:57.597830Z"
    }
   },
   "outputs": [],
   "source": [
    "\n",
    "import urllib\n",
    "\n",
    "#URLs for the zip files\n",
    "links = [\n",
    "    'https://nihcc.box.com/shared/static/vfk49d74nhbxq3nqjg0900w5nvkorp5c.gz',\n",
    "    'https://nihcc.box.com/shared/static/i28rlmbvmfjbl8p2n3ril0pptcmcu9d1.gz',\n",
    "    'https://nihcc.box.com/shared/static/f1t00wrtdk94satdfb9olcolqx20z2jp.gz',\n",
    "    'https://nihcc.box.com/shared/static/0aowwzs5lhjrceb3qp67ahp0rd1l1etg.gz',\n",
    "    'https://nihcc.box.com/shared/static/v5e3goj22zr6h8tzualxfsqlqaygfbsn.gz',\n",
    "    'https://nihcc.box.com/shared/static/asi7ikud9jwnkrnkj99jnpfkjdes7l6l.gz',\n",
    "    'https://nihcc.box.com/shared/static/jn1b4mw4n6lnh74ovmcjb8y48h8xj07n.gz',\n",
    "    'https://nihcc.box.com/shared/static/tvpxmn7qyrgl0w8wfh9kqfjskv6nmm1j.gz',\n",
    "    'https://nihcc.box.com/shared/static/upyy3ml7qdumlgk2rfcvlb9k6gvqq2pj.gz',\n",
    "    'https://nihcc.box.com/shared/static/l6nilvfa9cg3s28tqv1qc1olm3gnz54p.gz',\n",
    "    'https://nihcc.box.com/shared/static/hhq8fkdgvcari67vfhs7ppg2w6ni4jze.gz',\n",
    "    'https://nihcc.box.com/shared/static/ioqwiy20ihqwyr8pf4c24eazhh281pbu.gz']\n",
    "\n",
    "for idx, link in enumerate(links):\n",
    "    fn = 'data/images_%02d.tar.gz' % (idx+1)\n",
    "    print('downloading', fn, '...')\n",
    "    urllib.request.urlretrieve(link, fn)  # download the zip file\n",
    "print(\"Download complete. Please check the checksums\")"
   ]
  },
  {
   "cell_type": "code",
   "execution_count": 3,
   "metadata": {
    "ExecuteTime": {
     "end_time": "2019-11-26T15:46:57.618040Z",
     "start_time": "2019-11-26T15:46:57.608743Z"
    }
   },
   "outputs": [],
   "source": [
    "import os\n",
    "images_zip = [file for file in os.listdir('data') if file.endswith('.gz')]\n",
    "data_dir = 'data/'\n",
    "images_zip = [data_dir + file  for file in images_zip]\n",
    "import shutil"
   ]
  },
  {
   "cell_type": "code",
   "execution_count": 4,
   "metadata": {
    "ExecuteTime": {
     "end_time": "2019-11-26T15:46:57.630071Z",
     "start_time": "2019-11-26T15:46:57.621631Z"
    }
   },
   "outputs": [],
   "source": [
    "def extract_all(archives, extract_path):\n",
    "    for filename in archives:\n",
    "        shutil.unpack_archive(filename, extract_path)\n",
    "        \n",
    "extract_all(images_zip, 'data/')"
   ]
  },
  {
   "cell_type": "code",
   "execution_count": 5,
   "metadata": {
    "ExecuteTime": {
     "end_time": "2019-11-26T15:46:57.646567Z",
     "start_time": "2019-11-26T15:46:57.633560Z"
    }
   },
   "outputs": [],
   "source": [
    "for f in images_zip:\n",
    "   os.remove(f)"
   ]
  }
 ],
 "metadata": {
  "kernelspec": {
   "display_name": "Python 3",
   "language": "python",
   "name": "python3"
  },
  "language_info": {
   "codemirror_mode": {
    "name": "ipython",
    "version": 3
   },
   "file_extension": ".py",
   "mimetype": "text/x-python",
   "name": "python",
   "nbconvert_exporter": "python",
   "pygments_lexer": "ipython3",
   "version": "3.5.3"
  }
 },
 "nbformat": 4,
 "nbformat_minor": 4
}
