{
 "cells": [
  {
   "cell_type": "markdown",
   "metadata": {},
   "source": [
    "# 0. Introduction\n",
    "NIH released the chest X-ray [dataset](https://www.nih.gov/news-events/news-releases/nih-clinical-center-provides-one-largest-publicly-available-chest-x-ray-datasets-scientific-community)\n",
    "Files are extracted in the **'data'** and and the images are extracted in the **'images'** folders.\n"
   ]
  },
  {
   "cell_type": "code",
   "execution_count": 14,
   "metadata": {
    "ExecuteTime": {
     "end_time": "2019-11-17T20:08:26.052661Z",
     "start_time": "2019-11-17T20:08:26.031573Z"
    }
   },
   "outputs": [],
   "source": [
    "# # Download the 56 zip files in Images_png in batches\n",
    "# import urllib\n",
    "\n",
    "# # URLs for the zip files\n",
    "# links = [\n",
    "#     'https://nihcc.box.com/shared/static/vfk49d74nhbxq3nqjg0900w5nvkorp5c.gz',\n",
    "#     'https://nihcc.box.com/shared/static/i28rlmbvmfjbl8p2n3ril0pptcmcu9d1.gz',\n",
    "#     'https://nihcc.box.com/shared/static/f1t00wrtdk94satdfb9olcolqx20z2jp.gz',\n",
    "#     'https://nihcc.box.com/shared/static/0aowwzs5lhjrceb3qp67ahp0rd1l1etg.gz',\n",
    "#     'https://nihcc.box.com/shared/static/v5e3goj22zr6h8tzualxfsqlqaygfbsn.gz',\n",
    "#     'https://nihcc.box.com/shared/static/asi7ikud9jwnkrnkj99jnpfkjdes7l6l.gz',\n",
    "#     'https://nihcc.box.com/shared/static/jn1b4mw4n6lnh74ovmcjb8y48h8xj07n.gz',\n",
    "#     'https://nihcc.box.com/shared/static/tvpxmn7qyrgl0w8wfh9kqfjskv6nmm1j.gz',\n",
    "#     'https://nihcc.box.com/shared/static/upyy3ml7qdumlgk2rfcvlb9k6gvqq2pj.gz',\n",
    "#     'https://nihcc.box.com/shared/static/l6nilvfa9cg3s28tqv1qc1olm3gnz54p.gz',\n",
    "#     'https://nihcc.box.com/shared/static/hhq8fkdgvcari67vfhs7ppg2w6ni4jze.gz',\n",
    "#     'https://nihcc.box.com/shared/static/ioqwiy20ihqwyr8pf4c24eazhh281pbu.gz'\n",
    "# ]\n",
    "\n",
    "# for idx, link in enumerate(links):\n",
    "#     fn = 'images_%02d.tar.gz' % (idx+1)\n",
    "#     print('downloading', fn, '...')\n",
    "#     urllib.request.urlretrieve(link, fn)  # download the zip file\n",
    "# print(\"Download complete. Please check the checksums\")"
   ]
  },
  {
   "cell_type": "markdown",
   "metadata": {},
   "source": [
    "## Loading Prerequisites and Libraries "
   ]
  },
  {
   "cell_type": "markdown",
   "metadata": {},
   "source": [
    "Standard Imports:  \n",
    "Plotly is configured to run in the offline mode.  \n",
    "Pandas is chosen to for manipulating csv files.  \n",
    "Numpy is for the arithmetic applications.\n",
    "\n",
    "Visualizations:  \n",
    "Most of the visualizations are done via matplotlib, seaborn and plotly.   \n",
    "\n",
    "Custom Functions:  \n",
    "All additional functions and code are written and imported from the **eda_xray.py** file."
   ]
  },
  {
   "cell_type": "code",
   "execution_count": 31,
   "metadata": {
    "ExecuteTime": {
     "end_time": "2019-11-18T15:17:45.325506Z",
     "start_time": "2019-11-18T15:17:45.046749Z"
    }
   },
   "outputs": [
    {
     "name": "stdout",
     "output_type": "stream",
     "text": [
      "The autoreload extension is already loaded. To reload it, use:\n",
      "  %reload_ext autoreload\n"
     ]
    },
    {
     "data": {
      "application/vnd.jupyter.widget-view+json": {
       "model_id": "3efeb81bad044b1092c11a654872ca76",
       "version_major": 2,
       "version_minor": 0
      },
      "text/plain": [
       "ColorPicker(value='blue', description='Pick a color')"
      ]
     },
     "metadata": {},
     "output_type": "display_data"
    }
   ],
   "source": [
    "import shutil\n",
    "import os\n",
    "from eda_xray import load_xray\n",
    "from itertools import chain\n",
    "import seaborn as sns\n",
    "import pandas as pd\n",
    "import numpy as np\n",
    "import matplotlib.pyplot as plt  # sets up plotting under plt\n",
    "import matplotlib.cm as cm  # allows us easy access to colormaps\n",
    "from IPython.core.interactiveshell import InteractiveShell\n",
    "from IPython.core.display import display, HTML\n",
    "import ipywidgets as widgets\n",
    "from ipywidgets import interact\n",
    "import plotly_express as px\n",
    "import plotly.graph_objs as go\n",
    "import plotly.offline\n",
    "%matplotlib inline\n",
    "sns.set_style('whitegrid')\n",
    "sns.set_context(\"poster\")\n",
    "# import jtplot submodule from jupyterthemes\n",
    "from jupyterthemes import jtplot\n",
    "\n",
    "# currently installed theme will be used to\n",
    "# set plot style if no arguments provided\n",
    "jtplot.style(context='talk', fscale=1.4, spines=False, gridlines='--')\n",
    "%load_ext autoreload\n",
    "%autoreload 2\n",
    "pd.set_option('display.width', 500)\n",
    "pd.set_option('display.max_columns', 100)\n",
    "pd.set_option('display.max_rows', 100)\n",
    "pd.set_option('display.notebook_repr_html', True)\n",
    "pd.set_option('precision', 5)\n",
    "InteractiveShell.ast_node_interactivity = \"all\"\n",
    "# InteractiveShell.ast_node_interactivity = \"last_expr\"\n",
    "widgets.ColorPicker(\n",
    "    concise=False,\n",
    "    description='Pick a color',\n",
    "    value='blue',\n",
    "    disabled=False)"
   ]
  },
  {
   "cell_type": "markdown",
   "metadata": {},
   "source": [
    "There is a total of 112120 images on the NIH dataset."
   ]
  },
  {
   "cell_type": "code",
   "execution_count": 3,
   "metadata": {
    "ExecuteTime": {
     "end_time": "2019-11-18T15:05:13.870166Z",
     "start_time": "2019-11-18T15:05:13.301944Z"
    }
   },
   "outputs": [
    {
     "data": {
      "text/plain": [
       "112120"
      ]
     },
     "execution_count": 3,
     "metadata": {},
     "output_type": "execute_result"
    }
   ],
   "source": [
    "# creating image location and looking for the number of the images\n",
    "img_location = 'data/images'\n",
    "imgs = [file for file in os.listdir(img_location) if file.endswith('.png')]\n",
    "len(imgs)"
   ]
  },
  {
   "cell_type": "markdown",
   "metadata": {},
   "source": [
    "## Importing data and renaming/dropping columns\n",
    "\n",
    "The function **load_xray** does the following:\n",
    "1. imports the css\n",
    "2. renames the columns to lower letter\n",
    "3. drops the last empty column\n",
    "4. adds a new columns caled **'path'** that has the x-rays *image*.png* location"
   ]
  },
  {
   "cell_type": "code",
   "execution_count": 57,
   "metadata": {
    "ExecuteTime": {
     "end_time": "2019-11-18T15:34:27.054431Z",
     "start_time": "2019-11-18T15:34:26.719400Z"
    }
   },
   "outputs": [
    {
     "data": {
      "text/html": [
       "<div>\n",
       "<style scoped>\n",
       "    .dataframe tbody tr th:only-of-type {\n",
       "        vertical-align: middle;\n",
       "    }\n",
       "\n",
       "    .dataframe tbody tr th {\n",
       "        vertical-align: top;\n",
       "    }\n",
       "\n",
       "    .dataframe thead th {\n",
       "        text-align: right;\n",
       "    }\n",
       "</style>\n",
       "<table border=\"1\" class=\"dataframe\">\n",
       "  <thead>\n",
       "    <tr style=\"text-align: right;\">\n",
       "      <th></th>\n",
       "      <th>imgindex</th>\n",
       "      <th>label</th>\n",
       "      <th>followup</th>\n",
       "      <th>patientID</th>\n",
       "      <th>age</th>\n",
       "      <th>gender</th>\n",
       "      <th>viewposition</th>\n",
       "      <th>width</th>\n",
       "      <th>height</th>\n",
       "      <th>x</th>\n",
       "      <th>y</th>\n",
       "      <th>path</th>\n",
       "    </tr>\n",
       "  </thead>\n",
       "  <tbody>\n",
       "    <tr>\n",
       "      <th>111069</th>\n",
       "      <td>00030320_006.png</td>\n",
       "      <td>Infiltration</td>\n",
       "      <td>6</td>\n",
       "      <td>30320</td>\n",
       "      <td>6</td>\n",
       "      <td>F</td>\n",
       "      <td>AP</td>\n",
       "      <td>2544</td>\n",
       "      <td>3056</td>\n",
       "      <td>0.139</td>\n",
       "      <td>0.139</td>\n",
       "      <td>data/images/00030320_006.png</td>\n",
       "    </tr>\n",
       "    <tr>\n",
       "      <th>100201</th>\n",
       "      <td>00026554_003.png</td>\n",
       "      <td>Edema|Infiltration</td>\n",
       "      <td>3</td>\n",
       "      <td>26554</td>\n",
       "      <td>16</td>\n",
       "      <td>F</td>\n",
       "      <td>AP</td>\n",
       "      <td>3056</td>\n",
       "      <td>2544</td>\n",
       "      <td>0.139</td>\n",
       "      <td>0.139</td>\n",
       "      <td>data/images/00026554_003.png</td>\n",
       "    </tr>\n",
       "    <tr>\n",
       "      <th>5184</th>\n",
       "      <td>00001381_006.png</td>\n",
       "      <td>No Finding</td>\n",
       "      <td>6</td>\n",
       "      <td>1381</td>\n",
       "      <td>45</td>\n",
       "      <td>M</td>\n",
       "      <td>AP</td>\n",
       "      <td>2500</td>\n",
       "      <td>2048</td>\n",
       "      <td>0.168</td>\n",
       "      <td>0.168</td>\n",
       "      <td>data/images/00001381_006.png</td>\n",
       "    </tr>\n",
       "    <tr>\n",
       "      <th>62910</th>\n",
       "      <td>00015556_018.png</td>\n",
       "      <td>Infiltration|Nodule</td>\n",
       "      <td>18</td>\n",
       "      <td>15556</td>\n",
       "      <td>56</td>\n",
       "      <td>M</td>\n",
       "      <td>PA</td>\n",
       "      <td>2992</td>\n",
       "      <td>2991</td>\n",
       "      <td>0.143</td>\n",
       "      <td>0.143</td>\n",
       "      <td>data/images/00015556_018.png</td>\n",
       "    </tr>\n",
       "    <tr>\n",
       "      <th>75919</th>\n",
       "      <td>00018619_000.png</td>\n",
       "      <td>No Finding</td>\n",
       "      <td>0</td>\n",
       "      <td>18619</td>\n",
       "      <td>57</td>\n",
       "      <td>F</td>\n",
       "      <td>PA</td>\n",
       "      <td>2578</td>\n",
       "      <td>2621</td>\n",
       "      <td>0.143</td>\n",
       "      <td>0.143</td>\n",
       "      <td>data/images/00018619_000.png</td>\n",
       "    </tr>\n",
       "  </tbody>\n",
       "</table>\n",
       "</div>"
      ],
      "text/plain": [
       "                imgindex                label  followup  patientID  age gender viewposition  width  height      x      y                          path\n",
       "111069  00030320_006.png         Infiltration         6      30320    6      F           AP   2544    3056  0.139  0.139  data/images/00030320_006.png\n",
       "100201  00026554_003.png   Edema|Infiltration         3      26554   16      F           AP   3056    2544  0.139  0.139  data/images/00026554_003.png\n",
       "5184    00001381_006.png           No Finding         6       1381   45      M           AP   2500    2048  0.168  0.168  data/images/00001381_006.png\n",
       "62910   00015556_018.png  Infiltration|Nodule        18      15556   56      M           PA   2992    2991  0.143  0.143  data/images/00015556_018.png\n",
       "75919   00018619_000.png           No Finding         0      18619   57      F           PA   2578    2621  0.143  0.143  data/images/00018619_000.png"
      ]
     },
     "execution_count": 57,
     "metadata": {},
     "output_type": "execute_result"
    }
   ],
   "source": [
    "data = 'data/Data_Entry_2017.csv'\n",
    "df = load_xray(data)\n",
    "df.sample(5)"
   ]
  },
  {
   "cell_type": "code",
   "execution_count": 58,
   "metadata": {
    "ExecuteTime": {
     "end_time": "2019-11-18T15:34:27.494290Z",
     "start_time": "2019-11-18T15:34:27.397283Z"
    }
   },
   "outputs": [],
   "source": [
    "# df.age.describe()\n",
    "# df[df.age > df.age.quantile(0.997)]\n",
    "# df[df.age > 100]\n",
    "# sns.distplot(df.age[df.age > df.age.quantile(0.997)], kde = False)"
   ]
  },
  {
   "cell_type": "markdown",
   "metadata": {},
   "source": [
    "There are 836 different combinations of labeling among the x-rays."
   ]
  },
  {
   "cell_type": "markdown",
   "metadata": {},
   "source": [
    "## Unique pathologies of x-ray abnormalities and choosing a subset\n",
    "\n",
    "There 836 unique values in the labels and these values have several different groupings of the pathologies. "
   ]
  },
  {
   "cell_type": "code",
   "execution_count": 59,
   "metadata": {
    "ExecuteTime": {
     "end_time": "2019-11-18T15:34:28.875543Z",
     "start_time": "2019-11-18T15:34:28.777042Z"
    }
   },
   "outputs": [
    {
     "data": {
      "text/plain": [
       "836"
      ]
     },
     "execution_count": 59,
     "metadata": {},
     "output_type": "execute_result"
    }
   ],
   "source": [
    "df.label.nunique()"
   ]
  },
  {
   "cell_type": "markdown",
   "metadata": {},
   "source": [
    "If we don't the consider the multilabel abnormalities, we'd have 14 labels plus the *'No Finding'* classification."
   ]
  },
  {
   "cell_type": "code",
   "execution_count": 60,
   "metadata": {
    "ExecuteTime": {
     "end_time": "2019-11-18T15:34:30.347614Z",
     "start_time": "2019-11-18T15:34:29.869586Z"
    },
    "cell_style": "center"
   },
   "outputs": [
    {
     "name": "stdout",
     "output_type": "stream",
     "text": [
      "Infiltration          9547\n",
      "Atelectasis           4215\n",
      "Effusion              3955\n",
      "Nodule                2705\n",
      "Pneumothorax          2194\n",
      "Mass                  2139\n",
      "Consolidation         1310\n",
      "Pleural_Thickening    1126\n",
      "Cardiomegaly          1093\n",
      "Emphysema              892\n",
      "Fibrosis               727\n",
      "Edema                  628\n",
      "Pneumonia              322\n",
      "Hernia                 110\n",
      "Name: label, dtype: int64\n"
     ]
    },
    {
     "data": {
      "image/png": "[encoded data removed]",
      "text/plain": [
       "<Figure size 1440x360 with 1 Axes>"
      ]
     },
     "metadata": {},
     "output_type": "display_data"
    }
   ],
   "source": [
    "single_labels = ['Atelectasis', 'Consolidation', 'Infiltration', 'Pneumothorax',\n",
    "                 'Edema', 'Emphysema', 'Fibrosis', 'Effusion', 'Pneumonia',\n",
    "                 'Pleural_Thickening', 'Cardiomegaly', 'Nodule', 'Mass', 'Hernia']\n",
    "print(df[df.label.isin(single_labels)].label.value_counts())\n",
    "\n",
    "df[df.label.isin(single_labels)].label.value_counts().plot(kind='bar',\n",
    "                                                           figsize=(20, 5),\n",
    "                                                           title='Value Counts in Single Label Categories of Chest X-rays');"
   ]
  },
  {
   "cell_type": "markdown",
   "metadata": {},
   "source": [
    "By Looking at the dataset we can see there's more than 60,000 values for the *'No Finding'* label.\n",
    "To have a subset we randomly sample 10,000 values of this label and concat with the other single labels."
   ]
  },
  {
   "cell_type": "code",
   "execution_count": 61,
   "metadata": {
    "ExecuteTime": {
     "end_time": "2019-11-18T15:34:39.384196Z",
     "start_time": "2019-11-18T15:34:39.254382Z"
    }
   },
   "outputs": [],
   "source": [
    "df_subset = pd.concat((df[df.label == 'No Finding'].sample(10000, random_state=42),\n",
    "                       df[df.label.isin(single_labels)]))"
   ]
  },
  {
   "cell_type": "code",
   "execution_count": 62,
   "metadata": {
    "ExecuteTime": {
     "end_time": "2019-11-18T15:34:40.528162Z",
     "start_time": "2019-11-18T15:34:40.143000Z"
    }
   },
   "outputs": [
    {
     "name": "stdout",
     "output_type": "stream",
     "text": [
      "No Finding            10000\n",
      "Infiltration           9547\n",
      "Atelectasis            4215\n",
      "Effusion               3955\n",
      "Nodule                 2705\n",
      "Pneumothorax           2194\n",
      "Mass                   2139\n",
      "Consolidation          1310\n",
      "Pleural_Thickening     1126\n",
      "Cardiomegaly           1093\n",
      "Emphysema               892\n",
      "Fibrosis                727\n",
      "Edema                   628\n",
      "Pneumonia               322\n",
      "Hernia                  110\n",
      "Name: label, dtype: int64\n"
     ]
    },
    {
     "data": {
      "image/png": "[encoded data removed]",
      "text/plain": [
       "<Figure size 1440x360 with 1 Axes>"
      ]
     },
     "metadata": {},
     "output_type": "display_data"
    }
   ],
   "source": [
    "print(df_subset.label.value_counts())\n",
    "df_subset.label.value_counts().plot(kind='bar',\n",
    "                                    figsize=(20, 5),\n",
    "                                    color='g',\n",
    "                                    title='Subset Counts in Single Label Categories of Chest X-rays');"
   ]
  },
  {
   "cell_type": "markdown",
   "metadata": {},
   "source": [
    "The created subset has a total of 40963 values, which close to a third of the original dataset. Thus in total we have chosen **%36.53** of the original dataframe. "
   ]
  },
  {
   "cell_type": "code",
   "execution_count": 63,
   "metadata": {
    "ExecuteTime": {
     "end_time": "2019-11-18T15:34:44.034582Z",
     "start_time": "2019-11-18T15:34:43.881544Z"
    }
   },
   "outputs": [
    {
     "name": "stdout",
     "output_type": "stream",
     "text": [
      "# of rows in the subset dataframe:  40963\n",
      "\n",
      "# of rows in the original dataframe:  112120\n",
      "\n",
      "percentage subset of the original:  36.53496254013557\n"
     ]
    }
   ],
   "source": [
    "print('# of rows in the subset dataframe: ', df_subset.shape[0])\n",
    "print('\\n# of rows in the original dataframe: ', df.shape[0])\n",
    "print('\\npercentage subset of the original: ',\n",
    "      df_subset.shape[0]/df.shape[0]*100)"
   ]
  },
  {
   "cell_type": "markdown",
   "metadata": {},
   "source": [
    "## Creating Categorical Variables"
   ]
  },
  {
   "cell_type": "code",
   "execution_count": 73,
   "metadata": {
    "ExecuteTime": {
     "end_time": "2019-11-18T15:44:44.886061Z",
     "start_time": "2019-11-18T15:44:44.773900Z"
    }
   },
   "outputs": [],
   "source": [
    "#create \n",
    "df_subset = pd.get_dummies(df_subset,\n",
    "                           columns=['label'],\n",
    "                           prefix='',\n",
    "                           prefix_sep='',\n",
    "                           dtype=np.float64)"
   ]
  },
  {
   "cell_type": "code",
   "execution_count": 79,
   "metadata": {
    "ExecuteTime": {
     "end_time": "2019-11-18T15:52:41.904640Z",
     "start_time": "2019-11-18T15:52:23.587479Z"
    }
   },
   "outputs": [],
   "source": [
    "df_subset['target'] = df_subset.apply(lambda x: [x[single_labels].values], 1).map(lambda x: x[0])"
   ]
  },
  {
   "cell_type": "code",
   "execution_count": null,
   "metadata": {},
   "outputs": [],
   "source": []
  },
  {
   "cell_type": "markdown",
   "metadata": {},
   "source": [
    "## Output to CSV & Pickle & HD5"
   ]
  },
  {
   "cell_type": "code",
   "execution_count": null,
   "metadata": {},
   "outputs": [],
   "source": []
  },
  {
   "cell_type": "code",
   "execution_count": 89,
   "metadata": {
    "ExecuteTime": {
     "end_time": "2019-11-18T18:45:52.387535Z",
     "start_time": "2019-11-18T18:45:52.204478Z"
    }
   },
   "outputs": [],
   "source": [
    "# overwriting the df variable name with the df_subset for convention\n",
    "df = df_subset"
   ]
  },
  {
   "cell_type": "markdown",
   "metadata": {},
   "source": [
    "## Split train, validation, and test data"
   ]
  },
  {
   "cell_type": "code",
   "execution_count": null,
   "metadata": {},
   "outputs": [],
   "source": [
    "from sklearn.model_selection import train_test_split\n",
    "\n",
    "train_set, test_set = train_test_split(df, test_size = 0.2, random_state = 42)\n",
    "\n",
    "# quick check to see that the training and test set were split properly\n",
    "print('training set - # of observations: ', len(train_set))\n",
    "print('test set - # of observations): ', len(test_set))\n",
    "print('prior, full data set - # of observations): ', len(xray_data))\n",
    "\n"
   ]
  },
  {
   "cell_type": "markdown",
   "metadata": {},
   "source": [
    "\n",
    "## CLAHE - Contrast Limited Adaptive Histogram Equalization  \n",
    "\n",
    "We apply the CLAHE [(Contrast Limited Adaptive Histogram Equalization)](https://en.wikipedia.org/wiki/Adaptive_histogram_equalization) method, which is a popular image processing method to improve contrast in images and limit the noise amplification of the regular adaptive method.\n"
   ]
  },
  {
   "cell_type": "code",
   "execution_count": 26,
   "metadata": {
    "ExecuteTime": {
     "end_time": "2019-11-17T20:10:04.350239Z",
     "start_time": "2019-11-17T20:10:03.256937Z"
    }
   },
   "outputs": [],
   "source": [
    "# read and equalize images\n",
    "from cv2 import imread, imwrite, imshow,  createCLAHE, equalizeHist\n",
    "import numpy as np"
   ]
  },
  {
   "cell_type": "code",
   "execution_count": 88,
   "metadata": {
    "ExecuteTime": {
     "end_time": "2019-11-18T16:15:06.126225Z",
     "start_time": "2019-11-18T16:15:04.815947Z"
    }
   },
   "outputs": [],
   "source": []
  },
  {
   "cell_type": "markdown",
   "metadata": {},
   "source": [
    "## Checking for contrast normality"
   ]
  },
  {
   "cell_type": "code",
   "execution_count": 27,
   "metadata": {
    "ExecuteTime": {
     "end_time": "2019-11-17T20:10:59.102231Z",
     "start_time": "2019-11-17T20:10:58.858666Z"
    }
   },
   "outputs": [],
   "source": [
    "# need a function that takes 9 images, shows them, plots the histogram on the left, shows the equalized pic,\n",
    "# shows the hisotgram on the righ"
   ]
  },
  {
   "cell_type": "code",
   "execution_count": 28,
   "metadata": {
    "ExecuteTime": {
     "end_time": "2019-11-17T20:10:59.684526Z",
     "start_time": "2019-11-17T20:10:59.457187Z"
    }
   },
   "outputs": [],
   "source": [
    "# for path in df.sample(12, random_state=42).path.values:\n",
    "#     img = imread(path, 0)\n",
    "#     hist, bins = np.histogram(img.flatten(), 256, [0, 256])\n",
    "#     cdf = hist.cumsum()\n",
    "#     cdf_normalized = cdf * float(hist.max()) / cdf.max()\n",
    "#     plt.plot(cdf_normalized, color='b')\n",
    "#     plt.hist(img.flatten(), 256, [0, 256], color='r')\n",
    "#     plt.xlim([0, 256])\n",
    "#     plt.legend(('cdf', 'histogram'), loc='upper left')\n",
    "#     plt.show();"
   ]
  },
  {
   "cell_type": "code",
   "execution_count": 29,
   "metadata": {
    "ExecuteTime": {
     "end_time": "2019-11-17T20:11:00.428493Z",
     "start_time": "2019-11-17T20:11:00.205190Z"
    }
   },
   "outputs": [],
   "source": [
    "# hist,bins = np.histogram(img2.flatten(),256,[0,256])\n",
    "# cdf = hist.cumsum()\n",
    "# cdf_normalized = cdf * float(hist.max()) / cdf.max()\n",
    "# plt.plot(cdf_normalized, color = 'b')\n",
    "# plt.hist(img2.flatten(),256,[0,256], color = 'r')\n",
    "# plt.xlim([0,256])\n",
    "# plt.legend(('cdf','histogram'), loc = 'upper left')\n",
    "# plt.show()"
   ]
  },
  {
   "cell_type": "markdown",
   "metadata": {},
   "source": [
    "## Applying CLAHE "
   ]
  },
  {
   "cell_type": "code",
   "execution_count": null,
   "metadata": {},
   "outputs": [],
   "source": [
    "# why apply mean  , 2 and also why astype(np.uint8)\n",
    "from skimage.transform import resize\n",
    "output_dimension = (128, 128)\n",
    "def apply_CLAHE(path):\n",
    "    \"\"\"\n",
    "    This function takes the path of the image and applies the CLAHE technique.\n",
    "    Outputs the new image.\n",
    "    \"\"\"\n",
    "    clahe_tool = createCLAHE(clipLimit=2.0, tileGridSize=(8,8))\n",
    "    img_data = np.mean(imread(path), 2).astype(np.uint8)\n",
    "    img_data = clahe_tool.apply(img_data)\n",
    "    n_img = (255*resize(img_data, output_dimension, mode = 'constant')).clip(0,255).astype(np.uint8)\n",
    "    return np.expand_dims(n_img, -1)\n",
    "\n",
    "test_img = apply_CLAHE(df['path'].values[0])\n",
    "plt.matshow(test_img[:,:,0])"
   ]
  },
  {
   "cell_type": "code",
   "execution_count": 41,
   "metadata": {
    "ExecuteTime": {
     "end_time": "2019-11-17T20:25:09.620866Z",
     "start_time": "2019-11-17T20:25:09.423470Z"
    }
   },
   "outputs": [
    {
     "data": {
      "text/plain": [
       "numpy.uint8"
      ]
     },
     "execution_count": 41,
     "metadata": {},
     "output_type": "execute_result"
    }
   ],
   "source": [
    "np.uint8"
   ]
  },
  {
   "cell_type": "code",
   "execution_count": 43,
   "metadata": {
    "ExecuteTime": {
     "end_time": "2019-11-17T20:29:15.211794Z",
     "start_time": "2019-11-17T20:29:05.465854Z"
    }
   },
   "outputs": [
    {
     "ename": "ModuleNotFoundError",
     "evalue": "No module named 'keras'",
     "output_type": "error",
     "traceback": [
      "\u001b[1;31m--------------------------------------------------------------------\u001b[0m",
      "\u001b[1;31mModuleNotFoundError\u001b[0m                Traceback (most recent call last)",
      "\u001b[1;32m<ipython-input-43-3c411babcb84>\u001b[0m in \u001b[0;36m<module>\u001b[1;34m\u001b[0m\n\u001b[0;32m      1\u001b[0m \u001b[1;32mfrom\u001b[0m \u001b[0mtensorflow\u001b[0m \u001b[1;32mimport\u001b[0m \u001b[0mkeras\u001b[0m\u001b[1;33m\u001b[0m\u001b[1;33m\u001b[0m\u001b[0m\n\u001b[1;32m----> 2\u001b[1;33m \u001b[1;32mfrom\u001b[0m \u001b[0mkeras\u001b[0m\u001b[1;33m.\u001b[0m\u001b[0mpreprocessing\u001b[0m\u001b[1;33m.\u001b[0m\u001b[0mimage\u001b[0m \u001b[1;32mimport\u001b[0m \u001b[0mload_img\u001b[0m\u001b[1;33m,\u001b[0m \u001b[0mimg_to_array\u001b[0m\u001b[1;33m\u001b[0m\u001b[1;33m\u001b[0m\u001b[0m\n\u001b[0m\u001b[0;32m      3\u001b[0m \u001b[0mimg\u001b[0m \u001b[1;33m=\u001b[0m \u001b[0mload_img\u001b[0m\u001b[1;33m(\u001b[0m\u001b[0mdf\u001b[0m\u001b[1;33m[\u001b[0m\u001b[1;34m'path'\u001b[0m\u001b[1;33m]\u001b[0m\u001b[1;33m.\u001b[0m\u001b[0mvalues\u001b[0m\u001b[1;33m[\u001b[0m\u001b[1;36m0\u001b[0m\u001b[1;33m]\u001b[0m\u001b[1;33m)\u001b[0m\u001b[1;33m\u001b[0m\u001b[1;33m\u001b[0m\u001b[0m\n\u001b[0;32m      4\u001b[0m \u001b[0mimg_to_array\u001b[0m\u001b[1;33m(\u001b[0m\u001b[0mimg\u001b[0m\u001b[1;33m)\u001b[0m\u001b[1;33m\u001b[0m\u001b[1;33m\u001b[0m\u001b[0m\n",
      "\u001b[1;31mModuleNotFoundError\u001b[0m: No module named 'keras'"
     ]
    }
   ],
   "source": [
    "import tensorflow as tf\n",
    "tf.keras.preprocessing.image\n",
    "img = load_img(df['path'].values[0])\n",
    "# img_to_array(img)"
   ]
  },
  {
   "cell_type": "code",
   "execution_count": 39,
   "metadata": {
    "ExecuteTime": {
     "end_time": "2019-11-17T20:22:43.041425Z",
     "start_time": "2019-11-17T20:22:42.698475Z"
    },
    "scrolled": true
   },
   "outputs": [
    {
     "data": {
      "text/plain": [
       "array([[[253, 253, 253],\n",
       "        [227, 227, 227],\n",
       "        [139, 139, 139],\n",
       "        ...,\n",
       "        [119, 119, 119],\n",
       "        [119, 119, 119],\n",
       "        [119, 119, 119]],\n",
       "\n",
       "       [[247, 247, 247],\n",
       "        [175, 175, 175],\n",
       "        [ 93,  93,  93],\n",
       "        ...,\n",
       "        [118, 118, 118],\n",
       "        [117, 117, 117],\n",
       "        [117, 117, 117]],\n",
       "\n",
       "       [[196, 196, 196],\n",
       "        [ 94,  94,  94],\n",
       "        [ 61,  61,  61],\n",
       "        ...,\n",
       "        [106, 106, 106],\n",
       "        [106, 106, 106],\n",
       "        [107, 107, 107]],\n",
       "\n",
       "       ...,\n",
       "\n",
       "       [[233, 233, 233],\n",
       "        [229, 229, 229],\n",
       "        [227, 227, 227],\n",
       "        ...,\n",
       "        [154, 154, 154],\n",
       "        [154, 154, 154],\n",
       "        [154, 154, 154]],\n",
       "\n",
       "       [[237, 237, 237],\n",
       "        [230, 230, 230],\n",
       "        [228, 228, 228],\n",
       "        ...,\n",
       "        [161, 161, 161],\n",
       "        [161, 161, 161],\n",
       "        [160, 160, 160]],\n",
       "\n",
       "       [[243, 243, 243],\n",
       "        [235, 235, 235],\n",
       "        [230, 230, 230],\n",
       "        ...,\n",
       "        [169, 169, 169],\n",
       "        [169, 169, 169],\n",
       "        [168, 168, 168]]], dtype=uint8)"
      ]
     },
     "execution_count": 39,
     "metadata": {},
     "output_type": "execute_result"
    },
    {
     "data": {
      "text/plain": [
       "(1024, 1024, 3)"
      ]
     },
     "execution_count": 39,
     "metadata": {},
     "output_type": "execute_result"
    }
   ],
   "source": [
    "imread(df['path'].values[0])\n",
    "imread(df['path'].values[0]).shape"
   ]
  },
  {
   "cell_type": "code",
   "execution_count": 34,
   "metadata": {
    "ExecuteTime": {
     "end_time": "2019-11-17T20:21:03.836637Z",
     "start_time": "2019-11-17T20:21:03.567057Z"
    }
   },
   "outputs": [
    {
     "data": {
      "text/plain": [
       "(1024, 1024, 3)"
      ]
     },
     "execution_count": 34,
     "metadata": {},
     "output_type": "execute_result"
    }
   ],
   "source": []
  },
  {
   "cell_type": "code",
   "execution_count": 3,
   "metadata": {
    "ExecuteTime": {
     "end_time": "2019-11-17T19:10:32.778784Z",
     "start_time": "2019-11-17T19:10:32.772783Z"
    }
   },
   "outputs": [],
   "source": [
    "# model = Sequential()\n",
    "# model.add(Convolution2D(32, 3, 3, input_shape=(img_width, img_height, 3)))\n",
    "# model.add(Activation('relu'))\n",
    "# model.add(MaxPooling)\n",
    "# model.add(Convolution2D(32, 3, 3))\n",
    "# model.add(Activation('relu'))\n",
    "# model.add(MaxPooling)\n",
    "# model.add(Convolution2D(62, 3, 3))\n",
    "# model.add(Activation('relu'))\n",
    "# model.add(MaxPooling)\n",
    "# model.add(Flatten())\n",
    "# model.add(Dense(64))\n",
    "# model.aa(Activation('relu'))\n",
    "# model.add(Dropout(0.5))\n",
    "# model.add(Dense(1))\n",
    "# model.add(Activation('sigmoid'))  # or softmax?\n",
    "# model.compile(loss='binary_crossentropy',\n",
    "#               optimizer='rmsprop', metrics='accuracy')\n",
    "# # backward propagating based on loss function\n",
    "# model.fit(.....)\n",
    "\n",
    "\n",
    "# train_datagen = ImageDataGenerator(\n",
    "#     rotation_range=15,\n",
    "#     rescale=1./255,\n",
    "#     shear_range=0.1,\n",
    "#     zoom_range=0.2,\n",
    "#     horizontal_flip=True,\n",
    "#     width_shift_range=0.1,\n",
    "#     height_shift_range=0.1\n",
    "# )\n",
    "\n",
    "# train_generator = train_datagen.flow_from_dataframe(\n",
    "#     train_df,\n",
    "#     \"../input/train/train/\",\n",
    "#     x_col='filename',\n",
    "#     y_col='category',\n",
    "#     target_size=IMAGE_SIZE,\n",
    "#     class_mode='categorical',\n",
    "#     batch_size=batch_size\n",
    "# )\n",
    "\n",
    "\n",
    "# # classic CNN looks like this:\n",
    "# # input>conv>reLU>conv>reLU>pool>relu>conv>pool>fullyconnected\n",
    "# # common technique to avoid overfitting is to use dropout filters. it uses a random set of activation filters\n",
    "# # by settin ghtme to 0 as data flows through\n",
    "\n",
    "\n",
    "# # pooling reduces the dimensionality of each feature map but keeps the largest feature\n",
    "# # reLU replace all negative values with zero\n",
    "\n",
    "# # our filter is our feature identifier or basically the weights we assign\n",
    "\n",
    "# # all you have to do is to create a small filter and convert it to an array"
   ]
  },
  {
   "cell_type": "code",
   "execution_count": 11,
   "metadata": {
    "ExecuteTime": {
     "end_time": "2019-11-17T19:16:14.289626Z",
     "start_time": "2019-11-17T19:16:12.505215Z"
    }
   },
   "outputs": [],
   "source": [
    "!jt -t onedork -N -T -kl -f roboto -fs 115 -cursc r -cursw 4 -ofs 115 -cellw 100% -altp -m 200"
   ]
  },
  {
   "cell_type": "code",
   "execution_count": null,
   "metadata": {
    "ExecuteTime": {
     "start_time": "2019-11-18T04:32:50.482Z"
    }
   },
   "outputs": [
    {
     "name": "stderr",
     "output_type": "stream",
     "text": [
      "[autoreload of tensorflow._api failed: Traceback (most recent call last):\n",
      "  File \"C:\\Users\\yasha\\Anaconda3\\lib\\site-packages\\IPython\\extensions\\autoreload.py\", line 245, in check\n",
      "    superreload(m, reload, self.old_objects)\n",
      "  File \"C:\\Users\\yasha\\Anaconda3\\lib\\site-packages\\IPython\\extensions\\autoreload.py\", line 394, in superreload\n",
      "    module = reload(module)\n",
      "  File \"C:\\Users\\yasha\\Anaconda3\\lib\\imp.py\", line 314, in reload\n",
      "    return importlib.reload(module)\n",
      "  File \"C:\\Users\\yasha\\Anaconda3\\lib\\importlib\\__init__.py\", line 142, in reload\n",
      "    name = module.__spec__.name\n",
      "  File \"C:\\Users\\yasha\\Anaconda3\\lib\\site-packages\\tensorflow\\__init__.py\", line 50, in __getattr__\n",
      "    module = self._load()\n",
      "  File \"C:\\Users\\yasha\\Anaconda3\\lib\\site-packages\\tensorflow\\__init__.py\", line 45, in _load\n",
      "    self._parent_module_globals[self._local_name] = module\n",
      "  File \"C:\\Users\\yasha\\Anaconda3\\lib\\site-packages\\tensorflow\\__init__.py\", line 50, in __getattr__\n",
      "    module = self._load()\n",
      "  File \"C:\\Users\\yasha\\Anaconda3\\lib\\site-packages\\tensorflow\\__init__.py\", line 45, in _load\n",
      "    self._parent_module_globals[self._local_name] = module\n",
      "  File \"C:\\Users\\yasha\\Anaconda3\\lib\\site-packages\\tensorflow\\__init__.py\", line 50, in __getattr__\n",
      "    module = self._load()\n",
      "  File \"C:\\Users\\yasha\\Anaconda3\\lib\\site-packages\\tensorflow\\__init__.py\", line 45, in _load\n",
      "    self._parent_module_globals[self._local_name] = module\n",
      "RecursionError: maximum recursion depth exceeded while calling a Python object\n",
      "]\n",
      "[autoreload of tensorflow.python failed: Traceback (most recent call last):\n",
      "  File \"C:\\Users\\yasha\\Anaconda3\\lib\\site-packages\\IPython\\extensions\\autoreload.py\", line 245, in check\n",
      "    superreload(m, reload, self.old_objects)\n",
      "  File \"C:\\Users\\yasha\\Anaconda3\\lib\\site-packages\\IPython\\extensions\\autoreload.py\", line 394, in superreload\n",
      "    module = reload(module)\n",
      "  File \"C:\\Users\\yasha\\Anaconda3\\lib\\imp.py\", line 314, in reload\n",
      "    return importlib.reload(module)\n",
      "  File \"C:\\Users\\yasha\\Anaconda3\\lib\\importlib\\__init__.py\", line 142, in reload\n",
      "    name = module.__spec__.name\n",
      "  File \"C:\\Users\\yasha\\Anaconda3\\lib\\site-packages\\tensorflow\\__init__.py\", line 50, in __getattr__\n",
      "    module = self._load()\n",
      "  File \"C:\\Users\\yasha\\Anaconda3\\lib\\site-packages\\tensorflow\\__init__.py\", line 45, in _load\n",
      "    self._parent_module_globals[self._local_name] = module\n",
      "  File \"C:\\Users\\yasha\\Anaconda3\\lib\\site-packages\\tensorflow\\__init__.py\", line 50, in __getattr__\n",
      "    module = self._load()\n",
      "  File \"C:\\Users\\yasha\\Anaconda3\\lib\\site-packages\\tensorflow\\__init__.py\", line 45, in _load\n",
      "    self._parent_module_globals[self._local_name] = module\n",
      "  File \"C:\\Users\\yasha\\Anaconda3\\lib\\site-packages\\tensorflow\\__init__.py\", line 50, in __getattr__\n",
      "    module = self._load()\n",
      "  File \"C:\\Users\\yasha\\Anaconda3\\lib\\site-packages\\tensorflow\\__init__.py\", line 45, in _load\n",
      "    self._parent_module_globals[self._local_name] = module\n",
      "RecursionError: maximum recursion depth exceeded while calling a Python object\n",
      "]\n",
      "[autoreload of tensorflow.tools failed: Traceback (most recent call last):\n",
      "  File \"C:\\Users\\yasha\\Anaconda3\\lib\\site-packages\\IPython\\extensions\\autoreload.py\", line 245, in check\n",
      "    superreload(m, reload, self.old_objects)\n",
      "  File \"C:\\Users\\yasha\\Anaconda3\\lib\\site-packages\\IPython\\extensions\\autoreload.py\", line 394, in superreload\n",
      "    module = reload(module)\n",
      "  File \"C:\\Users\\yasha\\Anaconda3\\lib\\imp.py\", line 314, in reload\n",
      "    return importlib.reload(module)\n",
      "  File \"C:\\Users\\yasha\\Anaconda3\\lib\\importlib\\__init__.py\", line 142, in reload\n",
      "    name = module.__spec__.name\n",
      "  File \"C:\\Users\\yasha\\Anaconda3\\lib\\site-packages\\tensorflow\\__init__.py\", line 50, in __getattr__\n",
      "    module = self._load()\n",
      "  File \"C:\\Users\\yasha\\Anaconda3\\lib\\site-packages\\tensorflow\\__init__.py\", line 45, in _load\n",
      "    self._parent_module_globals[self._local_name] = module\n",
      "  File \"C:\\Users\\yasha\\Anaconda3\\lib\\site-packages\\tensorflow\\__init__.py\", line 50, in __getattr__\n",
      "    module = self._load()\n",
      "  File \"C:\\Users\\yasha\\Anaconda3\\lib\\site-packages\\tensorflow\\__init__.py\", line 45, in _load\n",
      "    self._parent_module_globals[self._local_name] = module\n",
      "  File \"C:\\Users\\yasha\\Anaconda3\\lib\\site-packages\\tensorflow\\__init__.py\", line 50, in __getattr__\n",
      "    module = self._load()\n",
      "  File \"C:\\Users\\yasha\\Anaconda3\\lib\\site-packages\\tensorflow\\__init__.py\", line 45, in _load\n",
      "    self._parent_module_globals[self._local_name] = module\n",
      "RecursionError: maximum recursion depth exceeded while calling a Python object\n",
      "]\n",
      "[autoreload of tensorflow.core failed: Traceback (most recent call last):\n",
      "  File \"C:\\Users\\yasha\\Anaconda3\\lib\\site-packages\\IPython\\extensions\\autoreload.py\", line 245, in check\n",
      "    superreload(m, reload, self.old_objects)\n",
      "  File \"C:\\Users\\yasha\\Anaconda3\\lib\\site-packages\\IPython\\extensions\\autoreload.py\", line 394, in superreload\n",
      "    module = reload(module)\n",
      "  File \"C:\\Users\\yasha\\Anaconda3\\lib\\imp.py\", line 314, in reload\n",
      "    return importlib.reload(module)\n",
      "  File \"C:\\Users\\yasha\\Anaconda3\\lib\\importlib\\__init__.py\", line 142, in reload\n",
      "    name = module.__spec__.name\n",
      "  File \"C:\\Users\\yasha\\Anaconda3\\lib\\site-packages\\tensorflow\\__init__.py\", line 50, in __getattr__\n",
      "    module = self._load()\n",
      "  File \"C:\\Users\\yasha\\Anaconda3\\lib\\site-packages\\tensorflow\\__init__.py\", line 45, in _load\n",
      "    self._parent_module_globals[self._local_name] = module\n",
      "  File \"C:\\Users\\yasha\\Anaconda3\\lib\\site-packages\\tensorflow\\__init__.py\", line 50, in __getattr__\n",
      "    module = self._load()\n",
      "  File \"C:\\Users\\yasha\\Anaconda3\\lib\\site-packages\\tensorflow\\__init__.py\", line 45, in _load\n",
      "    self._parent_module_globals[self._local_name] = module\n",
      "  File \"C:\\Users\\yasha\\Anaconda3\\lib\\site-packages\\tensorflow\\__init__.py\", line 50, in __getattr__\n",
      "    module = self._load()\n",
      "  File \"C:\\Users\\yasha\\Anaconda3\\lib\\site-packages\\tensorflow\\__init__.py\", line 45, in _load\n",
      "    self._parent_module_globals[self._local_name] = module\n",
      "RecursionError: maximum recursion depth exceeded while calling a Python object\n",
      "]\n",
      "[autoreload of tensorflow.compiler failed: Traceback (most recent call last):\n",
      "  File \"C:\\Users\\yasha\\Anaconda3\\lib\\site-packages\\IPython\\extensions\\autoreload.py\", line 245, in check\n",
      "    superreload(m, reload, self.old_objects)\n",
      "  File \"C:\\Users\\yasha\\Anaconda3\\lib\\site-packages\\IPython\\extensions\\autoreload.py\", line 394, in superreload\n",
      "    module = reload(module)\n",
      "  File \"C:\\Users\\yasha\\Anaconda3\\lib\\imp.py\", line 314, in reload\n",
      "    return importlib.reload(module)\n",
      "  File \"C:\\Users\\yasha\\Anaconda3\\lib\\importlib\\__init__.py\", line 142, in reload\n",
      "    name = module.__spec__.name\n",
      "  File \"C:\\Users\\yasha\\Anaconda3\\lib\\site-packages\\tensorflow\\__init__.py\", line 50, in __getattr__\n",
      "    module = self._load()\n",
      "  File \"C:\\Users\\yasha\\Anaconda3\\lib\\site-packages\\tensorflow\\__init__.py\", line 45, in _load\n",
      "    self._parent_module_globals[self._local_name] = module\n",
      "  File \"C:\\Users\\yasha\\Anaconda3\\lib\\site-packages\\tensorflow\\__init__.py\", line 50, in __getattr__\n",
      "    module = self._load()\n",
      "  File \"C:\\Users\\yasha\\Anaconda3\\lib\\site-packages\\tensorflow\\__init__.py\", line 45, in _load\n",
      "    self._parent_module_globals[self._local_name] = module\n",
      "  File \"C:\\Users\\yasha\\Anaconda3\\lib\\site-packages\\tensorflow\\__init__.py\", line 50, in __getattr__\n",
      "    module = self._load()\n",
      "  File \"C:\\Users\\yasha\\Anaconda3\\lib\\site-packages\\tensorflow\\__init__.py\", line 45, in _load\n",
      "    self._parent_module_globals[self._local_name] = module\n",
      "RecursionError: maximum recursion depth exceeded while calling a Python object\n",
      "]\n",
      "[autoreload of tensorflow.lite failed: Traceback (most recent call last):\n",
      "  File \"C:\\Users\\yasha\\Anaconda3\\lib\\site-packages\\IPython\\extensions\\autoreload.py\", line 245, in check\n",
      "    superreload(m, reload, self.old_objects)\n",
      "  File \"C:\\Users\\yasha\\Anaconda3\\lib\\site-packages\\IPython\\extensions\\autoreload.py\", line 394, in superreload\n",
      "    module = reload(module)\n",
      "  File \"C:\\Users\\yasha\\Anaconda3\\lib\\imp.py\", line 314, in reload\n",
      "    return importlib.reload(module)\n",
      "  File \"C:\\Users\\yasha\\Anaconda3\\lib\\importlib\\__init__.py\", line 142, in reload\n",
      "    name = module.__spec__.name\n",
      "  File \"C:\\Users\\yasha\\Anaconda3\\lib\\site-packages\\tensorflow\\__init__.py\", line 50, in __getattr__\n",
      "    module = self._load()\n",
      "  File \"C:\\Users\\yasha\\Anaconda3\\lib\\site-packages\\tensorflow\\__init__.py\", line 45, in _load\n",
      "    self._parent_module_globals[self._local_name] = module\n",
      "  File \"C:\\Users\\yasha\\Anaconda3\\lib\\site-packages\\tensorflow\\__init__.py\", line 50, in __getattr__\n",
      "    module = self._load()\n",
      "  File \"C:\\Users\\yasha\\Anaconda3\\lib\\site-packages\\tensorflow\\__init__.py\", line 45, in _load\n",
      "    self._parent_module_globals[self._local_name] = module\n",
      "  File \"C:\\Users\\yasha\\Anaconda3\\lib\\site-packages\\tensorflow\\__init__.py\", line 50, in __getattr__\n",
      "    module = self._load()\n",
      "  File \"C:\\Users\\yasha\\Anaconda3\\lib\\site-packages\\tensorflow\\__init__.py\", line 45, in _load\n",
      "    self._parent_module_globals[self._local_name] = module\n",
      "RecursionError: maximum recursion depth exceeded while calling a Python object\n",
      "]\n"
     ]
    },
    {
     "name": "stderr",
     "output_type": "stream",
     "text": [
      "[autoreload of tensorflow.keras failed: Traceback (most recent call last):\n",
      "  File \"C:\\Users\\yasha\\Anaconda3\\lib\\site-packages\\IPython\\extensions\\autoreload.py\", line 245, in check\n",
      "    superreload(m, reload, self.old_objects)\n",
      "  File \"C:\\Users\\yasha\\Anaconda3\\lib\\site-packages\\IPython\\extensions\\autoreload.py\", line 394, in superreload\n",
      "    module = reload(module)\n",
      "  File \"C:\\Users\\yasha\\Anaconda3\\lib\\imp.py\", line 314, in reload\n",
      "    return importlib.reload(module)\n",
      "  File \"C:\\Users\\yasha\\Anaconda3\\lib\\importlib\\__init__.py\", line 142, in reload\n",
      "    name = module.__spec__.name\n",
      "  File \"C:\\Users\\yasha\\Anaconda3\\lib\\site-packages\\tensorflow\\__init__.py\", line 50, in __getattr__\n",
      "    module = self._load()\n",
      "  File \"C:\\Users\\yasha\\Anaconda3\\lib\\site-packages\\tensorflow\\__init__.py\", line 45, in _load\n",
      "    self._parent_module_globals[self._local_name] = module\n",
      "  File \"C:\\Users\\yasha\\Anaconda3\\lib\\site-packages\\tensorflow\\__init__.py\", line 50, in __getattr__\n",
      "    module = self._load()\n",
      "  File \"C:\\Users\\yasha\\Anaconda3\\lib\\site-packages\\tensorflow\\__init__.py\", line 45, in _load\n",
      "    self._parent_module_globals[self._local_name] = module\n",
      "  File \"C:\\Users\\yasha\\Anaconda3\\lib\\site-packages\\tensorflow\\__init__.py\", line 50, in __getattr__\n",
      "    module = self._load()\n",
      "  File \"C:\\Users\\yasha\\Anaconda3\\lib\\site-packages\\tensorflow\\__init__.py\", line 45, in _load\n",
      "    self._parent_module_globals[self._local_name] = module\n",
      "RecursionError: maximum recursion depth exceeded while calling a Python object\n",
      "]\n",
      "[autoreload of tensorflow.compat failed: Traceback (most recent call last):\n",
      "  File \"C:\\Users\\yasha\\Anaconda3\\lib\\site-packages\\IPython\\extensions\\autoreload.py\", line 245, in check\n",
      "    superreload(m, reload, self.old_objects)\n",
      "  File \"C:\\Users\\yasha\\Anaconda3\\lib\\site-packages\\IPython\\extensions\\autoreload.py\", line 394, in superreload\n",
      "    module = reload(module)\n",
      "  File \"C:\\Users\\yasha\\Anaconda3\\lib\\imp.py\", line 314, in reload\n",
      "    return importlib.reload(module)\n",
      "  File \"C:\\Users\\yasha\\Anaconda3\\lib\\importlib\\__init__.py\", line 142, in reload\n",
      "    name = module.__spec__.name\n",
      "  File \"C:\\Users\\yasha\\Anaconda3\\lib\\site-packages\\tensorflow\\__init__.py\", line 50, in __getattr__\n",
      "    module = self._load()\n",
      "  File \"C:\\Users\\yasha\\Anaconda3\\lib\\site-packages\\tensorflow\\__init__.py\", line 45, in _load\n",
      "    self._parent_module_globals[self._local_name] = module\n",
      "  File \"C:\\Users\\yasha\\Anaconda3\\lib\\site-packages\\tensorflow\\__init__.py\", line 50, in __getattr__\n",
      "    module = self._load()\n",
      "  File \"C:\\Users\\yasha\\Anaconda3\\lib\\site-packages\\tensorflow\\__init__.py\", line 45, in _load\n",
      "    self._parent_module_globals[self._local_name] = module\n",
      "  File \"C:\\Users\\yasha\\Anaconda3\\lib\\site-packages\\tensorflow\\__init__.py\", line 50, in __getattr__\n",
      "    module = self._load()\n",
      "  File \"C:\\Users\\yasha\\Anaconda3\\lib\\site-packages\\tensorflow\\__init__.py\", line 45, in _load\n",
      "    self._parent_module_globals[self._local_name] = module\n",
      "RecursionError: maximum recursion depth exceeded while calling a Python object\n",
      "]\n",
      "[autoreload of tensorflow.examples failed: Traceback (most recent call last):\n",
      "  File \"C:\\Users\\yasha\\Anaconda3\\lib\\site-packages\\IPython\\extensions\\autoreload.py\", line 245, in check\n",
      "    superreload(m, reload, self.old_objects)\n",
      "  File \"C:\\Users\\yasha\\Anaconda3\\lib\\site-packages\\IPython\\extensions\\autoreload.py\", line 394, in superreload\n",
      "    module = reload(module)\n",
      "  File \"C:\\Users\\yasha\\Anaconda3\\lib\\imp.py\", line 314, in reload\n",
      "    return importlib.reload(module)\n",
      "  File \"C:\\Users\\yasha\\Anaconda3\\lib\\importlib\\__init__.py\", line 142, in reload\n",
      "    name = module.__spec__.name\n",
      "  File \"C:\\Users\\yasha\\Anaconda3\\lib\\site-packages\\tensorflow\\__init__.py\", line 50, in __getattr__\n",
      "    module = self._load()\n",
      "  File \"C:\\Users\\yasha\\Anaconda3\\lib\\site-packages\\tensorflow\\__init__.py\", line 45, in _load\n",
      "    self._parent_module_globals[self._local_name] = module\n",
      "  File \"C:\\Users\\yasha\\Anaconda3\\lib\\site-packages\\tensorflow\\__init__.py\", line 50, in __getattr__\n",
      "    module = self._load()\n",
      "  File \"C:\\Users\\yasha\\Anaconda3\\lib\\site-packages\\tensorflow\\__init__.py\", line 45, in _load\n",
      "    self._parent_module_globals[self._local_name] = module\n",
      "  File \"C:\\Users\\yasha\\Anaconda3\\lib\\site-packages\\tensorflow\\__init__.py\", line 50, in __getattr__\n",
      "    module = self._load()\n",
      "  File \"C:\\Users\\yasha\\Anaconda3\\lib\\site-packages\\tensorflow\\__init__.py\", line 45, in _load\n",
      "    self._parent_module_globals[self._local_name] = module\n",
      "RecursionError: maximum recursion depth exceeded while calling a Python object\n",
      "]\n",
      "[autoreload of tensorflow.core.framework.attr_value_pb2 failed: Traceback (most recent call last):\n",
      "  File \"C:\\Users\\yasha\\Anaconda3\\lib\\site-packages\\IPython\\extensions\\autoreload.py\", line 245, in check\n",
      "    superreload(m, reload, self.old_objects)\n",
      "  File \"C:\\Users\\yasha\\Anaconda3\\lib\\site-packages\\IPython\\extensions\\autoreload.py\", line 410, in superreload\n",
      "    update_generic(old_obj, new_obj)\n",
      "  File \"C:\\Users\\yasha\\Anaconda3\\lib\\site-packages\\IPython\\extensions\\autoreload.py\", line 347, in update_generic\n",
      "    update(a, b)\n",
      "  File \"C:\\Users\\yasha\\Anaconda3\\lib\\site-packages\\IPython\\extensions\\autoreload.py\", line 302, in update_class\n",
      "    if update_generic(old_obj, new_obj): continue\n",
      "  File \"C:\\Users\\yasha\\Anaconda3\\lib\\site-packages\\IPython\\extensions\\autoreload.py\", line 347, in update_generic\n",
      "    update(a, b)\n",
      "  File \"C:\\Users\\yasha\\Anaconda3\\lib\\site-packages\\IPython\\extensions\\autoreload.py\", line 317, in update_class\n",
      "    update_instances(old, new)\n",
      "  File \"C:\\Users\\yasha\\Anaconda3\\lib\\site-packages\\IPython\\extensions\\autoreload.py\", line 280, in update_instances\n",
      "    ref.__class__ = new\n",
      "TypeError: __class__ assignment: 'ListValue' object layout differs from 'ListValue'\n",
      "]\n",
      "[autoreload of tensorflow.core.framework.tensor_pb2 failed: Traceback (most recent call last):\n",
      "  File \"C:\\Users\\yasha\\Anaconda3\\lib\\site-packages\\IPython\\extensions\\autoreload.py\", line 245, in check\n",
      "    superreload(m, reload, self.old_objects)\n",
      "  File \"C:\\Users\\yasha\\Anaconda3\\lib\\site-packages\\IPython\\extensions\\autoreload.py\", line 410, in superreload\n",
      "    update_generic(old_obj, new_obj)\n",
      "  File \"C:\\Users\\yasha\\Anaconda3\\lib\\site-packages\\IPython\\extensions\\autoreload.py\", line 347, in update_generic\n",
      "    update(a, b)\n",
      "  File \"C:\\Users\\yasha\\Anaconda3\\lib\\site-packages\\IPython\\extensions\\autoreload.py\", line 317, in update_class\n",
      "    update_instances(old, new)\n",
      "  File \"C:\\Users\\yasha\\Anaconda3\\lib\\site-packages\\IPython\\extensions\\autoreload.py\", line 280, in update_instances\n",
      "    ref.__class__ = new\n",
      "TypeError: __class__ assignment: 'TensorProto' object layout differs from 'TensorProto'\n",
      "]\n",
      "[autoreload of tensorflow.core.framework.tensor_shape_pb2 failed: Traceback (most recent call last):\n",
      "  File \"C:\\Users\\yasha\\Anaconda3\\lib\\site-packages\\IPython\\extensions\\autoreload.py\", line 245, in check\n",
      "    superreload(m, reload, self.old_objects)\n",
      "  File \"C:\\Users\\yasha\\Anaconda3\\lib\\site-packages\\IPython\\extensions\\autoreload.py\", line 410, in superreload\n",
      "    update_generic(old_obj, new_obj)\n",
      "  File \"C:\\Users\\yasha\\Anaconda3\\lib\\site-packages\\IPython\\extensions\\autoreload.py\", line 347, in update_generic\n",
      "    update(a, b)\n",
      "  File \"C:\\Users\\yasha\\Anaconda3\\lib\\site-packages\\IPython\\extensions\\autoreload.py\", line 302, in update_class\n",
      "    if update_generic(old_obj, new_obj): continue\n",
      "  File \"C:\\Users\\yasha\\Anaconda3\\lib\\site-packages\\IPython\\extensions\\autoreload.py\", line 347, in update_generic\n",
      "    update(a, b)\n",
      "  File \"C:\\Users\\yasha\\Anaconda3\\lib\\site-packages\\IPython\\extensions\\autoreload.py\", line 317, in update_class\n",
      "    update_instances(old, new)\n",
      "  File \"C:\\Users\\yasha\\Anaconda3\\lib\\site-packages\\IPython\\extensions\\autoreload.py\", line 280, in update_instances\n",
      "    ref.__class__ = new\n",
      "TypeError: __class__ assignment: 'Dim' object layout differs from 'Dim'\n",
      "]\n",
      "[autoreload of tensorflow.core.framework.op_def_pb2 failed: Traceback (most recent call last):\n",
      "  File \"C:\\Users\\yasha\\Anaconda3\\lib\\site-packages\\IPython\\extensions\\autoreload.py\", line 245, in check\n",
      "    superreload(m, reload, self.old_objects)\n",
      "  File \"C:\\Users\\yasha\\Anaconda3\\lib\\site-packages\\IPython\\extensions\\autoreload.py\", line 410, in superreload\n",
      "    update_generic(old_obj, new_obj)\n",
      "  File \"C:\\Users\\yasha\\Anaconda3\\lib\\site-packages\\IPython\\extensions\\autoreload.py\", line 347, in update_generic\n",
      "    update(a, b)\n",
      "  File \"C:\\Users\\yasha\\Anaconda3\\lib\\site-packages\\IPython\\extensions\\autoreload.py\", line 302, in update_class\n",
      "    if update_generic(old_obj, new_obj): continue\n",
      "  File \"C:\\Users\\yasha\\Anaconda3\\lib\\site-packages\\IPython\\extensions\\autoreload.py\", line 347, in update_generic\n",
      "    update(a, b)\n",
      "  File \"C:\\Users\\yasha\\Anaconda3\\lib\\site-packages\\IPython\\extensions\\autoreload.py\", line 317, in update_class\n",
      "    update_instances(old, new)\n",
      "  File \"C:\\Users\\yasha\\Anaconda3\\lib\\site-packages\\IPython\\extensions\\autoreload.py\", line 280, in update_instances\n",
      "    ref.__class__ = new\n",
      "TypeError: __class__ assignment: 'ArgDef' object layout differs from 'ArgDef'\n",
      "]\n"
     ]
    },
    {
     "name": "stderr",
     "output_type": "stream",
     "text": [
      "[autoreload of tensorflow.python.framework.device_spec failed: Traceback (most recent call last):\n",
      "  File \"C:\\Users\\yasha\\Anaconda3\\lib\\site-packages\\IPython\\extensions\\autoreload.py\", line 245, in check\n",
      "    superreload(m, reload, self.old_objects)\n",
      "  File \"C:\\Users\\yasha\\Anaconda3\\lib\\site-packages\\IPython\\extensions\\autoreload.py\", line 410, in superreload\n",
      "    update_generic(old_obj, new_obj)\n",
      "  File \"C:\\Users\\yasha\\Anaconda3\\lib\\site-packages\\IPython\\extensions\\autoreload.py\", line 347, in update_generic\n",
      "    update(a, b)\n",
      "  File \"C:\\Users\\yasha\\Anaconda3\\lib\\site-packages\\IPython\\extensions\\autoreload.py\", line 317, in update_class\n",
      "    update_instances(old, new)\n",
      "  File \"C:\\Users\\yasha\\Anaconda3\\lib\\site-packages\\IPython\\extensions\\autoreload.py\", line 280, in update_instances\n",
      "    ref.__class__ = new\n",
      "TypeError: __class__ assignment: 'DeviceSpecV1' object layout differs from 'DeviceSpecV1'\n",
      "]\n"
     ]
    }
   ],
   "source": [
    "3//1"
   ]
  },
  {
   "cell_type": "code",
   "execution_count": 1,
   "metadata": {
    "ExecuteTime": {
     "end_time": "2019-11-18T15:04:25.229313Z",
     "start_time": "2019-11-18T15:04:22.073512Z"
    },
    "scrolled": true
   },
   "outputs": [],
   "source": [
    "!jt -t onedork -N -T -kl -f roboto -fs 115 -cursc r -cursw 4 -ofs 115 -cellw 100% -altp -m 200"
   ]
  },
  {
   "cell_type": "code",
   "execution_count": null,
   "metadata": {},
   "outputs": [],
   "source": []
  },
  {
   "cell_type": "code",
   "execution_count": null,
   "metadata": {},
   "outputs": [],
   "source": []
  },
  {
   "cell_type": "code",
   "execution_count": null,
   "metadata": {},
   "outputs": [],
   "source": []
  },
  {
   "cell_type": "code",
   "execution_count": null,
   "metadata": {},
   "outputs": [],
   "source": []
  },
  {
   "cell_type": "code",
   "execution_count": null,
   "metadata": {},
   "outputs": [],
   "source": []
  },
  {
   "cell_type": "code",
   "execution_count": null,
   "metadata": {},
   "outputs": [],
   "source": []
  },
  {
   "cell_type": "code",
   "execution_count": null,
   "metadata": {},
   "outputs": [],
   "source": []
  },
  {
   "cell_type": "code",
   "execution_count": null,
   "metadata": {},
   "outputs": [],
   "source": []
  },
  {
   "cell_type": "code",
   "execution_count": null,
   "metadata": {},
   "outputs": [],
   "source": []
  },
  {
   "cell_type": "code",
   "execution_count": null,
   "metadata": {},
   "outputs": [],
   "source": []
  },
  {
   "cell_type": "code",
   "execution_count": null,
   "metadata": {},
   "outputs": [],
   "source": []
  },
  {
   "cell_type": "code",
   "execution_count": null,
   "metadata": {},
   "outputs": [],
   "source": []
  },
  {
   "cell_type": "code",
   "execution_count": null,
   "metadata": {},
   "outputs": [],
   "source": []
  },
  {
   "cell_type": "code",
   "execution_count": null,
   "metadata": {},
   "outputs": [],
   "source": [
    "# create validation set from the training set.\n",
    "\n",
    "\n",
    "# make sure to batch normalize & renormalize across all the inputs\n",
    "\n",
    "# smaller batch size (32) leads to much better results"
   ]
  }
 ],
 "metadata": {
  "kernelspec": {
   "display_name": "Python 3",
   "language": "python",
   "name": "python3"
  },
  "language_info": {
   "codemirror_mode": {
    "name": "ipython",
    "version": 3
   },
   "file_extension": ".py",
   "mimetype": "text/x-python",
   "name": "python",
   "nbconvert_exporter": "python",
   "pygments_lexer": "ipython3",
   "version": "3.7.3"
  },
  "varInspector": {
   "cols": {
    "lenName": 16,
    "lenType": 16,
    "lenVar": 40
   },
   "kernels_config": {
    "python": {
     "delete_cmd_postfix": "",
     "delete_cmd_prefix": "del ",
     "library": "var_list.py",
     "varRefreshCmd": "print(var_dic_list())"
    },
    "r": {
     "delete_cmd_postfix": ") ",
     "delete_cmd_prefix": "rm(",
     "library": "var_list.r",
     "varRefreshCmd": "cat(var_dic_list()) "
    }
   },
   "types_to_exclude": [
    "module",
    "function",
    "builtin_function_or_method",
    "instance",
    "_Feature"
   ],
   "window_display": false
  }
 },
 "nbformat": 4,
 "nbformat_minor": 2
}
