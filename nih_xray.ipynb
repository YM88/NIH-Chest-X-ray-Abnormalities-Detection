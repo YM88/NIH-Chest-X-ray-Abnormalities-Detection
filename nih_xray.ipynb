{
 "cells": [
  {
   "cell_type": "markdown",
   "metadata": {},
   "source": [
    "# 0. Introduction\n",
    "NIH released the chest X-ray [dataset](https://www.nih.gov/news-events/news-releases/nih-clinical-center-provides-one-largest-publicly-available-chest-x-ray-datasets-scientific-community)\n",
    "Files are extracted in the **'data'** and and the images are extracted in the **'images'** folders.\n"
   ]
  },
  {
   "cell_type": "code",
   "execution_count": 39,
   "metadata": {
    "ExecuteTime": {
     "end_time": "2019-11-15T19:17:16.810794Z",
     "start_time": "2019-11-15T19:17:16.806793Z"
    }
   },
   "outputs": [],
   "source": [
    "# # Download the 56 zip files in Images_png in batches\n",
    "# import urllib\n",
    "\n",
    "# # URLs for the zip files\n",
    "# links = [\n",
    "#     'https://nihcc.box.com/shared/static/vfk49d74nhbxq3nqjg0900w5nvkorp5c.gz',\n",
    "#     'https://nihcc.box.com/shared/static/i28rlmbvmfjbl8p2n3ril0pptcmcu9d1.gz',\n",
    "#     'https://nihcc.box.com/shared/static/f1t00wrtdk94satdfb9olcolqx20z2jp.gz',\n",
    "#     'https://nihcc.box.com/shared/static/0aowwzs5lhjrceb3qp67ahp0rd1l1etg.gz',\n",
    "#     'https://nihcc.box.com/shared/static/v5e3goj22zr6h8tzualxfsqlqaygfbsn.gz',\n",
    "#     'https://nihcc.box.com/shared/static/asi7ikud9jwnkrnkj99jnpfkjdes7l6l.gz',\n",
    "#     'https://nihcc.box.com/shared/static/jn1b4mw4n6lnh74ovmcjb8y48h8xj07n.gz',\n",
    "#     'https://nihcc.box.com/shared/static/tvpxmn7qyrgl0w8wfh9kqfjskv6nmm1j.gz',\n",
    "#     'https://nihcc.box.com/shared/static/upyy3ml7qdumlgk2rfcvlb9k6gvqq2pj.gz',\n",
    "#     'https://nihcc.box.com/shared/static/l6nilvfa9cg3s28tqv1qc1olm3gnz54p.gz',\n",
    "#     'https://nihcc.box.com/shared/static/hhq8fkdgvcari67vfhs7ppg2w6ni4jze.gz',\n",
    "#     'https://nihcc.box.com/shared/static/ioqwiy20ihqwyr8pf4c24eazhh281pbu.gz'\n",
    "# ]\n",
    "\n",
    "# for idx, link in enumerate(links):\n",
    "#     fn = 'images_%02d.tar.gz' % (idx+1)\n",
    "#     print('downloading', fn, '...')\n",
    "#     urllib.request.urlretrieve(link, fn)  # download the zip file\n",
    "# print(\"Download complete. Please check the checksums\")"
   ]
  },
  {
   "cell_type": "markdown",
   "metadata": {},
   "source": [
    "## Loading Prerequisites and Libraries "
   ]
  },
  {
   "cell_type": "markdown",
   "metadata": {},
   "source": [
    "Standard Imports:  \n",
    "Plotly is configured to run in the offline mode.  \n",
    "Pandas is chosen to for manipulating csv files.  \n",
    "Numpy is for the arithmetic applications.\n",
    "\n",
    "Visualizations:  \n",
    "Most of the visualizations are done via matplotlib, seaborn and plotly.   \n",
    "\n",
    "Custom Functions:  \n",
    "All additional functions and code are written and imported from the **eda_xray.py** file."
   ]
  },
  {
   "cell_type": "code",
   "execution_count": 58,
   "metadata": {
    "ExecuteTime": {
     "end_time": "2019-11-17T17:04:03.172911Z",
     "start_time": "2019-11-17T17:03:59.637908Z"
    }
   },
   "outputs": [
    {
     "name": "stdout",
     "output_type": "stream",
     "text": [
      "The autoreload extension is already loaded. To reload it, use:\n",
      "  %reload_ext autoreload\n"
     ]
    },
    {
     "data": {
      "application/vnd.jupyter.widget-view+json": {
       "model_id": "38e8e9f85d5a45e0ab3d0682a4b86209",
       "version_major": 2,
       "version_minor": 0
      },
      "text/plain": [
       "ColorPicker(value='blue', description='Pick a color')"
      ]
     },
     "metadata": {},
     "output_type": "display_data"
    }
   ],
   "source": [
    "from IPython.core.interactiveshell import InteractiveShell\n",
    "from IPython.core.display import display, HTML\n",
    "import ipywidgets as widgets\n",
    "from ipywidgets import interact\n",
    "import plotly_express as px\n",
    "import plotly.graph_objs as go\n",
    "import plotly.offline\n",
    "%matplotlib inline\n",
    "import matplotlib.cm as cm  # allows us easy access to colormaps\n",
    "import matplotlib.pyplot as plt  # sets up plotting under plt\n",
    "import numpy as np\n",
    "import pandas as pd\n",
    "import seaborn as sns\n",
    "sns.set_style('whitegrid')\n",
    "sns.set_context(\"poster\")\n",
    "from itertools import chain\n",
    "from eda_xray import load_xray\n",
    "import os\n",
    "import shutil\n",
    "%load_ext autoreload\n",
    "%autoreload 2\n",
    "pd.set_option('display.width', 500)\n",
    "pd.set_option('display.max_columns', 100)\n",
    "pd.set_option('display.notebook_repr_html', True)\n",
    "pd.set_option('precision', 5)\n",
    "InteractiveShell.ast_node_interactivity = \"all\"\n",
    "# InteractiveShell.ast_node_interactivity = \"last_expr\"\n",
    "widgets.ColorPicker(\n",
    "    concise=False,\n",
    "    description='Pick a color',\n",
    "    value='blue',\n",
    "    disabled=False)"
   ]
  },
  {
   "cell_type": "markdown",
   "metadata": {},
   "source": [
    "There is a total of 112120 images on the NIH dataset."
   ]
  },
  {
   "cell_type": "code",
   "execution_count": 5,
   "metadata": {
    "ExecuteTime": {
     "end_time": "2019-11-17T16:27:33.250548Z",
     "start_time": "2019-11-17T16:27:32.720629Z"
    }
   },
   "outputs": [
    {
     "data": {
      "text/plain": [
       "112120"
      ]
     },
     "execution_count": 5,
     "metadata": {},
     "output_type": "execute_result"
    }
   ],
   "source": [
    "# creating image location and looking for the number of the images\n",
    "img_location = 'data/images'\n",
    "imgs = [file for file in os.listdir(img_location) if file.endswith('.png')]\n",
    "len(imgs)"
   ]
  },
  {
   "cell_type": "markdown",
   "metadata": {},
   "source": [
    "## Importing data and renaming/dropping columns\n",
    "\n",
    "The function **load_xray** does the following:\n",
    "1. imports the css\n",
    "2. renames the columns to lower letter\n",
    "3. drops the last empty column\n",
    "4. adds a new columns caled **'path'** that has the x-rays *image*.png* location"
   ]
  },
  {
   "cell_type": "code",
   "execution_count": 53,
   "metadata": {
    "ExecuteTime": {
     "end_time": "2019-11-17T17:02:49.395094Z",
     "start_time": "2019-11-17T17:02:48.614103Z"
    }
   },
   "outputs": [
    {
     "data": {
      "text/html": [
       "<div>\n",
       "<style scoped>\n",
       "    .dataframe tbody tr th:only-of-type {\n",
       "        vertical-align: middle;\n",
       "    }\n",
       "\n",
       "    .dataframe tbody tr th {\n",
       "        vertical-align: top;\n",
       "    }\n",
       "\n",
       "    .dataframe thead th {\n",
       "        text-align: right;\n",
       "    }\n",
       "</style>\n",
       "<table border=\"1\" class=\"dataframe\">\n",
       "  <thead>\n",
       "    <tr style=\"text-align: right;\">\n",
       "      <th></th>\n",
       "      <th>imgindex</th>\n",
       "      <th>label</th>\n",
       "      <th>followup</th>\n",
       "      <th>patientID</th>\n",
       "      <th>age</th>\n",
       "      <th>gender</th>\n",
       "      <th>viewposition</th>\n",
       "      <th>width</th>\n",
       "      <th>height]</th>\n",
       "      <th>x</th>\n",
       "      <th>y</th>\n",
       "      <th>path</th>\n",
       "    </tr>\n",
       "  </thead>\n",
       "  <tbody>\n",
       "    <tr>\n",
       "      <th>87230</th>\n",
       "      <td>00021541_000.png</td>\n",
       "      <td>Infiltration</td>\n",
       "      <td>0</td>\n",
       "      <td>21541</td>\n",
       "      <td>63</td>\n",
       "      <td>M</td>\n",
       "      <td>PA</td>\n",
       "      <td>2992</td>\n",
       "      <td>2991</td>\n",
       "      <td>0.143</td>\n",
       "      <td>0.143</td>\n",
       "      <td>data/images/00021541_000.png</td>\n",
       "    </tr>\n",
       "    <tr>\n",
       "      <th>6899</th>\n",
       "      <td>00001836_085.png</td>\n",
       "      <td>No Finding</td>\n",
       "      <td>85</td>\n",
       "      <td>1836</td>\n",
       "      <td>50</td>\n",
       "      <td>F</td>\n",
       "      <td>AP</td>\n",
       "      <td>2500</td>\n",
       "      <td>2048</td>\n",
       "      <td>0.168</td>\n",
       "      <td>0.168</td>\n",
       "      <td>data/images/00001836_085.png</td>\n",
       "    </tr>\n",
       "    <tr>\n",
       "      <th>47717</th>\n",
       "      <td>00012094_034.png</td>\n",
       "      <td>Infiltration</td>\n",
       "      <td>34</td>\n",
       "      <td>12094</td>\n",
       "      <td>63</td>\n",
       "      <td>F</td>\n",
       "      <td>PA</td>\n",
       "      <td>2500</td>\n",
       "      <td>2048</td>\n",
       "      <td>0.168</td>\n",
       "      <td>0.168</td>\n",
       "      <td>data/images/00012094_034.png</td>\n",
       "    </tr>\n",
       "    <tr>\n",
       "      <th>35978</th>\n",
       "      <td>00009493_000.png</td>\n",
       "      <td>Pleural_Thickening</td>\n",
       "      <td>0</td>\n",
       "      <td>9493</td>\n",
       "      <td>60</td>\n",
       "      <td>F</td>\n",
       "      <td>PA</td>\n",
       "      <td>2048</td>\n",
       "      <td>2500</td>\n",
       "      <td>0.168</td>\n",
       "      <td>0.168</td>\n",
       "      <td>data/images/00009493_000.png</td>\n",
       "    </tr>\n",
       "    <tr>\n",
       "      <th>18764</th>\n",
       "      <td>00004984_000.png</td>\n",
       "      <td>Infiltration</td>\n",
       "      <td>0</td>\n",
       "      <td>4984</td>\n",
       "      <td>24</td>\n",
       "      <td>F</td>\n",
       "      <td>PA</td>\n",
       "      <td>2048</td>\n",
       "      <td>2500</td>\n",
       "      <td>0.171</td>\n",
       "      <td>0.171</td>\n",
       "      <td>data/images/00004984_000.png</td>\n",
       "    </tr>\n",
       "  </tbody>\n",
       "</table>\n",
       "</div>"
      ],
      "text/plain": [
       "               imgindex               label  followup  patientID  age gender viewposition  width  height]      x      y                          path\n",
       "87230  00021541_000.png        Infiltration         0      21541   63      M           PA   2992     2991  0.143  0.143  data/images/00021541_000.png\n",
       "6899   00001836_085.png          No Finding        85       1836   50      F           AP   2500     2048  0.168  0.168  data/images/00001836_085.png\n",
       "47717  00012094_034.png        Infiltration        34      12094   63      F           PA   2500     2048  0.168  0.168  data/images/00012094_034.png\n",
       "35978  00009493_000.png  Pleural_Thickening         0       9493   60      F           PA   2048     2500  0.168  0.168  data/images/00009493_000.png\n",
       "18764  00004984_000.png        Infiltration         0       4984   24      F           PA   2048     2500  0.171  0.171  data/images/00004984_000.png"
      ]
     },
     "execution_count": 53,
     "metadata": {},
     "output_type": "execute_result"
    }
   ],
   "source": [
    "data = 'data/Data_Entry_2017.csv'\n",
    "df = load_xray(data)\n",
    "df.sample(5)"
   ]
  },
  {
   "cell_type": "markdown",
   "metadata": {},
   "source": [
    "There are 836 different combinations of labeling among the x-rays."
   ]
  },
  {
   "cell_type": "markdown",
   "metadata": {},
   "source": [
    "### Unique values of x-ray abnormalities and choosing a subset\n",
    "\n",
    "There 836 unique values in the labels and these values have several different groupings of the abnormalities. "
   ]
  },
  {
   "cell_type": "code",
   "execution_count": 54,
   "metadata": {
    "ExecuteTime": {
     "end_time": "2019-11-17T17:02:50.242738Z",
     "start_time": "2019-11-17T17:02:50.068144Z"
    }
   },
   "outputs": [
    {
     "data": {
      "text/plain": [
       "836"
      ]
     },
     "execution_count": 54,
     "metadata": {},
     "output_type": "execute_result"
    }
   ],
   "source": [
    "df.label.nunique()"
   ]
  },
  {
   "cell_type": "markdown",
   "metadata": {},
   "source": [
    "If we don't the consider the multilabel abnormalities, we'd have 14 labels plus the *'No Finding'* classification."
   ]
  },
  {
   "cell_type": "code",
   "execution_count": 59,
   "metadata": {
    "ExecuteTime": {
     "end_time": "2019-11-17T17:04:09.185792Z",
     "start_time": "2019-11-17T17:04:07.887320Z"
    },
    "cell_style": "center"
   },
   "outputs": [
    {
     "name": "stdout",
     "output_type": "stream",
     "text": [
      "No Finding            60361\n",
      "Infiltration           9547\n",
      "Atelectasis            4215\n",
      "Effusion               3955\n",
      "Nodule                 2705\n",
      "Pneumothorax           2194\n",
      "Mass                   2139\n",
      "Consolidation          1310\n",
      "Pleural_Thickening     1126\n",
      "Cardiomegaly           1093\n",
      "Emphysema               892\n",
      "Fibrosis                727\n",
      "Edema                   628\n",
      "Pneumonia               322\n",
      "Hernia                  110\n",
      "Name: label, dtype: int64\n"
     ]
    },
    {
     "data": {
      "image/png": "[encoded data removed]",
      "text/plain": [
       "<Figure size 1440x360 with 1 Axes>"
      ]
     },
     "metadata": {},
     "output_type": "display_data"
    }
   ],
   "source": [
    "print(df[df.label.isin(['No Finding', 'Atelectasis', 'Cardiomegaly', 'Consolidation',\n",
    "                  'Edema', 'Effusion', 'Emphysema', 'Fibrosis', 'Hernia',\n",
    "                  'Infiltration', 'Mass', 'Nodule', 'Pleural_Thickening', 'Pneumonia',\n",
    "                  'Pneumothorax'])].label.value_counts())\n",
    "df[df.label.isin(['No Finding', 'Atelectasis', 'Cardiomegaly', 'Consolidation',\n",
    "                  'Edema', 'Effusion', 'Emphysema', 'Fibrosis', 'Hernia',\n",
    "                  'Infiltration', 'Mass', 'Nodule', 'Pleural_Thickening', 'Pneumonia',\n",
    "                  'Pneumothorax'])].label.value_counts().plot(kind='bar',\n",
    "                                                              figsize=(20, 5),\n",
    "                                                              title='Value Counts in Single Label Categories of Chest X-rays');"
   ]
  },
  {
   "cell_type": "markdown",
   "metadata": {},
   "source": [
    "By Looking at the dataset we can see there's more than 60,000 values for the *'No Finding'* label.\n",
    "To have a subset we randomly sample 10,000 values of this label and concat with the other single labels."
   ]
  },
  {
   "cell_type": "code",
   "execution_count": 56,
   "metadata": {
    "ExecuteTime": {
     "end_time": "2019-11-17T17:02:53.319163Z",
     "start_time": "2019-11-17T17:02:53.019462Z"
    }
   },
   "outputs": [],
   "source": [
    "df_subset = pd.concat((df[df.label == 'No Finding'].sample(10000, random_state=42),\n",
    "                       df[df.label.isin(['Atelectasis','Cardiomegaly','Consolidation',\n",
    "                                         'Edema','Effusion','Emphysema','Fibrosis',\n",
    "                                         'Hernia','Infiltration','Mass','Nodule',\n",
    "                                         'Pleural_Thickening','Pneumonia','Pneumothorax'])]))"
   ]
  },
  {
   "cell_type": "code",
   "execution_count": 60,
   "metadata": {
    "ExecuteTime": {
     "end_time": "2019-11-17T17:04:22.074357Z",
     "start_time": "2019-11-17T17:04:20.877264Z"
    }
   },
   "outputs": [
    {
     "name": "stdout",
     "output_type": "stream",
     "text": [
      "No Finding            10000\n",
      "Infiltration           9547\n",
      "Atelectasis            4215\n",
      "Effusion               3955\n",
      "Nodule                 2705\n",
      "Pneumothorax           2194\n",
      "Mass                   2139\n",
      "Consolidation          1310\n",
      "Pleural_Thickening     1126\n",
      "Cardiomegaly           1093\n",
      "Emphysema               892\n",
      "Fibrosis                727\n",
      "Edema                   628\n",
      "Pneumonia               322\n",
      "Hernia                  110\n",
      "Name: label, dtype: int64\n"
     ]
    },
    {
     "data": {
      "image/png": "[encoded data removed]",
      "text/plain": [
       "<Figure size 1440x360 with 1 Axes>"
      ]
     },
     "metadata": {},
     "output_type": "display_data"
    }
   ],
   "source": [
    "print(df_subset.label.value_counts())\n",
    "df_subset.label.value_counts().plot(kind='bar',\n",
    "                                    figsize=(20, 5),\n",
    "                                    color='g',\n",
    "                                    title='Subset Value Counts in Single Label Categories of Chest X-rays');\n"
   ]
  },
  {
   "cell_type": "markdown",
   "metadata": {},
   "source": [
    "The created subset has a total of 40963 values, which close to a third of the original dataset. Thus in total we have chosen **%36.53** of the original dataframe. "
   ]
  },
  {
   "cell_type": "code",
   "execution_count": 19,
   "metadata": {
    "ExecuteTime": {
     "end_time": "2019-11-17T16:32:50.131826Z",
     "start_time": "2019-11-17T16:32:49.971823Z"
    }
   },
   "outputs": [
    {
     "name": "stdout",
     "output_type": "stream",
     "text": [
      "# of rows in the subset dataframe:  40963\n",
      "\n",
      "# of rows in the original dataframe:  112120\n",
      "\n",
      "percentage subset of the original:  36.53496254013557\n"
     ]
    }
   ],
   "source": [
    "print('# of rows in the subset dataframe: ', df_subset.shape[0])\n",
    "print('\\n# of rows in the original dataframe: ', df.shape[0])\n",
    "print('\\npercentage subset of the original: ', df_subset.shape[0]/df.shape[0]*100)"
   ]
  },
  {
   "cell_type": "markdown",
   "metadata": {},
   "source": [
    "## Output to CSV & Pickle & HD5"
   ]
  },
  {
   "cell_type": "code",
   "execution_count": null,
   "metadata": {},
   "outputs": [],
   "source": []
  },
  {
   "cell_type": "code",
   "execution_count": 38,
   "metadata": {
    "ExecuteTime": {
     "end_time": "2019-11-17T16:46:22.799101Z",
     "start_time": "2019-11-17T16:46:22.635362Z"
    }
   },
   "outputs": [],
   "source": [
    "#overwriting the df variable name with the df_subset for easier manipulation\n",
    "df = df_subset"
   ]
  },
  {
   "cell_type": "markdown",
   "metadata": {},
   "source": [
    "\n",
    "## CLAHE - Contrast Limited Adaptive Histogram Equalization  \n",
    "\n",
    "We apply the CLAHE [(Contrast Limited Adaptive Histogram Equalization)](https://en.wikipedia.org/wiki/Adaptive_histogram_equalization) method, which is a popular image processing method to improve contrast in images and limit the noise amplification of the regular adaptive method.\n"
   ]
  },
  {
   "cell_type": "code",
   "execution_count": 20,
   "metadata": {
    "ExecuteTime": {
     "end_time": "2019-11-17T16:33:05.286640Z",
     "start_time": "2019-11-17T16:33:04.272075Z"
    }
   },
   "outputs": [],
   "source": [
    "from cv2 import imread, imwrite,imshow,  createCLAHE, equalizeHist # read and equalize images\n",
    "import numpy as np"
   ]
  },
  {
   "cell_type": "code",
   "execution_count": 46,
   "metadata": {
    "ExecuteTime": {
     "end_time": "2019-11-17T16:51:19.705743Z",
     "start_time": "2019-11-17T16:50:58.880518Z"
    }
   },
   "outputs": [
    {
     "data": {
      "text/plain": [
       "[<matplotlib.lines.Line2D at 0x208a5b624e0>]"
      ]
     },
     "execution_count": 46,
     "metadata": {},
     "output_type": "execute_result"
    },
    {
     "data": {
      "text/plain": [
       "(array([20027.,   951.,  1122.,  2154.,  4369.,  5131.,  4594.,  6260.,\n",
       "         8356., 25956.,  9749.,  2026.,  2157.,  2552.,  2589.,  2735.,\n",
       "         2727.,  2756.,  2921.,  3138.,  3432.,  3600.,  3643.,  3901.,\n",
       "         3895.,  4011.,  4114.,  4324.,  4388.,  4679.,  4791.,  5010.,\n",
       "         5078.,  4781.,  4685.,  4581.,  4529.,  4434.,  4335.,  4228.,\n",
       "         4126.,  4108.,  3965.,  3816.,  3714.,  3686.,  3668.,  3686.,\n",
       "         3490.,  3503.,  3489.,  3442.,  3540.,  3572.,  3686.,  3635.,\n",
       "         3709.,  3604.,  3674.,  3828.,  3820.,  3848.,  3870.,  3832.,\n",
       "         3885.,  3988.,  4048.,  4038.,  4148.,  4086.,  3881.,  3881.,\n",
       "         3715.,  3800.,  3689.,  3731.,  3618.,  3639.,  3535.,  3729.,\n",
       "         3714.,  3794.,  3919.,  3877.,  3886.,  3963.,  3650.,  3801.,\n",
       "         3830.,  3733.,  3840.,  3787.,  3788.,  3610.,  3650.,  3664.,\n",
       "         3590.,  3750.,  3528.,  3719.,  3748.,  3833.,  3650.,  3571.,\n",
       "         3618.,  3581.,  3448.,  3382.,  3459.,  3326.,  3400.,  3283.,\n",
       "         3412.,  3295.,  3278.,  3229.,  3372.,  3190.,  3209.,  3233.,\n",
       "         3370.,  3353.,  3478.,  3582.,  3681.,  3736.,  3752.,  3876.,\n",
       "         3748.,  3645.,  3534.,  3367.,  3321.,  3143.,  3100.,  3040.,\n",
       "         3076.,  2978.,  2943.,  3039.,  3036.,  3087.,  3267.,  3362.,\n",
       "         3404.,  3471.,  3547.,  3654.,  3884.,  4048.,  4095.,  4205.,\n",
       "         4298.,  4301.,  4420.,  4318.,  4320.,  4346.,  4262.,  4141.,\n",
       "         4016.,  4097.,  3900.,  4017.,  4030.,  4028.,  4222.,  4330.,\n",
       "         4245.,  4314.,  4135.,  4256.,  4196.,  4306.,  4426.,  4446.,\n",
       "         4683.,  4812.,  4919.,  4953.,  5221.,  5198.,  5359.,  5630.,\n",
       "         5619.,  5827.,  5653.,  5842.,  5818.,  5619.,  5735.,  5952.,\n",
       "         6099.,  6490.,  6954.,  7427.,  7477.,  7476.,  7439.,  7217.,\n",
       "         7028.,  6777.,  6930.,  7213.,  7534.,  7447.,  7219.,  7225.,\n",
       "         7140.,  7227.,  7332.,  7506.,  7528.,  7355.,  7175.,  6781.,\n",
       "         6305.,  6033.,  5742.,  5575.,  5399.,  5505.,  5625.,  5510.,\n",
       "         5196.,  4615.,  3816.,  3124.,  2707.,  2128.,  2031.,  1878.,\n",
       "         1807.,  1645.,  1493.,  1300.,  1037.,   870.,   730.,   625.,\n",
       "          477.,   337.,   248.,   200.,   171.,   186.,   159.,   188.,\n",
       "          239.,   268.,   318.,   296.,   310.,   226.,   145.,    43.]),\n",
       " array([  0.,   1.,   2.,   3.,   4.,   5.,   6.,   7.,   8.,   9.,  10.,\n",
       "         11.,  12.,  13.,  14.,  15.,  16.,  17.,  18.,  19.,  20.,  21.,\n",
       "         22.,  23.,  24.,  25.,  26.,  27.,  28.,  29.,  30.,  31.,  32.,\n",
       "         33.,  34.,  35.,  36.,  37.,  38.,  39.,  40.,  41.,  42.,  43.,\n",
       "         44.,  45.,  46.,  47.,  48.,  49.,  50.,  51.,  52.,  53.,  54.,\n",
       "         55.,  56.,  57.,  58.,  59.,  60.,  61.,  62.,  63.,  64.,  65.,\n",
       "         66.,  67.,  68.,  69.,  70.,  71.,  72.,  73.,  74.,  75.,  76.,\n",
       "         77.,  78.,  79.,  80.,  81.,  82.,  83.,  84.,  85.,  86.,  87.,\n",
       "         88.,  89.,  90.,  91.,  92.,  93.,  94.,  95.,  96.,  97.,  98.,\n",
       "         99., 100., 101., 102., 103., 104., 105., 106., 107., 108., 109.,\n",
       "        110., 111., 112., 113., 114., 115., 116., 117., 118., 119., 120.,\n",
       "        121., 122., 123., 124., 125., 126., 127., 128., 129., 130., 131.,\n",
       "        132., 133., 134., 135., 136., 137., 138., 139., 140., 141., 142.,\n",
       "        143., 144., 145., 146., 147., 148., 149., 150., 151., 152., 153.,\n",
       "        154., 155., 156., 157., 158., 159., 160., 161., 162., 163., 164.,\n",
       "        165., 166., 167., 168., 169., 170., 171., 172., 173., 174., 175.,\n",
       "        176., 177., 178., 179., 180., 181., 182., 183., 184., 185., 186.,\n",
       "        187., 188., 189., 190., 191., 192., 193., 194., 195., 196., 197.,\n",
       "        198., 199., 200., 201., 202., 203., 204., 205., 206., 207., 208.,\n",
       "        209., 210., 211., 212., 213., 214., 215., 216., 217., 218., 219.,\n",
       "        220., 221., 222., 223., 224., 225., 226., 227., 228., 229., 230.,\n",
       "        231., 232., 233., 234., 235., 236., 237., 238., 239., 240., 241.,\n",
       "        242., 243., 244., 245., 246., 247., 248., 249., 250., 251., 252.,\n",
       "        253., 254., 255., 256.]),\n",
       " <a list of 256 Patch objects>)"
      ]
     },
     "execution_count": 46,
     "metadata": {},
     "output_type": "execute_result"
    },
    {
     "data": {
      "text/plain": [
       "(0, 256)"
      ]
     },
     "execution_count": 46,
     "metadata": {},
     "output_type": "execute_result"
    },
    {
     "data": {
      "text/plain": [
       "<matplotlib.legend.Legend at 0x208a5b62908>"
      ]
     },
     "execution_count": 46,
     "metadata": {},
     "output_type": "execute_result"
    },
    {
     "data": {
      "image/png": "[encoded data removed]",
      "text/plain": [
       "<Figure size 432x288 with 1 Axes>"
      ]
     },
     "metadata": {
      "needs_background": "light"
     },
     "output_type": "display_data"
    },
    {
     "data": {
      "text/plain": [
       "[<matplotlib.lines.Line2D at 0x2089d29a6a0>]"
      ]
     },
     "execution_count": 46,
     "metadata": {},
     "output_type": "execute_result"
    },
    {
     "data": {
      "text/plain": [
       "(array([1.07113e+05, 7.25620e+04, 4.52900e+03, 2.23600e+03, 2.25000e+03,\n",
       "        2.17100e+03, 2.11400e+03, 1.94800e+03, 2.09000e+03, 1.99900e+03,\n",
       "        1.89700e+03, 1.94800e+03, 1.97000e+03, 1.93300e+03, 1.93700e+03,\n",
       "        1.96400e+03, 2.00300e+03, 2.09800e+03, 2.22600e+03, 2.43500e+03,\n",
       "        2.43600e+03, 2.46700e+03, 2.65300e+03, 2.65200e+03, 2.75700e+03,\n",
       "        2.75500e+03, 2.80300e+03, 2.95600e+03, 3.12400e+03, 3.18400e+03,\n",
       "        3.29200e+03, 3.40100e+03, 3.37200e+03, 3.47000e+03, 3.47500e+03,\n",
       "        3.48600e+03, 3.68300e+03, 3.72500e+03, 4.01700e+03, 3.83300e+03,\n",
       "        3.85500e+03, 3.53000e+03, 3.55400e+03, 3.59500e+03, 3.64000e+03,\n",
       "        3.59600e+03, 3.59600e+03, 3.69600e+03, 3.70100e+03, 3.73500e+03,\n",
       "        3.71200e+03, 3.81500e+03, 3.83800e+03, 3.97300e+03, 3.91100e+03,\n",
       "        4.03800e+03, 4.15100e+03, 4.15800e+03, 4.08300e+03, 4.12400e+03,\n",
       "        4.01800e+03, 4.04100e+03, 4.14900e+03, 4.13400e+03, 4.11500e+03,\n",
       "        4.18000e+03, 4.25600e+03, 4.07100e+03, 4.08700e+03, 4.01000e+03,\n",
       "        3.95300e+03, 4.06500e+03, 4.04500e+03, 4.06900e+03, 4.15700e+03,\n",
       "        4.01700e+03, 4.20300e+03, 4.14800e+03, 4.29100e+03, 4.25400e+03,\n",
       "        4.32400e+03, 4.34200e+03, 4.60100e+03, 4.80800e+03, 4.75400e+03,\n",
       "        4.80300e+03, 4.88500e+03, 4.77500e+03, 4.95700e+03, 4.66000e+03,\n",
       "        4.80500e+03, 4.85700e+03, 4.84500e+03, 5.06900e+03, 4.90500e+03,\n",
       "        4.84700e+03, 5.03000e+03, 4.93500e+03, 5.18700e+03, 5.36000e+03,\n",
       "        5.55300e+03, 5.70500e+03, 5.71300e+03, 5.81800e+03, 5.86900e+03,\n",
       "        5.77800e+03, 5.68600e+03, 5.60800e+03, 5.46300e+03, 5.38500e+03,\n",
       "        5.35900e+03, 5.36200e+03, 5.45000e+03, 5.44900e+03, 5.48100e+03,\n",
       "        5.62000e+03, 5.64500e+03, 5.54700e+03, 5.57300e+03, 5.40400e+03,\n",
       "        5.38900e+03, 5.22200e+03, 5.33800e+03, 5.28200e+03, 4.92900e+03,\n",
       "        5.03500e+03, 4.98600e+03, 4.81400e+03, 4.75900e+03, 4.58300e+03,\n",
       "        4.44800e+03, 4.22500e+03, 4.29800e+03, 4.22000e+03, 4.14900e+03,\n",
       "        4.10600e+03, 3.96300e+03, 4.10600e+03, 4.03000e+03, 4.03300e+03,\n",
       "        3.94100e+03, 3.90500e+03, 3.90800e+03, 3.88000e+03, 3.69300e+03,\n",
       "        3.49200e+03, 3.39000e+03, 3.19700e+03, 3.19700e+03, 3.07600e+03,\n",
       "        3.00500e+03, 2.96200e+03, 2.94600e+03, 2.84900e+03, 2.74700e+03,\n",
       "        2.82800e+03, 2.79100e+03, 2.79500e+03, 2.94600e+03, 2.93000e+03,\n",
       "        3.04100e+03, 2.99400e+03, 3.04400e+03, 3.12900e+03, 3.24200e+03,\n",
       "        3.03400e+03, 3.06900e+03, 3.11500e+03, 3.14700e+03, 2.96100e+03,\n",
       "        3.04900e+03, 3.03700e+03, 3.10500e+03, 3.17300e+03, 3.07000e+03,\n",
       "        3.20900e+03, 3.33700e+03, 3.39200e+03, 3.54200e+03, 3.50800e+03,\n",
       "        3.56600e+03, 3.74300e+03, 3.67500e+03, 3.77600e+03, 3.81200e+03,\n",
       "        3.94800e+03, 3.92800e+03, 3.94700e+03, 3.84500e+03, 3.77000e+03,\n",
       "        3.68000e+03, 3.59300e+03, 3.59300e+03, 3.54400e+03, 3.44100e+03,\n",
       "        3.45800e+03, 3.49100e+03, 3.47000e+03, 3.39300e+03, 3.41800e+03,\n",
       "        3.58400e+03, 3.58900e+03, 3.69500e+03, 3.66500e+03, 3.79900e+03,\n",
       "        3.79100e+03, 3.89200e+03, 4.04900e+03, 3.96100e+03, 4.05100e+03,\n",
       "        3.75900e+03, 3.71900e+03, 3.52500e+03, 3.39600e+03, 3.31600e+03,\n",
       "        3.34000e+03, 3.29500e+03, 3.37200e+03, 3.37900e+03, 3.20300e+03,\n",
       "        3.11800e+03, 2.86100e+03, 2.73400e+03, 2.54200e+03, 2.27100e+03,\n",
       "        2.10000e+03, 1.98500e+03, 1.87000e+03, 1.81800e+03, 1.66400e+03,\n",
       "        1.66900e+03, 1.44900e+03, 1.28000e+03, 1.14100e+03, 1.06900e+03,\n",
       "        8.00000e+02, 7.14000e+02, 5.83000e+02, 4.42000e+02, 3.29000e+02,\n",
       "        2.83000e+02, 2.15000e+02, 1.58000e+02, 1.47000e+02, 9.20000e+01,\n",
       "        9.20000e+01, 8.00000e+01, 5.40000e+01, 4.80000e+01, 3.30000e+01,\n",
       "        1.70000e+01, 2.10000e+01, 8.00000e+00, 2.00000e+01, 1.40000e+01,\n",
       "        4.80000e+01]),\n",
       " array([  0.,   1.,   2.,   3.,   4.,   5.,   6.,   7.,   8.,   9.,  10.,\n",
       "         11.,  12.,  13.,  14.,  15.,  16.,  17.,  18.,  19.,  20.,  21.,\n",
       "         22.,  23.,  24.,  25.,  26.,  27.,  28.,  29.,  30.,  31.,  32.,\n",
       "         33.,  34.,  35.,  36.,  37.,  38.,  39.,  40.,  41.,  42.,  43.,\n",
       "         44.,  45.,  46.,  47.,  48.,  49.,  50.,  51.,  52.,  53.,  54.,\n",
       "         55.,  56.,  57.,  58.,  59.,  60.,  61.,  62.,  63.,  64.,  65.,\n",
       "         66.,  67.,  68.,  69.,  70.,  71.,  72.,  73.,  74.,  75.,  76.,\n",
       "         77.,  78.,  79.,  80.,  81.,  82.,  83.,  84.,  85.,  86.,  87.,\n",
       "         88.,  89.,  90.,  91.,  92.,  93.,  94.,  95.,  96.,  97.,  98.,\n",
       "         99., 100., 101., 102., 103., 104., 105., 106., 107., 108., 109.,\n",
       "        110., 111., 112., 113., 114., 115., 116., 117., 118., 119., 120.,\n",
       "        121., 122., 123., 124., 125., 126., 127., 128., 129., 130., 131.,\n",
       "        132., 133., 134., 135., 136., 137., 138., 139., 140., 141., 142.,\n",
       "        143., 144., 145., 146., 147., 148., 149., 150., 151., 152., 153.,\n",
       "        154., 155., 156., 157., 158., 159., 160., 161., 162., 163., 164.,\n",
       "        165., 166., 167., 168., 169., 170., 171., 172., 173., 174., 175.,\n",
       "        176., 177., 178., 179., 180., 181., 182., 183., 184., 185., 186.,\n",
       "        187., 188., 189., 190., 191., 192., 193., 194., 195., 196., 197.,\n",
       "        198., 199., 200., 201., 202., 203., 204., 205., 206., 207., 208.,\n",
       "        209., 210., 211., 212., 213., 214., 215., 216., 217., 218., 219.,\n",
       "        220., 221., 222., 223., 224., 225., 226., 227., 228., 229., 230.,\n",
       "        231., 232., 233., 234., 235., 236., 237., 238., 239., 240., 241.,\n",
       "        242., 243., 244., 245., 246., 247., 248., 249., 250., 251., 252.,\n",
       "        253., 254., 255., 256.]),\n",
       " <a list of 256 Patch objects>)"
      ]
     },
     "execution_count": 46,
     "metadata": {},
     "output_type": "execute_result"
    },
    {
     "data": {
      "text/plain": [
       "(0, 256)"
      ]
     },
     "execution_count": 46,
     "metadata": {},
     "output_type": "execute_result"
    },
    {
     "data": {
      "text/plain": [
       "<matplotlib.legend.Legend at 0x2089d29a7f0>"
      ]
     },
     "execution_count": 46,
     "metadata": {},
     "output_type": "execute_result"
    },
    {
     "data": {
      "image/png": "[encoded data removed]",
      "text/plain": [
       "<Figure size 432x288 with 1 Axes>"
      ]
     },
     "metadata": {
      "needs_background": "light"
     },
     "output_type": "display_data"
    },
    {
     "data": {
      "text/plain": [
       "[<matplotlib.lines.Line2D at 0x208a7652828>]"
      ]
     },
     "execution_count": 46,
     "metadata": {},
     "output_type": "execute_result"
    },
    {
     "data": {
      "text/plain": [
       "(array([2.1536e+04, 1.9000e+02, 9.4500e+02, 2.2400e+03, 3.0970e+03,\n",
       "        4.4620e+03, 5.7990e+03, 5.8950e+03, 7.2300e+03, 7.7860e+03,\n",
       "        9.8430e+03, 1.0467e+04, 6.2320e+03, 2.7160e+03, 1.6420e+03,\n",
       "        1.4760e+03, 1.4200e+03, 1.4150e+03, 1.4190e+03, 1.3570e+03,\n",
       "        1.2510e+03, 1.2400e+03, 1.1450e+03, 1.0230e+03, 1.0580e+03,\n",
       "        9.5100e+02, 9.4700e+02, 9.5200e+02, 9.5200e+02, 1.0270e+03,\n",
       "        1.0470e+03, 1.1610e+03, 1.1020e+03, 1.1990e+03, 1.2910e+03,\n",
       "        1.3810e+03, 1.4920e+03, 1.5850e+03, 1.5660e+03, 1.7640e+03,\n",
       "        1.8080e+03, 2.0030e+03, 2.2540e+03, 2.2110e+03, 2.2880e+03,\n",
       "        2.5150e+03, 2.6360e+03, 2.7270e+03, 2.9650e+03, 3.0660e+03,\n",
       "        3.2170e+03, 3.3630e+03, 3.3460e+03, 3.3380e+03, 3.4530e+03,\n",
       "        3.4800e+03, 3.4350e+03, 3.5600e+03, 3.6000e+03, 3.7610e+03,\n",
       "        3.7940e+03, 4.1060e+03, 4.1830e+03, 4.3020e+03, 4.2700e+03,\n",
       "        4.5400e+03, 4.5770e+03, 4.7620e+03, 4.8630e+03, 4.9920e+03,\n",
       "        5.1510e+03, 5.3390e+03, 5.4890e+03, 5.4630e+03, 5.7480e+03,\n",
       "        5.7770e+03, 5.8610e+03, 6.0670e+03, 6.0970e+03, 6.3530e+03,\n",
       "        6.6160e+03, 6.5590e+03, 6.4450e+03, 6.2820e+03, 6.1510e+03,\n",
       "        6.0880e+03, 5.9510e+03, 5.9190e+03, 5.8640e+03, 5.8020e+03,\n",
       "        5.4230e+03, 5.2410e+03, 5.0180e+03, 5.0330e+03, 5.0050e+03,\n",
       "        5.0020e+03, 4.9080e+03, 5.0180e+03, 4.9280e+03, 5.0450e+03,\n",
       "        4.9530e+03, 4.8320e+03, 4.8820e+03, 4.8810e+03, 5.0100e+03,\n",
       "        5.0850e+03, 5.0560e+03, 5.1970e+03, 5.3540e+03, 5.5720e+03,\n",
       "        5.6690e+03, 5.9750e+03, 6.2290e+03, 6.4060e+03, 6.6090e+03,\n",
       "        6.7600e+03, 7.0710e+03, 7.1780e+03, 7.3240e+03, 7.3830e+03,\n",
       "        7.6330e+03, 7.9350e+03, 8.1980e+03, 8.1730e+03, 8.1770e+03,\n",
       "        8.6660e+03, 8.8680e+03, 9.1480e+03, 9.5370e+03, 9.6550e+03,\n",
       "        1.0007e+04, 1.0070e+04, 1.0210e+04, 1.0575e+04, 1.0800e+04,\n",
       "        1.0702e+04, 1.1020e+04, 1.0643e+04, 1.0375e+04, 1.0326e+04,\n",
       "        1.0227e+04, 1.0312e+04, 1.0190e+04, 1.0205e+04, 1.0216e+04,\n",
       "        1.0173e+04, 1.0119e+04, 1.0198e+04, 1.0157e+04, 1.0150e+04,\n",
       "        1.0145e+04, 1.0048e+04, 9.8630e+03, 9.5940e+03, 9.4680e+03,\n",
       "        9.4220e+03, 9.0820e+03, 8.7270e+03, 8.2920e+03, 7.6140e+03,\n",
       "        7.2840e+03, 6.8700e+03, 6.6480e+03, 6.6300e+03, 6.5930e+03,\n",
       "        6.4570e+03, 6.6530e+03, 6.7540e+03, 7.3510e+03, 7.6050e+03,\n",
       "        7.5240e+03, 7.0320e+03, 6.5620e+03, 5.9100e+03, 5.7620e+03,\n",
       "        5.4420e+03, 5.1560e+03, 4.7790e+03, 4.0550e+03, 3.6030e+03,\n",
       "        3.0490e+03, 2.7880e+03, 2.6940e+03, 2.3640e+03, 2.0720e+03,\n",
       "        1.8270e+03, 1.5070e+03, 1.3860e+03, 1.3170e+03, 1.1210e+03,\n",
       "        1.0930e+03, 9.3200e+02, 8.2200e+02, 7.4900e+02, 5.1100e+02,\n",
       "        3.1900e+02, 2.5600e+02, 1.8400e+02, 1.1100e+02, 1.0600e+02,\n",
       "        8.6000e+01, 9.0000e+01, 5.6000e+01, 7.4000e+01, 7.2000e+01,\n",
       "        5.5000e+01, 1.0300e+02, 1.0400e+02, 1.0300e+02, 5.5000e+01,\n",
       "        2.8000e+01, 8.0000e+00, 5.0000e+00, 4.0000e+00, 2.0000e+00,\n",
       "        3.0000e+00, 2.0000e+00, 2.0000e+00, 7.0000e+00, 1.6000e+01,\n",
       "        6.0000e+00, 3.0000e+00, 6.0000e+00, 4.0000e+00, 6.0000e+00,\n",
       "        3.0000e+00, 1.0000e+00, 5.0000e+00, 2.2000e+01, 3.0000e+00,\n",
       "        7.0000e+00, 2.0000e+01, 1.2000e+01, 9.0000e+00, 6.0000e+00,\n",
       "        6.0000e+00, 2.7000e+01, 1.2000e+01, 8.0000e+00, 9.0000e+00,\n",
       "        6.0000e+00, 2.0000e+00, 7.0000e+00, 2.4000e+01, 1.5000e+01,\n",
       "        2.7000e+01, 3.5000e+01, 1.8000e+01, 5.0000e+00, 8.0000e+00,\n",
       "        1.5000e+01, 1.3600e+02, 1.0900e+02, 3.6000e+01, 2.6000e+01,\n",
       "        4.7400e+02]),\n",
       " array([  0.,   1.,   2.,   3.,   4.,   5.,   6.,   7.,   8.,   9.,  10.,\n",
       "         11.,  12.,  13.,  14.,  15.,  16.,  17.,  18.,  19.,  20.,  21.,\n",
       "         22.,  23.,  24.,  25.,  26.,  27.,  28.,  29.,  30.,  31.,  32.,\n",
       "         33.,  34.,  35.,  36.,  37.,  38.,  39.,  40.,  41.,  42.,  43.,\n",
       "         44.,  45.,  46.,  47.,  48.,  49.,  50.,  51.,  52.,  53.,  54.,\n",
       "         55.,  56.,  57.,  58.,  59.,  60.,  61.,  62.,  63.,  64.,  65.,\n",
       "         66.,  67.,  68.,  69.,  70.,  71.,  72.,  73.,  74.,  75.,  76.,\n",
       "         77.,  78.,  79.,  80.,  81.,  82.,  83.,  84.,  85.,  86.,  87.,\n",
       "         88.,  89.,  90.,  91.,  92.,  93.,  94.,  95.,  96.,  97.,  98.,\n",
       "         99., 100., 101., 102., 103., 104., 105., 106., 107., 108., 109.,\n",
       "        110., 111., 112., 113., 114., 115., 116., 117., 118., 119., 120.,\n",
       "        121., 122., 123., 124., 125., 126., 127., 128., 129., 130., 131.,\n",
       "        132., 133., 134., 135., 136., 137., 138., 139., 140., 141., 142.,\n",
       "        143., 144., 145., 146., 147., 148., 149., 150., 151., 152., 153.,\n",
       "        154., 155., 156., 157., 158., 159., 160., 161., 162., 163., 164.,\n",
       "        165., 166., 167., 168., 169., 170., 171., 172., 173., 174., 175.,\n",
       "        176., 177., 178., 179., 180., 181., 182., 183., 184., 185., 186.,\n",
       "        187., 188., 189., 190., 191., 192., 193., 194., 195., 196., 197.,\n",
       "        198., 199., 200., 201., 202., 203., 204., 205., 206., 207., 208.,\n",
       "        209., 210., 211., 212., 213., 214., 215., 216., 217., 218., 219.,\n",
       "        220., 221., 222., 223., 224., 225., 226., 227., 228., 229., 230.,\n",
       "        231., 232., 233., 234., 235., 236., 237., 238., 239., 240., 241.,\n",
       "        242., 243., 244., 245., 246., 247., 248., 249., 250., 251., 252.,\n",
       "        253., 254., 255., 256.]),\n",
       " <a list of 256 Patch objects>)"
      ]
     },
     "execution_count": 46,
     "metadata": {},
     "output_type": "execute_result"
    },
    {
     "data": {
      "text/plain": [
       "(0, 256)"
      ]
     },
     "execution_count": 46,
     "metadata": {},
     "output_type": "execute_result"
    },
    {
     "data": {
      "text/plain": [
       "<matplotlib.legend.Legend at 0x208a7652c50>"
      ]
     },
     "execution_count": 46,
     "metadata": {},
     "output_type": "execute_result"
    },
    {
     "data": {
      "image/png": "[encoded data removed]",
      "text/plain": [
       "<Figure size 432x288 with 1 Axes>"
      ]
     },
     "metadata": {
      "needs_background": "light"
     },
     "output_type": "display_data"
    },
    {
     "data": {
      "text/plain": [
       "[<matplotlib.lines.Line2D at 0x208a8085470>]"
      ]
     },
     "execution_count": 46,
     "metadata": {},
     "output_type": "execute_result"
    },
    {
     "data": {
      "text/plain": [
       "(array([5.8134e+04, 4.2020e+03, 2.0230e+03, 1.7100e+03, 1.5140e+03,\n",
       "        1.4480e+03, 1.3990e+03, 1.4220e+03, 1.3620e+03, 1.2150e+03,\n",
       "        1.1870e+03, 1.2290e+03, 1.2500e+03, 1.2570e+03, 1.2530e+03,\n",
       "        1.2930e+03, 1.4330e+03, 1.4020e+03, 1.4610e+03, 1.5670e+03,\n",
       "        1.6120e+03, 1.7530e+03, 1.8280e+03, 1.8650e+03, 1.9360e+03,\n",
       "        1.9590e+03, 2.1630e+03, 2.1930e+03, 2.2170e+03, 2.3130e+03,\n",
       "        2.3100e+03, 2.2880e+03, 2.2170e+03, 2.3040e+03, 2.3730e+03,\n",
       "        2.5220e+03, 2.6300e+03, 2.6070e+03, 2.7090e+03, 2.6840e+03,\n",
       "        2.7240e+03, 2.6280e+03, 2.7360e+03, 2.5750e+03, 2.6660e+03,\n",
       "        2.6560e+03, 2.7840e+03, 2.8060e+03, 2.9130e+03, 3.0320e+03,\n",
       "        2.9880e+03, 3.0280e+03, 3.1610e+03, 3.1090e+03, 3.2190e+03,\n",
       "        3.2250e+03, 3.3110e+03, 3.1980e+03, 3.2230e+03, 3.1870e+03,\n",
       "        3.1610e+03, 3.1900e+03, 3.2590e+03, 3.1800e+03, 3.1640e+03,\n",
       "        3.1420e+03, 3.0600e+03, 2.9730e+03, 2.9180e+03, 3.0570e+03,\n",
       "        3.0390e+03, 3.0980e+03, 3.0850e+03, 3.1400e+03, 3.1300e+03,\n",
       "        3.2260e+03, 3.2140e+03, 3.2620e+03, 3.2360e+03, 3.2340e+03,\n",
       "        3.2380e+03, 3.0950e+03, 3.1400e+03, 3.0560e+03, 2.9390e+03,\n",
       "        3.0770e+03, 3.1310e+03, 3.1240e+03, 3.1520e+03, 3.1320e+03,\n",
       "        3.2600e+03, 3.4140e+03, 3.5400e+03, 3.4670e+03, 3.4720e+03,\n",
       "        3.5260e+03, 3.4460e+03, 3.6310e+03, 3.6890e+03, 3.6300e+03,\n",
       "        3.5990e+03, 3.6890e+03, 3.7080e+03, 3.7870e+03, 3.7890e+03,\n",
       "        3.8420e+03, 3.8720e+03, 4.0060e+03, 3.9790e+03, 3.9800e+03,\n",
       "        4.2010e+03, 4.2080e+03, 4.1470e+03, 4.2160e+03, 4.1400e+03,\n",
       "        4.1990e+03, 4.1840e+03, 4.2110e+03, 4.3610e+03, 4.4180e+03,\n",
       "        4.4080e+03, 4.5760e+03, 4.7270e+03, 4.6950e+03, 4.8440e+03,\n",
       "        4.8170e+03, 4.9850e+03, 4.9140e+03, 4.9110e+03, 4.9040e+03,\n",
       "        5.2070e+03, 5.0870e+03, 5.2180e+03, 5.5030e+03, 5.4060e+03,\n",
       "        5.5190e+03, 5.7340e+03, 5.7570e+03, 5.8490e+03, 5.9100e+03,\n",
       "        6.1150e+03, 6.1810e+03, 6.1170e+03, 5.9440e+03, 6.0650e+03,\n",
       "        5.8440e+03, 5.9070e+03, 5.6930e+03, 5.5700e+03, 5.2790e+03,\n",
       "        5.2110e+03, 5.0910e+03, 5.1260e+03, 5.0510e+03, 5.0880e+03,\n",
       "        5.1080e+03, 5.2970e+03, 5.1210e+03, 5.2580e+03, 5.3230e+03,\n",
       "        5.3420e+03, 5.4450e+03, 5.4570e+03, 5.3510e+03, 5.6170e+03,\n",
       "        5.5180e+03, 5.6200e+03, 5.6840e+03, 5.8370e+03, 5.9860e+03,\n",
       "        5.9550e+03, 5.8720e+03, 5.6760e+03, 5.5870e+03, 5.4500e+03,\n",
       "        5.2330e+03, 5.1170e+03, 4.9430e+03, 4.7700e+03, 4.7500e+03,\n",
       "        4.5900e+03, 4.4570e+03, 4.4820e+03, 4.5060e+03, 4.5520e+03,\n",
       "        4.4220e+03, 4.4400e+03, 4.5070e+03, 4.3070e+03, 4.3080e+03,\n",
       "        4.3570e+03, 4.4940e+03, 4.4420e+03, 4.4740e+03, 4.3790e+03,\n",
       "        4.2490e+03, 4.3440e+03, 4.4280e+03, 4.5170e+03, 4.7020e+03,\n",
       "        4.9220e+03, 5.2440e+03, 5.5370e+03, 5.8410e+03, 6.3010e+03,\n",
       "        6.6110e+03, 6.6300e+03, 6.4690e+03, 6.4010e+03, 6.2310e+03,\n",
       "        6.1000e+03, 6.0960e+03, 5.8940e+03, 6.0080e+03, 6.2310e+03,\n",
       "        6.3680e+03, 6.4510e+03, 6.7170e+03, 7.0620e+03, 7.2970e+03,\n",
       "        7.3020e+03, 7.7020e+03, 7.8990e+03, 7.9940e+03, 8.2470e+03,\n",
       "        8.1640e+03, 8.1870e+03, 7.7440e+03, 7.3230e+03, 7.1290e+03,\n",
       "        6.7780e+03, 6.1930e+03, 5.5120e+03, 4.3960e+03, 3.4230e+03,\n",
       "        2.5570e+03, 1.7070e+03, 1.2580e+03, 9.4600e+02, 5.7700e+02,\n",
       "        3.3900e+02, 2.1300e+02, 1.0300e+02, 4.4000e+01, 1.8000e+01,\n",
       "        2.0000e+00, 4.0000e+00, 1.0000e+00, 0.0000e+00, 0.0000e+00,\n",
       "        0.0000e+00, 0.0000e+00, 0.0000e+00, 0.0000e+00, 0.0000e+00,\n",
       "        0.0000e+00]),\n",
       " array([  0.,   1.,   2.,   3.,   4.,   5.,   6.,   7.,   8.,   9.,  10.,\n",
       "         11.,  12.,  13.,  14.,  15.,  16.,  17.,  18.,  19.,  20.,  21.,\n",
       "         22.,  23.,  24.,  25.,  26.,  27.,  28.,  29.,  30.,  31.,  32.,\n",
       "         33.,  34.,  35.,  36.,  37.,  38.,  39.,  40.,  41.,  42.,  43.,\n",
       "         44.,  45.,  46.,  47.,  48.,  49.,  50.,  51.,  52.,  53.,  54.,\n",
       "         55.,  56.,  57.,  58.,  59.,  60.,  61.,  62.,  63.,  64.,  65.,\n",
       "         66.,  67.,  68.,  69.,  70.,  71.,  72.,  73.,  74.,  75.,  76.,\n",
       "         77.,  78.,  79.,  80.,  81.,  82.,  83.,  84.,  85.,  86.,  87.,\n",
       "         88.,  89.,  90.,  91.,  92.,  93.,  94.,  95.,  96.,  97.,  98.,\n",
       "         99., 100., 101., 102., 103., 104., 105., 106., 107., 108., 109.,\n",
       "        110., 111., 112., 113., 114., 115., 116., 117., 118., 119., 120.,\n",
       "        121., 122., 123., 124., 125., 126., 127., 128., 129., 130., 131.,\n",
       "        132., 133., 134., 135., 136., 137., 138., 139., 140., 141., 142.,\n",
       "        143., 144., 145., 146., 147., 148., 149., 150., 151., 152., 153.,\n",
       "        154., 155., 156., 157., 158., 159., 160., 161., 162., 163., 164.,\n",
       "        165., 166., 167., 168., 169., 170., 171., 172., 173., 174., 175.,\n",
       "        176., 177., 178., 179., 180., 181., 182., 183., 184., 185., 186.,\n",
       "        187., 188., 189., 190., 191., 192., 193., 194., 195., 196., 197.,\n",
       "        198., 199., 200., 201., 202., 203., 204., 205., 206., 207., 208.,\n",
       "        209., 210., 211., 212., 213., 214., 215., 216., 217., 218., 219.,\n",
       "        220., 221., 222., 223., 224., 225., 226., 227., 228., 229., 230.,\n",
       "        231., 232., 233., 234., 235., 236., 237., 238., 239., 240., 241.,\n",
       "        242., 243., 244., 245., 246., 247., 248., 249., 250., 251., 252.,\n",
       "        253., 254., 255., 256.]),\n",
       " <a list of 256 Patch objects>)"
      ]
     },
     "execution_count": 46,
     "metadata": {},
     "output_type": "execute_result"
    },
    {
     "data": {
      "text/plain": [
       "(0, 256)"
      ]
     },
     "execution_count": 46,
     "metadata": {},
     "output_type": "execute_result"
    },
    {
     "data": {
      "text/plain": [
       "<matplotlib.legend.Legend at 0x208a8085a90>"
      ]
     },
     "execution_count": 46,
     "metadata": {},
     "output_type": "execute_result"
    },
    {
     "data": {
      "image/png": "[encoded data removed]",
      "text/plain": [
       "<Figure size 432x288 with 1 Axes>"
      ]
     },
     "metadata": {
      "needs_background": "light"
     },
     "output_type": "display_data"
    },
    {
     "data": {
      "text/plain": [
       "[<matplotlib.lines.Line2D at 0x2089d2338d0>]"
      ]
     },
     "execution_count": 46,
     "metadata": {},
     "output_type": "execute_result"
    },
    {
     "data": {
      "text/plain": [
       "(array([6.0378e+04, 1.1000e+01, 1.4000e+01, 5.6000e+01, 7.2000e+01,\n",
       "        5.9000e+01, 5.9000e+01, 4.2400e+02, 4.0370e+03, 4.0270e+03,\n",
       "        5.0690e+03, 3.6800e+03, 2.7530e+03, 2.5600e+03, 2.5950e+03,\n",
       "        2.8500e+03, 2.5000e+03, 1.9380e+03, 1.9410e+03, 1.9770e+03,\n",
       "        1.7370e+03, 1.7240e+03, 1.4510e+03, 1.1210e+03, 1.1610e+03,\n",
       "        1.0990e+03, 1.0790e+03, 1.1220e+03, 1.0170e+03, 1.0030e+03,\n",
       "        1.0300e+03, 1.0160e+03, 1.0590e+03, 9.5000e+02, 7.9400e+02,\n",
       "        8.6800e+02, 9.6100e+02, 8.7800e+02, 7.5400e+02, 8.0300e+02,\n",
       "        8.0000e+02, 7.3700e+02, 8.0500e+02, 7.4400e+02, 7.9400e+02,\n",
       "        7.9000e+02, 8.2400e+02, 7.9900e+02, 8.7100e+02, 8.6500e+02,\n",
       "        8.7700e+02, 7.9900e+02, 8.7600e+02, 8.4800e+02, 8.9100e+02,\n",
       "        8.6900e+02, 9.2600e+02, 1.0190e+03, 1.0870e+03, 1.1540e+03,\n",
       "        1.2720e+03, 1.4270e+03, 1.5220e+03, 1.5470e+03, 1.4840e+03,\n",
       "        1.4710e+03, 1.5860e+03, 1.5490e+03, 1.6610e+03, 1.6880e+03,\n",
       "        1.7520e+03, 1.7830e+03, 1.8510e+03, 1.8940e+03, 2.0440e+03,\n",
       "        2.1450e+03, 2.2580e+03, 2.5260e+03, 2.6460e+03, 2.7520e+03,\n",
       "        2.9080e+03, 2.9230e+03, 2.9800e+03, 3.0830e+03, 3.2200e+03,\n",
       "        3.3290e+03, 3.4650e+03, 3.6150e+03, 3.6760e+03, 3.9850e+03,\n",
       "        4.2320e+03, 4.2940e+03, 4.2090e+03, 4.2010e+03, 4.2230e+03,\n",
       "        4.4260e+03, 4.5550e+03, 4.4640e+03, 4.4540e+03, 4.5000e+03,\n",
       "        4.5660e+03, 4.5370e+03, 4.4780e+03, 4.5350e+03, 4.3330e+03,\n",
       "        4.3780e+03, 4.2970e+03, 4.4570e+03, 4.4990e+03, 4.5170e+03,\n",
       "        4.4900e+03, 4.5580e+03, 4.5140e+03, 4.4810e+03, 4.4460e+03,\n",
       "        4.4540e+03, 4.5590e+03, 4.5960e+03, 4.6490e+03, 4.6800e+03,\n",
       "        4.7530e+03, 4.7490e+03, 4.6960e+03, 4.5910e+03, 4.6170e+03,\n",
       "        4.7500e+03, 4.7150e+03, 4.7940e+03, 4.7330e+03, 4.5730e+03,\n",
       "        4.5900e+03, 4.6290e+03, 4.6590e+03, 4.7900e+03, 4.6520e+03,\n",
       "        4.6960e+03, 4.7910e+03, 4.5720e+03, 4.5740e+03, 4.4990e+03,\n",
       "        4.5040e+03, 4.3460e+03, 4.4650e+03, 4.4760e+03, 4.5870e+03,\n",
       "        4.6330e+03, 4.7280e+03, 4.6860e+03, 4.6750e+03, 4.7320e+03,\n",
       "        4.6910e+03, 4.6500e+03, 4.7390e+03, 4.6960e+03, 4.6470e+03,\n",
       "        4.6520e+03, 4.7670e+03, 4.6520e+03, 4.6980e+03, 4.8450e+03,\n",
       "        4.8560e+03, 4.8210e+03, 5.0320e+03, 5.0970e+03, 4.9350e+03,\n",
       "        4.8470e+03, 4.7280e+03, 4.8510e+03, 4.8000e+03, 4.9200e+03,\n",
       "        5.1350e+03, 5.1250e+03, 5.0890e+03, 4.8320e+03, 4.8820e+03,\n",
       "        4.8530e+03, 4.9880e+03, 5.2160e+03, 5.3290e+03, 5.7410e+03,\n",
       "        5.9950e+03, 6.5360e+03, 6.9480e+03, 7.3170e+03, 7.4550e+03,\n",
       "        7.7070e+03, 8.2150e+03, 8.5440e+03, 8.5040e+03, 8.6010e+03,\n",
       "        9.0950e+03, 9.7620e+03, 9.9120e+03, 1.0100e+04, 9.9950e+03,\n",
       "        1.0311e+04, 9.9850e+03, 9.8280e+03, 9.1010e+03, 8.2860e+03,\n",
       "        8.0430e+03, 7.9360e+03, 8.0210e+03, 7.9210e+03, 7.6030e+03,\n",
       "        7.3140e+03, 7.1590e+03, 7.2230e+03, 7.0970e+03, 7.0580e+03,\n",
       "        6.9210e+03, 6.7530e+03, 6.6970e+03, 6.7170e+03, 6.7580e+03,\n",
       "        6.6960e+03, 6.1160e+03, 5.6020e+03, 5.6860e+03, 5.7160e+03,\n",
       "        5.9930e+03, 6.1210e+03, 6.1210e+03, 6.4060e+03, 6.3040e+03,\n",
       "        6.2820e+03, 6.3060e+03, 5.9530e+03, 6.1320e+03, 6.3740e+03,\n",
       "        7.6790e+03, 7.9890e+03, 7.2180e+03, 5.9100e+03, 4.7100e+03,\n",
       "        3.9540e+03, 3.3610e+03, 2.8970e+03, 2.2950e+03, 1.5990e+03,\n",
       "        8.8600e+02, 3.3600e+02, 1.3300e+02, 5.2000e+01, 5.3000e+01,\n",
       "        5.4000e+01, 2.8000e+01, 4.5000e+01, 3.5000e+01, 3.1000e+01,\n",
       "        3.8000e+01, 2.4000e+01, 1.2000e+01, 1.5000e+01, 1.0000e+00,\n",
       "        0.0000e+00]),\n",
       " array([  0.,   1.,   2.,   3.,   4.,   5.,   6.,   7.,   8.,   9.,  10.,\n",
       "         11.,  12.,  13.,  14.,  15.,  16.,  17.,  18.,  19.,  20.,  21.,\n",
       "         22.,  23.,  24.,  25.,  26.,  27.,  28.,  29.,  30.,  31.,  32.,\n",
       "         33.,  34.,  35.,  36.,  37.,  38.,  39.,  40.,  41.,  42.,  43.,\n",
       "         44.,  45.,  46.,  47.,  48.,  49.,  50.,  51.,  52.,  53.,  54.,\n",
       "         55.,  56.,  57.,  58.,  59.,  60.,  61.,  62.,  63.,  64.,  65.,\n",
       "         66.,  67.,  68.,  69.,  70.,  71.,  72.,  73.,  74.,  75.,  76.,\n",
       "         77.,  78.,  79.,  80.,  81.,  82.,  83.,  84.,  85.,  86.,  87.,\n",
       "         88.,  89.,  90.,  91.,  92.,  93.,  94.,  95.,  96.,  97.,  98.,\n",
       "         99., 100., 101., 102., 103., 104., 105., 106., 107., 108., 109.,\n",
       "        110., 111., 112., 113., 114., 115., 116., 117., 118., 119., 120.,\n",
       "        121., 122., 123., 124., 125., 126., 127., 128., 129., 130., 131.,\n",
       "        132., 133., 134., 135., 136., 137., 138., 139., 140., 141., 142.,\n",
       "        143., 144., 145., 146., 147., 148., 149., 150., 151., 152., 153.,\n",
       "        154., 155., 156., 157., 158., 159., 160., 161., 162., 163., 164.,\n",
       "        165., 166., 167., 168., 169., 170., 171., 172., 173., 174., 175.,\n",
       "        176., 177., 178., 179., 180., 181., 182., 183., 184., 185., 186.,\n",
       "        187., 188., 189., 190., 191., 192., 193., 194., 195., 196., 197.,\n",
       "        198., 199., 200., 201., 202., 203., 204., 205., 206., 207., 208.,\n",
       "        209., 210., 211., 212., 213., 214., 215., 216., 217., 218., 219.,\n",
       "        220., 221., 222., 223., 224., 225., 226., 227., 228., 229., 230.,\n",
       "        231., 232., 233., 234., 235., 236., 237., 238., 239., 240., 241.,\n",
       "        242., 243., 244., 245., 246., 247., 248., 249., 250., 251., 252.,\n",
       "        253., 254., 255., 256.]),\n",
       " <a list of 256 Patch objects>)"
      ]
     },
     "execution_count": 46,
     "metadata": {},
     "output_type": "execute_result"
    },
    {
     "data": {
      "text/plain": [
       "(0, 256)"
      ]
     },
     "execution_count": 46,
     "metadata": {},
     "output_type": "execute_result"
    },
    {
     "data": {
      "text/plain": [
       "<matplotlib.legend.Legend at 0x208a760aef0>"
      ]
     },
     "execution_count": 46,
     "metadata": {},
     "output_type": "execute_result"
    },
    {
     "data": {
      "image/png": "[encoded data removed]",
      "text/plain": [
       "<Figure size 432x288 with 1 Axes>"
      ]
     },
     "metadata": {
      "needs_background": "light"
     },
     "output_type": "display_data"
    },
    {
     "data": {
      "text/plain": [
       "[<matplotlib.lines.Line2D at 0x208a4db9b38>]"
      ]
     },
     "execution_count": 46,
     "metadata": {},
     "output_type": "execute_result"
    },
    {
     "data": {
      "text/plain": [
       "(array([0.0000e+00, 0.0000e+00, 0.0000e+00, 0.0000e+00, 3.5000e+01,\n",
       "        4.7000e+01, 1.4900e+02, 2.3700e+02, 2.7300e+02, 9.3600e+02,\n",
       "        1.9040e+03, 3.4620e+03, 5.9600e+03, 9.3570e+03, 8.2150e+03,\n",
       "        4.9240e+03, 3.0430e+03, 2.7660e+03, 2.6880e+03, 2.4790e+03,\n",
       "        2.3460e+03, 2.1070e+03, 1.9120e+03, 1.5490e+03, 1.4510e+03,\n",
       "        1.4740e+03, 1.2540e+03, 1.1160e+03, 9.4800e+02, 7.7200e+02,\n",
       "        6.9300e+02, 6.3800e+02, 5.7000e+02, 6.1400e+02, 5.6400e+02,\n",
       "        6.0200e+02, 5.9200e+02, 6.0500e+02, 5.5600e+02, 6.2400e+02,\n",
       "        5.5400e+02, 5.9000e+02, 5.6300e+02, 5.5600e+02, 5.7400e+02,\n",
       "        5.6500e+02, 5.9900e+02, 5.7800e+02, 5.9500e+02, 5.9800e+02,\n",
       "        5.6900e+02, 6.0500e+02, 6.0700e+02, 5.1600e+02, 5.3600e+02,\n",
       "        4.8900e+02, 5.1600e+02, 5.2400e+02, 5.2100e+02, 4.7700e+02,\n",
       "        5.1300e+02, 4.8300e+02, 5.4100e+02, 5.2400e+02, 5.8600e+02,\n",
       "        5.6300e+02, 5.6100e+02, 5.7300e+02, 5.7000e+02, 6.1400e+02,\n",
       "        6.1900e+02, 6.1800e+02, 6.1200e+02, 6.0300e+02, 6.1300e+02,\n",
       "        5.9300e+02, 5.7200e+02, 6.1600e+02, 6.5600e+02, 6.3100e+02,\n",
       "        7.2400e+02, 7.2200e+02, 7.3700e+02, 7.7700e+02, 7.6700e+02,\n",
       "        8.5000e+02, 9.4400e+02, 9.5400e+02, 1.0490e+03, 1.0900e+03,\n",
       "        1.1260e+03, 1.2600e+03, 1.2800e+03, 1.4600e+03, 1.4610e+03,\n",
       "        1.6620e+03, 1.7740e+03, 1.8480e+03, 1.9550e+03, 1.9310e+03,\n",
       "        2.0910e+03, 2.2190e+03, 2.2050e+03, 2.3340e+03, 2.3590e+03,\n",
       "        2.5920e+03, 2.7880e+03, 2.7270e+03, 2.9190e+03, 3.0180e+03,\n",
       "        3.0410e+03, 2.9860e+03, 3.0160e+03, 3.0480e+03, 3.2030e+03,\n",
       "        3.2540e+03, 3.4400e+03, 3.4120e+03, 3.6760e+03, 3.6490e+03,\n",
       "        3.7480e+03, 3.6970e+03, 3.8180e+03, 3.6680e+03, 3.9430e+03,\n",
       "        4.1110e+03, 4.2760e+03, 4.2970e+03, 4.2970e+03, 4.5540e+03,\n",
       "        4.6960e+03, 5.0140e+03, 5.4850e+03, 5.6050e+03, 5.6340e+03,\n",
       "        5.6890e+03, 5.5290e+03, 5.7040e+03, 5.6250e+03, 5.5350e+03,\n",
       "        5.5090e+03, 5.7040e+03, 6.1580e+03, 6.3910e+03, 6.1520e+03,\n",
       "        6.2300e+03, 6.0880e+03, 6.2850e+03, 6.3990e+03, 6.7300e+03,\n",
       "        6.7430e+03, 6.7750e+03, 6.9060e+03, 7.1090e+03, 7.5900e+03,\n",
       "        8.1360e+03, 8.6210e+03, 8.8040e+03, 8.7550e+03, 9.0790e+03,\n",
       "        9.0340e+03, 9.4870e+03, 9.8880e+03, 1.0273e+04, 1.0476e+04,\n",
       "        1.0758e+04, 1.1474e+04, 1.1789e+04, 1.1615e+04, 1.1241e+04,\n",
       "        1.1082e+04, 1.1172e+04, 1.1531e+04, 1.2189e+04, 1.2782e+04,\n",
       "        1.3100e+04, 1.3352e+04, 1.3442e+04, 1.3468e+04, 1.4680e+04,\n",
       "        1.5033e+04, 1.5932e+04, 1.5862e+04, 1.5875e+04, 1.5590e+04,\n",
       "        1.5833e+04, 1.6826e+04, 1.6740e+04, 1.5609e+04, 1.4549e+04,\n",
       "        1.5734e+04, 1.7549e+04, 1.5288e+04, 1.2283e+04, 1.0716e+04,\n",
       "        1.0613e+04, 1.0560e+04, 8.8510e+03, 8.1850e+03, 7.1940e+03,\n",
       "        5.5920e+03, 4.5990e+03, 3.9900e+03, 4.0580e+03, 4.2090e+03,\n",
       "        4.6600e+03, 5.0810e+03, 5.1940e+03, 4.3030e+03, 3.8530e+03,\n",
       "        3.8500e+03, 4.1330e+03, 4.2730e+03, 4.3730e+03, 3.9840e+03,\n",
       "        3.7500e+03, 3.6880e+03, 3.8480e+03, 4.2230e+03, 4.0640e+03,\n",
       "        3.9400e+03, 3.8790e+03, 3.7370e+03, 3.7030e+03, 4.3130e+03,\n",
       "        3.4660e+03, 2.5690e+03, 2.6990e+03, 2.6030e+03, 2.6380e+03,\n",
       "        2.4120e+03, 2.4710e+03, 2.5930e+03, 1.8580e+03, 1.4270e+03,\n",
       "        1.0450e+03, 9.8900e+02, 5.7600e+02, 2.5300e+02, 1.6000e+01,\n",
       "        2.8000e+01, 2.0000e+01, 1.9000e+01, 2.2000e+01, 2.9000e+01,\n",
       "        3.5000e+01, 2.6000e+01, 3.9000e+01, 4.2000e+01, 4.1000e+01,\n",
       "        1.6000e+01, 0.0000e+00, 0.0000e+00, 0.0000e+00, 0.0000e+00,\n",
       "        0.0000e+00]),\n",
       " array([  0.,   1.,   2.,   3.,   4.,   5.,   6.,   7.,   8.,   9.,  10.,\n",
       "         11.,  12.,  13.,  14.,  15.,  16.,  17.,  18.,  19.,  20.,  21.,\n",
       "         22.,  23.,  24.,  25.,  26.,  27.,  28.,  29.,  30.,  31.,  32.,\n",
       "         33.,  34.,  35.,  36.,  37.,  38.,  39.,  40.,  41.,  42.,  43.,\n",
       "         44.,  45.,  46.,  47.,  48.,  49.,  50.,  51.,  52.,  53.,  54.,\n",
       "         55.,  56.,  57.,  58.,  59.,  60.,  61.,  62.,  63.,  64.,  65.,\n",
       "         66.,  67.,  68.,  69.,  70.,  71.,  72.,  73.,  74.,  75.,  76.,\n",
       "         77.,  78.,  79.,  80.,  81.,  82.,  83.,  84.,  85.,  86.,  87.,\n",
       "         88.,  89.,  90.,  91.,  92.,  93.,  94.,  95.,  96.,  97.,  98.,\n",
       "         99., 100., 101., 102., 103., 104., 105., 106., 107., 108., 109.,\n",
       "        110., 111., 112., 113., 114., 115., 116., 117., 118., 119., 120.,\n",
       "        121., 122., 123., 124., 125., 126., 127., 128., 129., 130., 131.,\n",
       "        132., 133., 134., 135., 136., 137., 138., 139., 140., 141., 142.,\n",
       "        143., 144., 145., 146., 147., 148., 149., 150., 151., 152., 153.,\n",
       "        154., 155., 156., 157., 158., 159., 160., 161., 162., 163., 164.,\n",
       "        165., 166., 167., 168., 169., 170., 171., 172., 173., 174., 175.,\n",
       "        176., 177., 178., 179., 180., 181., 182., 183., 184., 185., 186.,\n",
       "        187., 188., 189., 190., 191., 192., 193., 194., 195., 196., 197.,\n",
       "        198., 199., 200., 201., 202., 203., 204., 205., 206., 207., 208.,\n",
       "        209., 210., 211., 212., 213., 214., 215., 216., 217., 218., 219.,\n",
       "        220., 221., 222., 223., 224., 225., 226., 227., 228., 229., 230.,\n",
       "        231., 232., 233., 234., 235., 236., 237., 238., 239., 240., 241.,\n",
       "        242., 243., 244., 245., 246., 247., 248., 249., 250., 251., 252.,\n",
       "        253., 254., 255., 256.]),\n",
       " <a list of 256 Patch objects>)"
      ]
     },
     "execution_count": 46,
     "metadata": {},
     "output_type": "execute_result"
    },
    {
     "data": {
      "text/plain": [
       "(0, 256)"
      ]
     },
     "execution_count": 46,
     "metadata": {},
     "output_type": "execute_result"
    },
    {
     "data": {
      "text/plain": [
       "<matplotlib.legend.Legend at 0x208a4db91d0>"
      ]
     },
     "execution_count": 46,
     "metadata": {},
     "output_type": "execute_result"
    },
    {
     "data": {
      "image/png": "[encoded data removed]",
      "text/plain": [
       "<Figure size 432x288 with 1 Axes>"
      ]
     },
     "metadata": {
      "needs_background": "light"
     },
     "output_type": "display_data"
    },
    {
     "data": {
      "text/plain": [
       "[<matplotlib.lines.Line2D at 0x208a28bb400>]"
      ]
     },
     "execution_count": 46,
     "metadata": {},
     "output_type": "execute_result"
    },
    {
     "data": {
      "text/plain": [
       "(array([2.6195e+04, 6.8300e+02, 2.6300e+02, 5.1100e+02, 1.4970e+03,\n",
       "        3.6170e+03, 3.9690e+03, 4.1470e+03, 9.9960e+03, 5.2610e+03,\n",
       "        3.2100e+02, 3.0200e+02, 3.2900e+02, 3.6200e+02, 3.3600e+02,\n",
       "        4.3600e+02, 5.3200e+02, 5.0600e+02, 4.4000e+02, 4.8900e+02,\n",
       "        4.6900e+02, 5.5800e+02, 6.6000e+02, 6.6000e+02, 7.6900e+02,\n",
       "        8.0200e+02, 8.5400e+02, 7.9600e+02, 7.1200e+02, 7.5400e+02,\n",
       "        8.4300e+02, 8.3700e+02, 9.4900e+02, 9.5400e+02, 9.8700e+02,\n",
       "        1.0510e+03, 1.0350e+03, 1.0470e+03, 1.1340e+03, 1.2370e+03,\n",
       "        1.4030e+03, 1.4790e+03, 1.6700e+03, 1.5650e+03, 1.4370e+03,\n",
       "        1.3530e+03, 1.2320e+03, 1.3160e+03, 1.1620e+03, 1.0820e+03,\n",
       "        1.1240e+03, 1.2550e+03, 1.4920e+03, 1.6390e+03, 1.7820e+03,\n",
       "        1.9320e+03, 2.2090e+03, 2.4190e+03, 2.6220e+03, 2.7640e+03,\n",
       "        2.9050e+03, 3.1020e+03, 3.3270e+03, 3.4740e+03, 3.6000e+03,\n",
       "        3.8690e+03, 3.8100e+03, 3.9390e+03, 3.8230e+03, 3.8750e+03,\n",
       "        4.0390e+03, 4.2010e+03, 4.1800e+03, 4.1170e+03, 4.1620e+03,\n",
       "        4.1850e+03, 4.2400e+03, 4.3070e+03, 4.5060e+03, 4.6060e+03,\n",
       "        4.5660e+03, 4.6330e+03, 4.5000e+03, 4.4350e+03, 4.4810e+03,\n",
       "        4.5130e+03, 4.6210e+03, 4.5600e+03, 4.5240e+03, 4.6110e+03,\n",
       "        4.6470e+03, 4.7690e+03, 4.9820e+03, 5.0420e+03, 5.0350e+03,\n",
       "        5.3390e+03, 5.2340e+03, 5.3870e+03, 5.2510e+03, 5.1830e+03,\n",
       "        5.1580e+03, 5.2390e+03, 5.2190e+03, 5.3350e+03, 5.4340e+03,\n",
       "        5.5300e+03, 5.7890e+03, 5.8770e+03, 5.9010e+03, 5.8690e+03,\n",
       "        5.8570e+03, 6.0950e+03, 6.1420e+03, 6.4870e+03, 6.8640e+03,\n",
       "        6.9130e+03, 6.9400e+03, 7.2550e+03, 7.5890e+03, 7.6430e+03,\n",
       "        7.8470e+03, 8.2250e+03, 8.7470e+03, 8.9680e+03, 9.4270e+03,\n",
       "        9.5950e+03, 9.5770e+03, 9.9000e+03, 1.0067e+04, 1.0806e+04,\n",
       "        1.1126e+04, 1.1615e+04, 1.2195e+04, 1.2200e+04, 1.2564e+04,\n",
       "        1.2877e+04, 1.3267e+04, 1.3585e+04, 1.3608e+04, 1.3717e+04,\n",
       "        1.3389e+04, 1.2815e+04, 1.2026e+04, 1.1431e+04, 1.0910e+04,\n",
       "        9.7360e+03, 8.8610e+03, 8.3150e+03, 8.3450e+03, 8.3280e+03,\n",
       "        8.3190e+03, 7.9530e+03, 7.5850e+03, 7.1190e+03, 6.7120e+03,\n",
       "        6.1420e+03, 5.6290e+03, 5.2800e+03, 4.9840e+03, 4.5750e+03,\n",
       "        4.4460e+03, 4.0700e+03, 4.1530e+03, 4.3920e+03, 4.4100e+03,\n",
       "        4.3260e+03, 4.2360e+03, 4.2970e+03, 4.3140e+03, 4.3090e+03,\n",
       "        4.4850e+03, 4.3910e+03, 4.3600e+03, 4.4150e+03, 4.5110e+03,\n",
       "        4.3790e+03, 4.3640e+03, 4.2670e+03, 4.2120e+03, 4.4260e+03,\n",
       "        4.3250e+03, 4.1310e+03, 3.9590e+03, 3.8670e+03, 3.8480e+03,\n",
       "        3.8510e+03, 3.8190e+03, 4.0170e+03, 4.2040e+03, 4.2750e+03,\n",
       "        4.2540e+03, 4.0550e+03, 4.0470e+03, 3.8520e+03, 4.0800e+03,\n",
       "        4.2720e+03, 4.4700e+03, 4.7990e+03, 5.1350e+03, 5.4810e+03,\n",
       "        5.9480e+03, 5.9400e+03, 5.7790e+03, 5.2560e+03, 4.6070e+03,\n",
       "        4.3800e+03, 3.9810e+03, 3.8570e+03, 3.8160e+03, 3.6640e+03,\n",
       "        3.7410e+03, 3.7080e+03, 3.3720e+03, 2.8490e+03, 2.8180e+03,\n",
       "        2.6270e+03, 2.4270e+03, 2.2800e+03, 1.8760e+03, 1.6380e+03,\n",
       "        1.4680e+03, 1.2490e+03, 1.0170e+03, 6.9900e+02, 3.6000e+02,\n",
       "        1.4900e+02, 4.7000e+01, 4.0000e+01, 3.8000e+01, 4.9000e+01,\n",
       "        4.2000e+01, 3.5000e+01, 1.4000e+01, 7.0000e+00, 6.0000e+00,\n",
       "        5.0000e+00, 2.1000e+01, 1.4000e+01, 1.1000e+01, 9.0000e+00,\n",
       "        3.0000e+00, 8.0000e+00, 5.0000e+00, 7.0000e+00, 1.1000e+01,\n",
       "        9.0000e+00, 6.0000e+00, 9.0000e+00, 7.0000e+00, 2.0000e+01,\n",
       "        4.0000e+00, 7.0000e+00, 9.0000e+00, 1.3000e+01, 1.3000e+01,\n",
       "        7.7700e+02]),\n",
       " array([  0.,   1.,   2.,   3.,   4.,   5.,   6.,   7.,   8.,   9.,  10.,\n",
       "         11.,  12.,  13.,  14.,  15.,  16.,  17.,  18.,  19.,  20.,  21.,\n",
       "         22.,  23.,  24.,  25.,  26.,  27.,  28.,  29.,  30.,  31.,  32.,\n",
       "         33.,  34.,  35.,  36.,  37.,  38.,  39.,  40.,  41.,  42.,  43.,\n",
       "         44.,  45.,  46.,  47.,  48.,  49.,  50.,  51.,  52.,  53.,  54.,\n",
       "         55.,  56.,  57.,  58.,  59.,  60.,  61.,  62.,  63.,  64.,  65.,\n",
       "         66.,  67.,  68.,  69.,  70.,  71.,  72.,  73.,  74.,  75.,  76.,\n",
       "         77.,  78.,  79.,  80.,  81.,  82.,  83.,  84.,  85.,  86.,  87.,\n",
       "         88.,  89.,  90.,  91.,  92.,  93.,  94.,  95.,  96.,  97.,  98.,\n",
       "         99., 100., 101., 102., 103., 104., 105., 106., 107., 108., 109.,\n",
       "        110., 111., 112., 113., 114., 115., 116., 117., 118., 119., 120.,\n",
       "        121., 122., 123., 124., 125., 126., 127., 128., 129., 130., 131.,\n",
       "        132., 133., 134., 135., 136., 137., 138., 139., 140., 141., 142.,\n",
       "        143., 144., 145., 146., 147., 148., 149., 150., 151., 152., 153.,\n",
       "        154., 155., 156., 157., 158., 159., 160., 161., 162., 163., 164.,\n",
       "        165., 166., 167., 168., 169., 170., 171., 172., 173., 174., 175.,\n",
       "        176., 177., 178., 179., 180., 181., 182., 183., 184., 185., 186.,\n",
       "        187., 188., 189., 190., 191., 192., 193., 194., 195., 196., 197.,\n",
       "        198., 199., 200., 201., 202., 203., 204., 205., 206., 207., 208.,\n",
       "        209., 210., 211., 212., 213., 214., 215., 216., 217., 218., 219.,\n",
       "        220., 221., 222., 223., 224., 225., 226., 227., 228., 229., 230.,\n",
       "        231., 232., 233., 234., 235., 236., 237., 238., 239., 240., 241.,\n",
       "        242., 243., 244., 245., 246., 247., 248., 249., 250., 251., 252.,\n",
       "        253., 254., 255., 256.]),\n",
       " <a list of 256 Patch objects>)"
      ]
     },
     "execution_count": 46,
     "metadata": {},
     "output_type": "execute_result"
    },
    {
     "data": {
      "text/plain": [
       "(0, 256)"
      ]
     },
     "execution_count": 46,
     "metadata": {},
     "output_type": "execute_result"
    },
    {
     "data": {
      "text/plain": [
       "<matplotlib.legend.Legend at 0x208a2c0e5f8>"
      ]
     },
     "execution_count": 46,
     "metadata": {},
     "output_type": "execute_result"
    },
    {
     "data": {
      "image/png": "[encoded data removed]",
      "text/plain": [
       "<Figure size 432x288 with 1 Axes>"
      ]
     },
     "metadata": {
      "needs_background": "light"
     },
     "output_type": "display_data"
    },
    {
     "data": {
      "text/plain": [
       "[<matplotlib.lines.Line2D at 0x208a7373518>]"
      ]
     },
     "execution_count": 46,
     "metadata": {},
     "output_type": "execute_result"
    },
    {
     "data": {
      "text/plain": [
       "(array([4.416e+03, 3.900e+01, 3.099e+03, 1.093e+03, 6.840e+02, 5.000e+02,\n",
       "        6.040e+02, 8.650e+02, 8.530e+02, 9.930e+02, 9.820e+02, 1.062e+03,\n",
       "        1.126e+03, 1.328e+03, 1.425e+03, 1.523e+03, 1.547e+03, 1.775e+03,\n",
       "        1.627e+03, 1.399e+03, 1.455e+03, 1.766e+03, 1.727e+03, 1.904e+03,\n",
       "        2.112e+03, 2.467e+03, 2.516e+03, 2.513e+03, 2.734e+03, 2.990e+03,\n",
       "        3.066e+03, 3.670e+03, 3.882e+03, 3.701e+03, 3.532e+03, 3.282e+03,\n",
       "        3.102e+03, 2.942e+03, 2.902e+03, 3.042e+03, 2.856e+03, 2.939e+03,\n",
       "        2.821e+03, 2.740e+03, 2.662e+03, 2.816e+03, 2.979e+03, 2.940e+03,\n",
       "        3.130e+03, 3.214e+03, 3.378e+03, 3.174e+03, 3.089e+03, 3.229e+03,\n",
       "        3.470e+03, 3.289e+03, 3.267e+03, 3.103e+03, 3.062e+03, 3.043e+03,\n",
       "        2.978e+03, 2.989e+03, 3.026e+03, 3.068e+03, 3.299e+03, 3.279e+03,\n",
       "        3.387e+03, 3.506e+03, 3.619e+03, 3.764e+03, 3.989e+03, 4.265e+03,\n",
       "        4.500e+03, 4.746e+03, 4.953e+03, 5.162e+03, 5.177e+03, 5.198e+03,\n",
       "        5.120e+03, 5.061e+03, 4.669e+03, 4.701e+03, 4.874e+03, 4.942e+03,\n",
       "        5.159e+03, 5.392e+03, 5.620e+03, 5.440e+03, 5.672e+03, 5.627e+03,\n",
       "        5.895e+03, 6.190e+03, 6.617e+03, 6.705e+03, 7.092e+03, 7.139e+03,\n",
       "        7.315e+03, 7.518e+03, 7.756e+03, 7.869e+03, 7.737e+03, 7.430e+03,\n",
       "        7.561e+03, 7.675e+03, 7.992e+03, 8.288e+03, 7.905e+03, 7.573e+03,\n",
       "        7.487e+03, 7.140e+03, 6.908e+03, 6.601e+03, 6.511e+03, 6.210e+03,\n",
       "        6.306e+03, 6.333e+03, 6.429e+03, 6.690e+03, 6.659e+03, 6.814e+03,\n",
       "        6.721e+03, 6.103e+03, 5.710e+03, 5.455e+03, 5.234e+03, 5.245e+03,\n",
       "        5.360e+03, 5.578e+03, 5.880e+03, 6.025e+03, 5.953e+03, 6.004e+03,\n",
       "        6.115e+03, 6.169e+03, 6.121e+03, 6.010e+03, 6.147e+03, 6.005e+03,\n",
       "        5.893e+03, 5.812e+03, 6.030e+03, 6.171e+03, 6.368e+03, 6.467e+03,\n",
       "        6.402e+03, 6.356e+03, 6.465e+03, 6.670e+03, 7.030e+03, 7.817e+03,\n",
       "        7.970e+03, 7.485e+03, 7.022e+03, 6.964e+03, 6.950e+03, 7.249e+03,\n",
       "        7.516e+03, 8.605e+03, 9.647e+03, 9.615e+03, 8.590e+03, 8.333e+03,\n",
       "        8.629e+03, 8.344e+03, 8.015e+03, 7.574e+03, 7.592e+03, 7.811e+03,\n",
       "        8.046e+03, 7.974e+03, 7.761e+03, 7.947e+03, 7.763e+03, 7.346e+03,\n",
       "        7.015e+03, 7.059e+03, 7.032e+03, 7.016e+03, 6.783e+03, 6.479e+03,\n",
       "        6.576e+03, 6.476e+03, 6.396e+03, 6.733e+03, 6.958e+03, 6.608e+03,\n",
       "        6.173e+03, 6.221e+03, 6.083e+03, 5.703e+03, 5.093e+03, 4.657e+03,\n",
       "        4.396e+03, 4.266e+03, 3.949e+03, 3.910e+03, 3.712e+03, 3.297e+03,\n",
       "        3.018e+03, 2.737e+03, 2.502e+03, 2.388e+03, 2.484e+03, 2.643e+03,\n",
       "        3.144e+03, 3.814e+03, 3.811e+03, 3.303e+03, 2.665e+03, 2.301e+03,\n",
       "        2.283e+03, 2.088e+03, 2.056e+03, 1.918e+03, 1.361e+03, 7.340e+02,\n",
       "        3.160e+02, 1.090e+02, 5.500e+01, 3.400e+01, 3.900e+01, 3.100e+01,\n",
       "        4.400e+01, 3.300e+01, 2.500e+01, 1.600e+01, 1.400e+01, 1.100e+01,\n",
       "        1.100e+01, 5.000e+00, 3.000e+00, 6.000e+00, 8.000e+00, 8.000e+00,\n",
       "        5.000e+00, 5.000e+00, 3.000e+00, 7.000e+00, 5.000e+01, 3.400e+01,\n",
       "        1.400e+01, 6.000e+00, 7.000e+00, 1.900e+01, 9.000e+00, 6.000e+00,\n",
       "        6.000e+00, 1.100e+01, 8.000e+00, 1.300e+01, 2.700e+01, 9.000e+00,\n",
       "        3.000e+01, 2.300e+01, 6.200e+01, 5.760e+02]),\n",
       " array([  0.,   1.,   2.,   3.,   4.,   5.,   6.,   7.,   8.,   9.,  10.,\n",
       "         11.,  12.,  13.,  14.,  15.,  16.,  17.,  18.,  19.,  20.,  21.,\n",
       "         22.,  23.,  24.,  25.,  26.,  27.,  28.,  29.,  30.,  31.,  32.,\n",
       "         33.,  34.,  35.,  36.,  37.,  38.,  39.,  40.,  41.,  42.,  43.,\n",
       "         44.,  45.,  46.,  47.,  48.,  49.,  50.,  51.,  52.,  53.,  54.,\n",
       "         55.,  56.,  57.,  58.,  59.,  60.,  61.,  62.,  63.,  64.,  65.,\n",
       "         66.,  67.,  68.,  69.,  70.,  71.,  72.,  73.,  74.,  75.,  76.,\n",
       "         77.,  78.,  79.,  80.,  81.,  82.,  83.,  84.,  85.,  86.,  87.,\n",
       "         88.,  89.,  90.,  91.,  92.,  93.,  94.,  95.,  96.,  97.,  98.,\n",
       "         99., 100., 101., 102., 103., 104., 105., 106., 107., 108., 109.,\n",
       "        110., 111., 112., 113., 114., 115., 116., 117., 118., 119., 120.,\n",
       "        121., 122., 123., 124., 125., 126., 127., 128., 129., 130., 131.,\n",
       "        132., 133., 134., 135., 136., 137., 138., 139., 140., 141., 142.,\n",
       "        143., 144., 145., 146., 147., 148., 149., 150., 151., 152., 153.,\n",
       "        154., 155., 156., 157., 158., 159., 160., 161., 162., 163., 164.,\n",
       "        165., 166., 167., 168., 169., 170., 171., 172., 173., 174., 175.,\n",
       "        176., 177., 178., 179., 180., 181., 182., 183., 184., 185., 186.,\n",
       "        187., 188., 189., 190., 191., 192., 193., 194., 195., 196., 197.,\n",
       "        198., 199., 200., 201., 202., 203., 204., 205., 206., 207., 208.,\n",
       "        209., 210., 211., 212., 213., 214., 215., 216., 217., 218., 219.,\n",
       "        220., 221., 222., 223., 224., 225., 226., 227., 228., 229., 230.,\n",
       "        231., 232., 233., 234., 235., 236., 237., 238., 239., 240., 241.,\n",
       "        242., 243., 244., 245., 246., 247., 248., 249., 250., 251., 252.,\n",
       "        253., 254., 255., 256.]),\n",
       " <a list of 256 Patch objects>)"
      ]
     },
     "execution_count": 46,
     "metadata": {},
     "output_type": "execute_result"
    },
    {
     "data": {
      "text/plain": [
       "(0, 256)"
      ]
     },
     "execution_count": 46,
     "metadata": {},
     "output_type": "execute_result"
    },
    {
     "data": {
      "text/plain": [
       "<matplotlib.legend.Legend at 0x208a7373668>"
      ]
     },
     "execution_count": 46,
     "metadata": {},
     "output_type": "execute_result"
    },
    {
     "data": {
      "image/png": "[encoded data removed]",
      "text/plain": [
       "<Figure size 432x288 with 1 Axes>"
      ]
     },
     "metadata": {
      "needs_background": "light"
     },
     "output_type": "display_data"
    },
    {
     "data": {
      "text/plain": [
       "[<matplotlib.lines.Line2D at 0x208a73b56a0>]"
      ]
     },
     "execution_count": 46,
     "metadata": {},
     "output_type": "execute_result"
    },
    {
     "data": {
      "text/plain": [
       "(array([2.3980e+03, 0.0000e+00, 2.0000e+00, 5.9000e+01, 2.7000e+02,\n",
       "        5.1900e+02, 2.3800e+02, 1.8600e+02, 1.6100e+02, 1.4000e+02,\n",
       "        1.1800e+02, 1.1500e+02, 1.2200e+02, 2.1600e+02, 3.0000e+02,\n",
       "        2.5700e+02, 2.4900e+02, 2.4900e+02, 2.1400e+02, 2.0100e+02,\n",
       "        1.9900e+02, 2.1300e+02, 2.2700e+02, 2.0700e+02, 2.1800e+02,\n",
       "        2.6800e+02, 2.8400e+02, 3.2800e+02, 3.6000e+02, 3.9800e+02,\n",
       "        4.0900e+02, 4.3900e+02, 4.1900e+02, 4.3600e+02, 4.2100e+02,\n",
       "        3.9700e+02, 3.8900e+02, 3.8800e+02, 3.7500e+02, 3.8200e+02,\n",
       "        3.9300e+02, 4.4300e+02, 4.1800e+02, 4.3300e+02, 4.8400e+02,\n",
       "        4.5700e+02, 4.4800e+02, 4.4400e+02, 4.3900e+02, 4.1200e+02,\n",
       "        4.8100e+02, 4.6200e+02, 4.1600e+02, 4.1300e+02, 3.8700e+02,\n",
       "        3.7600e+02, 4.0300e+02, 4.1300e+02, 4.0700e+02, 4.6500e+02,\n",
       "        4.4100e+02, 5.3200e+02, 6.3500e+02, 6.0100e+02, 7.2600e+02,\n",
       "        7.5500e+02, 8.1700e+02, 8.4000e+02, 9.0600e+02, 1.0680e+03,\n",
       "        1.1420e+03, 1.1570e+03, 1.2690e+03, 1.3400e+03, 1.4120e+03,\n",
       "        1.6390e+03, 1.8290e+03, 1.9350e+03, 2.0920e+03, 2.1120e+03,\n",
       "        2.1630e+03, 2.2270e+03, 2.1800e+03, 2.0690e+03, 2.1600e+03,\n",
       "        2.0760e+03, 2.2170e+03, 2.2460e+03, 2.2590e+03, 2.3390e+03,\n",
       "        2.4130e+03, 2.4980e+03, 2.5200e+03, 2.6640e+03, 2.7540e+03,\n",
       "        2.8460e+03, 2.9620e+03, 2.9410e+03, 2.9780e+03, 3.0590e+03,\n",
       "        3.0210e+03, 3.2900e+03, 3.4130e+03, 3.3770e+03, 3.3970e+03,\n",
       "        3.3330e+03, 3.4830e+03, 3.5120e+03, 3.5070e+03, 3.5430e+03,\n",
       "        3.6270e+03, 3.6360e+03, 3.6170e+03, 3.6760e+03, 3.6200e+03,\n",
       "        3.6790e+03, 3.9050e+03, 3.8330e+03, 3.7580e+03, 3.7560e+03,\n",
       "        3.7510e+03, 3.9290e+03, 3.9860e+03, 3.9260e+03, 3.9650e+03,\n",
       "        4.0180e+03, 3.9990e+03, 4.0510e+03, 4.0430e+03, 4.0520e+03,\n",
       "        3.9780e+03, 4.1820e+03, 4.1510e+03, 4.2990e+03, 4.2650e+03,\n",
       "        4.2340e+03, 4.3170e+03, 4.2710e+03, 4.3440e+03, 4.3450e+03,\n",
       "        4.5440e+03, 4.6380e+03, 4.7550e+03, 4.7420e+03, 4.8220e+03,\n",
       "        4.8380e+03, 4.8440e+03, 4.8590e+03, 4.9660e+03, 4.9990e+03,\n",
       "        4.9920e+03, 5.3050e+03, 5.1850e+03, 5.1350e+03, 5.3570e+03,\n",
       "        5.2960e+03, 5.5840e+03, 5.5760e+03, 5.7910e+03, 5.9550e+03,\n",
       "        5.9620e+03, 6.1160e+03, 6.2510e+03, 6.3610e+03, 6.2910e+03,\n",
       "        6.2990e+03, 6.3630e+03, 6.4580e+03, 6.4390e+03, 6.4180e+03,\n",
       "        6.4070e+03, 6.3780e+03, 6.3600e+03, 6.8050e+03, 6.7540e+03,\n",
       "        6.8630e+03, 7.0500e+03, 7.3000e+03, 7.4100e+03, 7.3820e+03,\n",
       "        7.2850e+03, 7.4470e+03, 7.4220e+03, 7.4930e+03, 7.6130e+03,\n",
       "        7.8490e+03, 8.4420e+03, 9.0270e+03, 9.4990e+03, 9.9100e+03,\n",
       "        1.0576e+04, 1.1091e+04, 1.1642e+04, 1.2103e+04, 1.2589e+04,\n",
       "        1.2876e+04, 1.3188e+04, 1.3105e+04, 1.2639e+04, 1.2004e+04,\n",
       "        1.1601e+04, 1.1712e+04, 1.2481e+04, 1.3682e+04, 1.4468e+04,\n",
       "        1.4541e+04, 1.4094e+04, 1.3620e+04, 1.3274e+04, 1.3030e+04,\n",
       "        1.2899e+04, 1.2456e+04, 1.1960e+04, 1.0865e+04, 1.0352e+04,\n",
       "        1.0088e+04, 9.3500e+03, 8.5700e+03, 8.3500e+03, 8.2190e+03,\n",
       "        7.9250e+03, 8.4140e+03, 9.0410e+03, 9.6810e+03, 9.4530e+03,\n",
       "        8.9150e+03, 9.0160e+03, 8.7210e+03, 8.2440e+03, 9.2130e+03,\n",
       "        9.6020e+03, 8.1540e+03, 6.5020e+03, 5.2060e+03, 3.7440e+03,\n",
       "        2.4200e+03, 1.8830e+03, 1.3670e+03, 4.8700e+02, 5.3000e+01,\n",
       "        0.0000e+00, 0.0000e+00, 0.0000e+00, 0.0000e+00, 0.0000e+00,\n",
       "        0.0000e+00, 0.0000e+00, 0.0000e+00, 0.0000e+00, 0.0000e+00,\n",
       "        0.0000e+00, 0.0000e+00, 0.0000e+00, 0.0000e+00, 0.0000e+00,\n",
       "        0.0000e+00]),\n",
       " array([  0.,   1.,   2.,   3.,   4.,   5.,   6.,   7.,   8.,   9.,  10.,\n",
       "         11.,  12.,  13.,  14.,  15.,  16.,  17.,  18.,  19.,  20.,  21.,\n",
       "         22.,  23.,  24.,  25.,  26.,  27.,  28.,  29.,  30.,  31.,  32.,\n",
       "         33.,  34.,  35.,  36.,  37.,  38.,  39.,  40.,  41.,  42.,  43.,\n",
       "         44.,  45.,  46.,  47.,  48.,  49.,  50.,  51.,  52.,  53.,  54.,\n",
       "         55.,  56.,  57.,  58.,  59.,  60.,  61.,  62.,  63.,  64.,  65.,\n",
       "         66.,  67.,  68.,  69.,  70.,  71.,  72.,  73.,  74.,  75.,  76.,\n",
       "         77.,  78.,  79.,  80.,  81.,  82.,  83.,  84.,  85.,  86.,  87.,\n",
       "         88.,  89.,  90.,  91.,  92.,  93.,  94.,  95.,  96.,  97.,  98.,\n",
       "         99., 100., 101., 102., 103., 104., 105., 106., 107., 108., 109.,\n",
       "        110., 111., 112., 113., 114., 115., 116., 117., 118., 119., 120.,\n",
       "        121., 122., 123., 124., 125., 126., 127., 128., 129., 130., 131.,\n",
       "        132., 133., 134., 135., 136., 137., 138., 139., 140., 141., 142.,\n",
       "        143., 144., 145., 146., 147., 148., 149., 150., 151., 152., 153.,\n",
       "        154., 155., 156., 157., 158., 159., 160., 161., 162., 163., 164.,\n",
       "        165., 166., 167., 168., 169., 170., 171., 172., 173., 174., 175.,\n",
       "        176., 177., 178., 179., 180., 181., 182., 183., 184., 185., 186.,\n",
       "        187., 188., 189., 190., 191., 192., 193., 194., 195., 196., 197.,\n",
       "        198., 199., 200., 201., 202., 203., 204., 205., 206., 207., 208.,\n",
       "        209., 210., 211., 212., 213., 214., 215., 216., 217., 218., 219.,\n",
       "        220., 221., 222., 223., 224., 225., 226., 227., 228., 229., 230.,\n",
       "        231., 232., 233., 234., 235., 236., 237., 238., 239., 240., 241.,\n",
       "        242., 243., 244., 245., 246., 247., 248., 249., 250., 251., 252.,\n",
       "        253., 254., 255., 256.]),\n",
       " <a list of 256 Patch objects>)"
      ]
     },
     "execution_count": 46,
     "metadata": {},
     "output_type": "execute_result"
    },
    {
     "data": {
      "text/plain": [
       "(0, 256)"
      ]
     },
     "execution_count": 46,
     "metadata": {},
     "output_type": "execute_result"
    },
    {
     "data": {
      "text/plain": [
       "<matplotlib.legend.Legend at 0x208a353bb70>"
      ]
     },
     "execution_count": 46,
     "metadata": {},
     "output_type": "execute_result"
    },
    {
     "data": {
      "image/png": "[encoded data removed]",
      "text/plain": [
       "<Figure size 432x288 with 1 Axes>"
      ]
     },
     "metadata": {
      "needs_background": "light"
     },
     "output_type": "display_data"
    },
    {
     "data": {
      "text/plain": [
       "[<matplotlib.lines.Line2D at 0x208a7edb2e8>]"
      ]
     },
     "execution_count": 46,
     "metadata": {},
     "output_type": "execute_result"
    },
    {
     "data": {
      "text/plain": [
       "(array([16543.,    61.,    42.,   163.,  2531.,  5724.,  6654.,  2184.,\n",
       "          276.,   221.,   241.,   253.,   256.,   235.,   271.,   286.,\n",
       "          259.,   296.,   375.,   393.,   484.,   564.,   505.,   485.,\n",
       "          532.,   458.,   446.,   483.,   415.,   384.,   411.,   395.,\n",
       "          383.,   379.,   362.,   364.,   335.,   367.,   356.,   358.,\n",
       "          403.,   388.,   403.,   380.,   421.,   369.,   371.,   388.,\n",
       "          408.,   368.,   408.,   373.,   365.,   356.,   403.,   352.,\n",
       "          379.,   381.,   409.,   419.,   430.,   444.,   502.,   558.,\n",
       "          633.,   666.,   759.,   765.,   749.,   832.,   783.,   939.,\n",
       "          995.,  1039.,  1058.,  1120.,  1243.,  1400.,  1549.,  1689.,\n",
       "         1828.,  1913.,  1960.,  1884.,  1995.,  2093.,  2255.,  2446.,\n",
       "         2435.,  2577.,  2596.,  2543.,  2620.,  2604.,  2421.,  2469.,\n",
       "         2515.,  2524.,  2502.,  2621.,  2552.,  2548.,  2585.,  2561.,\n",
       "         2676.,  2900.,  3147.,  3413.,  3780.,  4019.,  4127.,  4317.,\n",
       "         4296.,  4436.,  4625.,  4713.,  4603.,  4551.,  4674.,  4569.,\n",
       "         4537.,  4613.,  4690.,  4789.,  5171.,  5426.,  6047.,  6354.,\n",
       "         6857.,  7279.,  7357.,  7664.,  7740.,  7814.,  7510.,  7622.,\n",
       "         7860.,  7999.,  7909.,  7399.,  6605.,  6262.,  6194.,  6741.,\n",
       "         7022.,  7275.,  7160.,  6987.,  7118.,  7346.,  7594.,  7664.,\n",
       "         7859.,  7630.,  7428.,  7784.,  7949.,  8625.,  8916.,  9088.,\n",
       "         8618.,  8631.,  8331.,  8003.,  7633.,  7187.,  7134.,  7047.,\n",
       "         7061.,  7087.,  7075.,  7471.,  8049.,  8435.,  8512.,  8547.,\n",
       "         8888.,  9963., 10663., 10653., 10357., 10363., 10089., 10852.,\n",
       "        11420., 12129., 12733., 13058., 12312., 10295.,  9190.,  8915.,\n",
       "         8173.,  7651.,  7084.,  7183.,  7702.,  8594.,  8499.,  8420.,\n",
       "         7937.,  7776.,  7898.,  7845.,  7843.,  7521.,  7699.,  7975.,\n",
       "         7958.,  7959.,  7898.,  8249.,  8328.,  8634.,  8585.,  7800.,\n",
       "         7305.,  6999.,  6942.,  7088.,  7262.,  7192.,  6910.,  6798.,\n",
       "         6039.,  5666.,  5543.,  4759.,  3000.,  1934.,  1088.,   258.,\n",
       "           49.,    25.,    42.,    40.,    32.,    53.,    51.,    87.,\n",
       "           81.,    17.,     0.,     0.,     0.,     0.,     0.,     0.,\n",
       "            0.,     0.,     0.,     0.,     0.,     0.,     0.,     0.]),\n",
       " array([  0.,   1.,   2.,   3.,   4.,   5.,   6.,   7.,   8.,   9.,  10.,\n",
       "         11.,  12.,  13.,  14.,  15.,  16.,  17.,  18.,  19.,  20.,  21.,\n",
       "         22.,  23.,  24.,  25.,  26.,  27.,  28.,  29.,  30.,  31.,  32.,\n",
       "         33.,  34.,  35.,  36.,  37.,  38.,  39.,  40.,  41.,  42.,  43.,\n",
       "         44.,  45.,  46.,  47.,  48.,  49.,  50.,  51.,  52.,  53.,  54.,\n",
       "         55.,  56.,  57.,  58.,  59.,  60.,  61.,  62.,  63.,  64.,  65.,\n",
       "         66.,  67.,  68.,  69.,  70.,  71.,  72.,  73.,  74.,  75.,  76.,\n",
       "         77.,  78.,  79.,  80.,  81.,  82.,  83.,  84.,  85.,  86.,  87.,\n",
       "         88.,  89.,  90.,  91.,  92.,  93.,  94.,  95.,  96.,  97.,  98.,\n",
       "         99., 100., 101., 102., 103., 104., 105., 106., 107., 108., 109.,\n",
       "        110., 111., 112., 113., 114., 115., 116., 117., 118., 119., 120.,\n",
       "        121., 122., 123., 124., 125., 126., 127., 128., 129., 130., 131.,\n",
       "        132., 133., 134., 135., 136., 137., 138., 139., 140., 141., 142.,\n",
       "        143., 144., 145., 146., 147., 148., 149., 150., 151., 152., 153.,\n",
       "        154., 155., 156., 157., 158., 159., 160., 161., 162., 163., 164.,\n",
       "        165., 166., 167., 168., 169., 170., 171., 172., 173., 174., 175.,\n",
       "        176., 177., 178., 179., 180., 181., 182., 183., 184., 185., 186.,\n",
       "        187., 188., 189., 190., 191., 192., 193., 194., 195., 196., 197.,\n",
       "        198., 199., 200., 201., 202., 203., 204., 205., 206., 207., 208.,\n",
       "        209., 210., 211., 212., 213., 214., 215., 216., 217., 218., 219.,\n",
       "        220., 221., 222., 223., 224., 225., 226., 227., 228., 229., 230.,\n",
       "        231., 232., 233., 234., 235., 236., 237., 238., 239., 240., 241.,\n",
       "        242., 243., 244., 245., 246., 247., 248., 249., 250., 251., 252.,\n",
       "        253., 254., 255., 256.]),\n",
       " <a list of 256 Patch objects>)"
      ]
     },
     "execution_count": 46,
     "metadata": {},
     "output_type": "execute_result"
    },
    {
     "data": {
      "text/plain": [
       "(0, 256)"
      ]
     },
     "execution_count": 46,
     "metadata": {},
     "output_type": "execute_result"
    },
    {
     "data": {
      "text/plain": [
       "<matplotlib.legend.Legend at 0x208a7edb6d8>"
      ]
     },
     "execution_count": 46,
     "metadata": {},
     "output_type": "execute_result"
    },
    {
     "data": {
      "image/png": "[encoded data removed]",
      "text/plain": [
       "<Figure size 432x288 with 1 Axes>"
      ]
     },
     "metadata": {
      "needs_background": "light"
     },
     "output_type": "display_data"
    },
    {
     "data": {
      "text/plain": [
       "[<matplotlib.lines.Line2D at 0x208a794d0f0>]"
      ]
     },
     "execution_count": 46,
     "metadata": {},
     "output_type": "execute_result"
    },
    {
     "data": {
      "text/plain": [
       "(array([1.9080e+03, 0.0000e+00, 0.0000e+00, 0.0000e+00, 0.0000e+00,\n",
       "        0.0000e+00, 2.9800e+02, 6.7500e+02, 1.3070e+03, 2.1900e+03,\n",
       "        2.0310e+03, 1.3160e+03, 9.6700e+02, 7.5500e+02, 6.5900e+02,\n",
       "        5.2800e+02, 4.3300e+02, 3.1700e+02, 2.7800e+02, 2.0500e+02,\n",
       "        2.6400e+02, 2.5100e+02, 1.8300e+02, 2.2000e+02, 2.3300e+02,\n",
       "        2.1600e+02, 2.6900e+02, 2.9400e+02, 3.0100e+02, 2.7800e+02,\n",
       "        2.6500e+02, 2.7200e+02, 2.6900e+02, 3.4900e+02, 3.4300e+02,\n",
       "        3.8200e+02, 3.7900e+02, 3.9600e+02, 3.9400e+02, 4.5500e+02,\n",
       "        3.9600e+02, 4.3300e+02, 4.5500e+02, 4.6000e+02, 4.9000e+02,\n",
       "        5.3700e+02, 5.0300e+02, 5.2900e+02, 5.1500e+02, 5.1500e+02,\n",
       "        5.3200e+02, 6.4800e+02, 5.9700e+02, 6.6600e+02, 8.9400e+02,\n",
       "        8.9000e+02, 7.9500e+02, 8.0600e+02, 7.7400e+02, 8.1800e+02,\n",
       "        8.5600e+02, 8.3400e+02, 9.3300e+02, 9.8300e+02, 1.0670e+03,\n",
       "        1.0410e+03, 1.1230e+03, 1.1500e+03, 1.2860e+03, 1.4060e+03,\n",
       "        1.5000e+03, 1.6440e+03, 1.6570e+03, 1.6080e+03, 1.7000e+03,\n",
       "        1.8770e+03, 2.0850e+03, 2.1350e+03, 2.1030e+03, 2.0630e+03,\n",
       "        2.0850e+03, 2.0190e+03, 1.9830e+03, 2.0620e+03, 2.0970e+03,\n",
       "        2.1540e+03, 2.4380e+03, 2.3590e+03, 2.4630e+03, 2.4060e+03,\n",
       "        2.2420e+03, 2.1420e+03, 2.1200e+03, 2.1930e+03, 2.0380e+03,\n",
       "        2.1170e+03, 2.0900e+03, 2.1480e+03, 2.2000e+03, 2.2560e+03,\n",
       "        2.3520e+03, 2.3770e+03, 2.3780e+03, 2.5470e+03, 2.7220e+03,\n",
       "        3.0110e+03, 3.0300e+03, 3.1800e+03, 3.4180e+03, 3.3920e+03,\n",
       "        3.4570e+03, 3.5220e+03, 3.6160e+03, 3.6950e+03, 3.7710e+03,\n",
       "        3.5840e+03, 3.8690e+03, 3.9180e+03, 4.0350e+03, 4.1090e+03,\n",
       "        4.1790e+03, 4.1320e+03, 4.3640e+03, 4.3460e+03, 4.2780e+03,\n",
       "        4.3780e+03, 4.2600e+03, 4.1540e+03, 4.2310e+03, 4.3960e+03,\n",
       "        4.4180e+03, 4.5740e+03, 4.7330e+03, 4.6230e+03, 4.7210e+03,\n",
       "        4.9420e+03, 5.0760e+03, 5.0540e+03, 5.2060e+03, 5.3010e+03,\n",
       "        5.4600e+03, 5.6360e+03, 5.6180e+03, 5.8410e+03, 5.9640e+03,\n",
       "        6.0160e+03, 6.2040e+03, 6.0700e+03, 6.2870e+03, 6.2900e+03,\n",
       "        6.4010e+03, 6.4740e+03, 6.5630e+03, 6.7540e+03, 6.9180e+03,\n",
       "        7.0270e+03, 7.3500e+03, 7.3930e+03, 7.4960e+03, 7.7810e+03,\n",
       "        8.1270e+03, 8.2530e+03, 8.6200e+03, 9.1330e+03, 9.0530e+03,\n",
       "        8.9540e+03, 8.4500e+03, 8.4370e+03, 8.3160e+03, 8.2380e+03,\n",
       "        8.3680e+03, 8.4010e+03, 8.7890e+03, 8.5310e+03, 8.3740e+03,\n",
       "        8.1320e+03, 8.0000e+03, 7.8150e+03, 7.9430e+03, 8.1070e+03,\n",
       "        8.2280e+03, 8.0470e+03, 8.3110e+03, 8.7140e+03, 8.8470e+03,\n",
       "        9.1240e+03, 8.6500e+03, 8.3380e+03, 8.1970e+03, 7.8780e+03,\n",
       "        8.1730e+03, 8.4460e+03, 8.6200e+03, 9.2970e+03, 1.0167e+04,\n",
       "        1.1267e+04, 1.1763e+04, 1.2082e+04, 1.2339e+04, 1.1914e+04,\n",
       "        1.1177e+04, 1.0162e+04, 9.4680e+03, 9.6670e+03, 1.0311e+04,\n",
       "        1.0171e+04, 9.7570e+03, 9.5890e+03, 9.9940e+03, 1.0119e+04,\n",
       "        1.0254e+04, 1.0108e+04, 9.5240e+03, 8.9120e+03, 8.6470e+03,\n",
       "        8.4900e+03, 8.3290e+03, 8.0340e+03, 7.8530e+03, 9.1460e+03,\n",
       "        1.1137e+04, 1.1530e+04, 1.0033e+04, 8.5550e+03, 8.5420e+03,\n",
       "        9.1170e+03, 9.6860e+03, 8.9140e+03, 7.2750e+03, 5.6320e+03,\n",
       "        4.3440e+03, 3.2330e+03, 2.3760e+03, 1.8650e+03, 1.6530e+03,\n",
       "        1.4900e+03, 1.3780e+03, 1.6130e+03, 1.5050e+03, 7.2200e+02,\n",
       "        1.2300e+02, 1.0000e+01, 0.0000e+00, 0.0000e+00, 0.0000e+00,\n",
       "        0.0000e+00, 0.0000e+00, 0.0000e+00, 0.0000e+00, 0.0000e+00,\n",
       "        0.0000e+00, 0.0000e+00, 0.0000e+00, 0.0000e+00, 0.0000e+00,\n",
       "        0.0000e+00]),\n",
       " array([  0.,   1.,   2.,   3.,   4.,   5.,   6.,   7.,   8.,   9.,  10.,\n",
       "         11.,  12.,  13.,  14.,  15.,  16.,  17.,  18.,  19.,  20.,  21.,\n",
       "         22.,  23.,  24.,  25.,  26.,  27.,  28.,  29.,  30.,  31.,  32.,\n",
       "         33.,  34.,  35.,  36.,  37.,  38.,  39.,  40.,  41.,  42.,  43.,\n",
       "         44.,  45.,  46.,  47.,  48.,  49.,  50.,  51.,  52.,  53.,  54.,\n",
       "         55.,  56.,  57.,  58.,  59.,  60.,  61.,  62.,  63.,  64.,  65.,\n",
       "         66.,  67.,  68.,  69.,  70.,  71.,  72.,  73.,  74.,  75.,  76.,\n",
       "         77.,  78.,  79.,  80.,  81.,  82.,  83.,  84.,  85.,  86.,  87.,\n",
       "         88.,  89.,  90.,  91.,  92.,  93.,  94.,  95.,  96.,  97.,  98.,\n",
       "         99., 100., 101., 102., 103., 104., 105., 106., 107., 108., 109.,\n",
       "        110., 111., 112., 113., 114., 115., 116., 117., 118., 119., 120.,\n",
       "        121., 122., 123., 124., 125., 126., 127., 128., 129., 130., 131.,\n",
       "        132., 133., 134., 135., 136., 137., 138., 139., 140., 141., 142.,\n",
       "        143., 144., 145., 146., 147., 148., 149., 150., 151., 152., 153.,\n",
       "        154., 155., 156., 157., 158., 159., 160., 161., 162., 163., 164.,\n",
       "        165., 166., 167., 168., 169., 170., 171., 172., 173., 174., 175.,\n",
       "        176., 177., 178., 179., 180., 181., 182., 183., 184., 185., 186.,\n",
       "        187., 188., 189., 190., 191., 192., 193., 194., 195., 196., 197.,\n",
       "        198., 199., 200., 201., 202., 203., 204., 205., 206., 207., 208.,\n",
       "        209., 210., 211., 212., 213., 214., 215., 216., 217., 218., 219.,\n",
       "        220., 221., 222., 223., 224., 225., 226., 227., 228., 229., 230.,\n",
       "        231., 232., 233., 234., 235., 236., 237., 238., 239., 240., 241.,\n",
       "        242., 243., 244., 245., 246., 247., 248., 249., 250., 251., 252.,\n",
       "        253., 254., 255., 256.]),\n",
       " <a list of 256 Patch objects>)"
      ]
     },
     "execution_count": 46,
     "metadata": {},
     "output_type": "execute_result"
    },
    {
     "data": {
      "text/plain": [
       "(0, 256)"
      ]
     },
     "execution_count": 46,
     "metadata": {},
     "output_type": "execute_result"
    },
    {
     "data": {
      "text/plain": [
       "<matplotlib.legend.Legend at 0x208a794d6d8>"
      ]
     },
     "execution_count": 46,
     "metadata": {},
     "output_type": "execute_result"
    },
    {
     "data": {
      "image/png": "[encoded data removed]",
      "text/plain": [
       "<Figure size 432x288 with 1 Axes>"
      ]
     },
     "metadata": {
      "needs_background": "light"
     },
     "output_type": "display_data"
    },
    {
     "data": {
      "text/plain": [
       "[<matplotlib.lines.Line2D at 0x208a82c8b38>]"
      ]
     },
     "execution_count": 46,
     "metadata": {},
     "output_type": "execute_result"
    },
    {
     "data": {
      "text/plain": [
       "(array([2.6551e+04, 3.2290e+03, 3.6480e+03, 4.7870e+03, 5.6210e+03,\n",
       "        8.2290e+03, 7.6850e+03, 6.8430e+03, 1.8641e+04, 8.3190e+03,\n",
       "        1.3880e+03, 1.3020e+03, 1.1420e+03, 1.1040e+03, 1.1730e+03,\n",
       "        1.1980e+03, 1.1770e+03, 1.1340e+03, 1.0300e+03, 9.7900e+02,\n",
       "        1.0370e+03, 1.1860e+03, 1.1010e+03, 1.0330e+03, 1.0460e+03,\n",
       "        1.0830e+03, 1.1750e+03, 1.3740e+03, 1.5070e+03, 1.7310e+03,\n",
       "        1.7950e+03, 2.0050e+03, 2.2080e+03, 2.3280e+03, 2.5660e+03,\n",
       "        2.7080e+03, 3.0030e+03, 2.9690e+03, 3.2890e+03, 3.4640e+03,\n",
       "        3.4570e+03, 3.7280e+03, 3.9030e+03, 4.1600e+03, 4.3330e+03,\n",
       "        4.4340e+03, 4.5430e+03, 4.7750e+03, 5.0590e+03, 5.1080e+03,\n",
       "        5.1910e+03, 5.4680e+03, 5.4960e+03, 5.5510e+03, 5.5240e+03,\n",
       "        5.6580e+03, 5.4920e+03, 5.8590e+03, 5.7920e+03, 5.6610e+03,\n",
       "        5.6920e+03, 5.6890e+03, 5.4780e+03, 5.5550e+03, 5.5730e+03,\n",
       "        5.3960e+03, 5.5260e+03, 5.3900e+03, 5.1860e+03, 5.2040e+03,\n",
       "        5.1340e+03, 4.9470e+03, 5.0290e+03, 4.8160e+03, 4.5990e+03,\n",
       "        4.6950e+03, 4.3100e+03, 4.2060e+03, 4.1800e+03, 4.1810e+03,\n",
       "        4.0080e+03, 4.1310e+03, 4.1090e+03, 4.2550e+03, 4.2740e+03,\n",
       "        4.2670e+03, 4.1540e+03, 4.3530e+03, 4.2310e+03, 4.3530e+03,\n",
       "        4.1860e+03, 4.2080e+03, 4.0140e+03, 4.0050e+03, 3.9260e+03,\n",
       "        3.8470e+03, 3.9000e+03, 3.8800e+03, 3.8350e+03, 3.7160e+03,\n",
       "        3.7840e+03, 3.7010e+03, 3.5750e+03, 3.6430e+03, 3.5540e+03,\n",
       "        3.7170e+03, 3.6620e+03, 3.7450e+03, 3.6010e+03, 3.6740e+03,\n",
       "        3.6650e+03, 3.6480e+03, 3.5940e+03, 3.6480e+03, 3.6010e+03,\n",
       "        3.5250e+03, 3.6560e+03, 3.8740e+03, 3.7690e+03, 3.8250e+03,\n",
       "        3.7230e+03, 3.8530e+03, 3.7150e+03, 3.8150e+03, 3.8370e+03,\n",
       "        3.8210e+03, 3.8180e+03, 3.7630e+03, 3.7970e+03, 3.8330e+03,\n",
       "        3.8020e+03, 3.7780e+03, 3.9010e+03, 4.0360e+03, 3.9930e+03,\n",
       "        4.0200e+03, 4.0610e+03, 4.1650e+03, 4.1480e+03, 4.2410e+03,\n",
       "        4.2690e+03, 4.2330e+03, 4.2880e+03, 4.3030e+03, 4.5140e+03,\n",
       "        4.4840e+03, 4.6540e+03, 4.7490e+03, 4.6200e+03, 4.7620e+03,\n",
       "        4.9010e+03, 5.0270e+03, 5.1630e+03, 5.1630e+03, 5.3010e+03,\n",
       "        5.4360e+03, 5.7070e+03, 5.8210e+03, 6.0260e+03, 6.1600e+03,\n",
       "        6.2290e+03, 6.3580e+03, 6.4530e+03, 6.6780e+03, 6.8070e+03,\n",
       "        6.8900e+03, 6.9890e+03, 7.0310e+03, 7.1320e+03, 7.0110e+03,\n",
       "        6.8750e+03, 6.6530e+03, 6.5520e+03, 6.4940e+03, 6.2820e+03,\n",
       "        6.3640e+03, 6.4950e+03, 6.4220e+03, 6.3410e+03, 6.3690e+03,\n",
       "        6.4890e+03, 6.5530e+03, 6.6360e+03, 6.5330e+03, 6.1990e+03,\n",
       "        6.0700e+03, 5.7900e+03, 5.6300e+03, 5.6440e+03, 5.6880e+03,\n",
       "        5.5780e+03, 5.3640e+03, 5.1110e+03, 4.8600e+03, 4.4140e+03,\n",
       "        4.0000e+03, 3.7480e+03, 3.5340e+03, 3.3890e+03, 3.1510e+03,\n",
       "        3.0850e+03, 2.9120e+03, 2.8870e+03, 2.7660e+03, 2.8360e+03,\n",
       "        2.7700e+03, 2.6340e+03, 2.7090e+03, 2.7330e+03, 2.7210e+03,\n",
       "        2.7900e+03, 2.8340e+03, 2.8170e+03, 2.8410e+03, 2.8840e+03,\n",
       "        2.7820e+03, 2.7890e+03, 2.8030e+03, 2.7560e+03, 2.7960e+03,\n",
       "        2.8920e+03, 3.1000e+03, 3.2620e+03, 3.3820e+03, 3.5780e+03,\n",
       "        3.6640e+03, 3.8760e+03, 4.1270e+03, 4.4850e+03, 4.6830e+03,\n",
       "        5.0620e+03, 5.4400e+03, 5.4860e+03, 5.2270e+03, 4.7040e+03,\n",
       "        3.8670e+03, 3.1040e+03, 2.6270e+03, 2.0460e+03, 1.4820e+03,\n",
       "        1.0200e+03, 6.5200e+02, 3.8500e+02, 2.6800e+02, 2.1200e+02,\n",
       "        1.6200e+02, 9.6000e+01, 5.8000e+01, 3.5000e+01, 2.6000e+01,\n",
       "        1.7000e+01, 1.3000e+01, 6.0000e+00, 0.0000e+00, 1.0000e+00,\n",
       "        0.0000e+00]),\n",
       " array([  0.,   1.,   2.,   3.,   4.,   5.,   6.,   7.,   8.,   9.,  10.,\n",
       "         11.,  12.,  13.,  14.,  15.,  16.,  17.,  18.,  19.,  20.,  21.,\n",
       "         22.,  23.,  24.,  25.,  26.,  27.,  28.,  29.,  30.,  31.,  32.,\n",
       "         33.,  34.,  35.,  36.,  37.,  38.,  39.,  40.,  41.,  42.,  43.,\n",
       "         44.,  45.,  46.,  47.,  48.,  49.,  50.,  51.,  52.,  53.,  54.,\n",
       "         55.,  56.,  57.,  58.,  59.,  60.,  61.,  62.,  63.,  64.,  65.,\n",
       "         66.,  67.,  68.,  69.,  70.,  71.,  72.,  73.,  74.,  75.,  76.,\n",
       "         77.,  78.,  79.,  80.,  81.,  82.,  83.,  84.,  85.,  86.,  87.,\n",
       "         88.,  89.,  90.,  91.,  92.,  93.,  94.,  95.,  96.,  97.,  98.,\n",
       "         99., 100., 101., 102., 103., 104., 105., 106., 107., 108., 109.,\n",
       "        110., 111., 112., 113., 114., 115., 116., 117., 118., 119., 120.,\n",
       "        121., 122., 123., 124., 125., 126., 127., 128., 129., 130., 131.,\n",
       "        132., 133., 134., 135., 136., 137., 138., 139., 140., 141., 142.,\n",
       "        143., 144., 145., 146., 147., 148., 149., 150., 151., 152., 153.,\n",
       "        154., 155., 156., 157., 158., 159., 160., 161., 162., 163., 164.,\n",
       "        165., 166., 167., 168., 169., 170., 171., 172., 173., 174., 175.,\n",
       "        176., 177., 178., 179., 180., 181., 182., 183., 184., 185., 186.,\n",
       "        187., 188., 189., 190., 191., 192., 193., 194., 195., 196., 197.,\n",
       "        198., 199., 200., 201., 202., 203., 204., 205., 206., 207., 208.,\n",
       "        209., 210., 211., 212., 213., 214., 215., 216., 217., 218., 219.,\n",
       "        220., 221., 222., 223., 224., 225., 226., 227., 228., 229., 230.,\n",
       "        231., 232., 233., 234., 235., 236., 237., 238., 239., 240., 241.,\n",
       "        242., 243., 244., 245., 246., 247., 248., 249., 250., 251., 252.,\n",
       "        253., 254., 255., 256.]),\n",
       " <a list of 256 Patch objects>)"
      ]
     },
     "execution_count": 46,
     "metadata": {},
     "output_type": "execute_result"
    },
    {
     "data": {
      "text/plain": [
       "(0, 256)"
      ]
     },
     "execution_count": 46,
     "metadata": {},
     "output_type": "execute_result"
    },
    {
     "data": {
      "text/plain": [
       "<matplotlib.legend.Legend at 0x208a85e8080>"
      ]
     },
     "execution_count": 46,
     "metadata": {},
     "output_type": "execute_result"
    },
    {
     "data": {
      "image/png": "[encoded data removed]",
      "text/plain": [
       "<Figure size 432x288 with 1 Axes>"
      ]
     },
     "metadata": {
      "needs_background": "light"
     },
     "output_type": "display_data"
    }
   ],
   "source": [
    "for path in df.sample(12, random_state=42).path.values:\n",
    "    img = imread(path, 0)\n",
    "    hist, bins = np.histogram(img.flatten(), 256, [0, 256])\n",
    "    cdf = hist.cumsum()\n",
    "    cdf_normalized = cdf * float(hist.max()) / cdf.max()\n",
    "    plt.plot(cdf_normalized, color='b')\n",
    "    plt.hist(img.flatten(), 256, [0, 256], color='r')\n",
    "    plt.xlim([0, 256])\n",
    "    plt.legend(('cdf', 'histogram'), loc='upper left')\n",
    "    plt.show();"
   ]
  },
  {
   "cell_type": "code",
   "execution_count": 23,
   "metadata": {
    "ExecuteTime": {
     "end_time": "2019-11-17T16:33:54.604957Z",
     "start_time": "2019-11-17T16:33:52.827578Z"
    }
   },
   "outputs": [
    {
     "data": {
      "image/png": "[encoded data removed]",
      "text/plain": [
       "<Figure size 432x288 with 1 Axes>"
      ]
     },
     "metadata": {
      "needs_background": "light"
     },
     "output_type": "display_data"
    }
   ],
   "source": [
    "\n",
    "\n",
    "img = imread('data/images/00000001_000.png',0)\n",
    "hist,bins = np.histogram(img.flatten(),256,[0,256])\n",
    "cdf = hist.cumsum()\n",
    "cdf_normalized = cdf * float(hist.max()) / cdf.max()\n",
    "plt.plot(cdf_normalized, color = 'b')\n",
    "plt.hist(img.flatten(),256,[0,256], color = 'r')\n",
    "plt.xlim([0,256])\n",
    "plt.legend(('cdf','histogram'), loc = 'upper left')\n",
    "plt.show();"
   ]
  },
  {
   "cell_type": "code",
   "execution_count": 194,
   "metadata": {
    "ExecuteTime": {
     "end_time": "2019-11-16T22:29:17.800552Z",
     "start_time": "2019-11-16T22:29:17.674386Z"
    }
   },
   "outputs": [],
   "source": [
    "cdf_m = np.ma.masked_equal(cdf,0)\n",
    "cdf_m = (cdf_m - cdf_m.min())*255/(cdf_m.max()-cdf_m.min())\n",
    "cdf = np.ma.filled(cdf_m,0).astype('uint8')\n",
    "# Now we have the look-up table that gives us the information on what is the output pixel value for every input pixel value. So we just apply the transform.\n",
    "\n",
    "img2 = cdf[img]"
   ]
  },
  {
   "cell_type": "code",
   "execution_count": 196,
   "metadata": {
    "ExecuteTime": {
     "end_time": "2019-11-16T22:31:56.279353Z",
     "start_time": "2019-11-16T22:31:55.615465Z"
    }
   },
   "outputs": [
    {
     "data": {
      "image/png": "[encoded data removed]",
      "text/plain": [
       "<Figure size 432x288 with 1 Axes>"
      ]
     },
     "metadata": {
      "needs_background": "light"
     },
     "output_type": "display_data"
    }
   ],
   "source": [
    "hist,bins = np.histogram(img2.flatten(),256,[0,256])\n",
    "cdf = hist.cumsum()\n",
    "cdf_normalized = cdf * float(hist.max()) / cdf.max()\n",
    "plt.plot(cdf_normalized, color = 'b')\n",
    "plt.hist(img2.flatten(),256,[0,256], color = 'r')\n",
    "plt.xlim([0,256])\n",
    "plt.legend(('cdf','histogram'), loc = 'upper left')\n",
    "plt.show()"
   ]
  },
  {
   "cell_type": "code",
   "execution_count": 206,
   "metadata": {
    "ExecuteTime": {
     "end_time": "2019-11-16T22:37:54.287646Z",
     "start_time": "2019-11-16T22:37:54.133653Z"
    }
   },
   "outputs": [
    {
     "ename": "TypeError",
     "evalue": "imshow() missing required argument 'mat' (pos 2)",
     "output_type": "error",
     "traceback": [
      "\u001b[1;31m------------------------------------------------------------------------\u001b[0m",
      "\u001b[1;31mTypeError\u001b[0m                              Traceback (most recent call last)",
      "\u001b[1;32m<ipython-input-206-9684a0cb93a1>\u001b[0m in \u001b[0;36m<module>\u001b[1;34m\u001b[0m\n\u001b[0;32m      2\u001b[0m \u001b[0mequ\u001b[0m \u001b[1;33m=\u001b[0m \u001b[0mequalizeHist\u001b[0m\u001b[1;33m(\u001b[0m\u001b[0mimg\u001b[0m\u001b[1;33m)\u001b[0m\u001b[1;33m\u001b[0m\u001b[1;33m\u001b[0m\u001b[0m\n\u001b[0;32m      3\u001b[0m \u001b[0mres\u001b[0m \u001b[1;33m=\u001b[0m \u001b[0mnp\u001b[0m\u001b[1;33m.\u001b[0m\u001b[0mhstack\u001b[0m\u001b[1;33m(\u001b[0m\u001b[1;33m(\u001b[0m\u001b[0mimg\u001b[0m\u001b[1;33m,\u001b[0m\u001b[0mequ\u001b[0m\u001b[1;33m)\u001b[0m\u001b[1;33m)\u001b[0m \u001b[1;31m#stacking images side-by-side\u001b[0m\u001b[1;33m\u001b[0m\u001b[1;33m\u001b[0m\u001b[0m\n\u001b[1;32m----> 4\u001b[1;33m \u001b[0mimshow\u001b[0m\u001b[1;33m(\u001b[0m\u001b[0mres\u001b[0m\u001b[1;33m)\u001b[0m\u001b[1;33m\u001b[0m\u001b[1;33m\u001b[0m\u001b[0m\n\u001b[0m",
      "\u001b[1;31mTypeError\u001b[0m: imshow() missing required argument 'mat' (pos 2)"
     ]
    }
   ],
   "source": [
    "img = imread('data/images/00000001_000.png',0)\n",
    "equ = equalizeHist(img)\n",
    "res = np.hstack((img,equ)) #stacking images side-by-side\n",
    "imwrite(res)"
   ]
  },
  {
   "cell_type": "code",
   "execution_count": null,
   "metadata": {},
   "outputs": [],
   "source": []
  },
  {
   "cell_type": "code",
   "execution_count": null,
   "metadata": {},
   "outputs": [],
   "source": []
  },
  {
   "cell_type": "code",
   "execution_count": null,
   "metadata": {},
   "outputs": [],
   "source": []
  },
  {
   "cell_type": "code",
   "execution_count": null,
   "metadata": {},
   "outputs": [],
   "source": []
  },
  {
   "cell_type": "code",
   "execution_count": null,
   "metadata": {},
   "outputs": [],
   "source": [
    "model = Sequential()\n",
    "model.add(Convolution2D(32, 3, 3, input_shape=(img_width, img_height, 3)))\n",
    "model.add(Activation('relu'))\n",
    "model.add(MaxPooling)\n",
    "model.add(Convolution2D(32, 3, 3))\n",
    "model.add(Activation('relu'))\n",
    "model.add(MaxPooling)\n",
    "model.add(Convolution2D(62, 3, 3))\n",
    "model.add(Activation('relu'))\n",
    "model.add(MaxPooling)\n",
    "model.add(Flatten())\n",
    "model.add(Dense(64))\n",
    "model.aa(Activation('relu'))\n",
    "model.add(Dropout(0.5))\n",
    "model.add(Dense(1))\n",
    "model.add(Activation('sigmoid'))  # or softmax?\n",
    "model.compile(loss='binary_crossentropy',\n",
    "              optimizer='rmsprop', metrics='accuracy')\n",
    "# backward propagating based on loss function\n",
    "model.fit(.....)\n",
    "\n",
    "\n",
    "train_datagen = ImageDataGenerator(\n",
    "    rotation_range=15,\n",
    "    rescale=1./255,\n",
    "    shear_range=0.1,\n",
    "    zoom_range=0.2,\n",
    "    horizontal_flip=True,\n",
    "    width_shift_range=0.1,\n",
    "    height_shift_range=0.1\n",
    ")\n",
    "\n",
    "train_generator = train_datagen.flow_from_dataframe(\n",
    "    train_df,\n",
    "    \"../input/train/train/\",\n",
    "    x_col='filename',\n",
    "    y_col='category',\n",
    "    target_size=IMAGE_SIZE,\n",
    "    class_mode='categorical',\n",
    "    batch_size=batch_size\n",
    ")\n",
    "\n",
    "\n",
    "# classic CNN looks like this:\n",
    "# input>conv>reLU>conv>reLU>pool>relu>conv>pool>fullyconnected\n",
    "# common technique to avoid overfitting is to use dropout filters. it uses a random set of activation filters\n",
    "# by settin ghtme to 0 as data flows through\n",
    "\n",
    "\n",
    "# pooling reduces the dimensionality of each feature map but keeps the largest feature\n",
    "# reLU replace all negative values with zero\n",
    "\n",
    "# our filter is our feature identifier or basically the weights we assign\n",
    "\n",
    "# all you have to do is to create a small filter and convert it to an array"
   ]
  },
  {
   "cell_type": "code",
   "execution_count": null,
   "metadata": {},
   "outputs": [],
   "source": []
  },
  {
   "cell_type": "code",
   "execution_count": null,
   "metadata": {},
   "outputs": [],
   "source": []
  },
  {
   "cell_type": "code",
   "execution_count": null,
   "metadata": {},
   "outputs": [],
   "source": []
  },
  {
   "cell_type": "code",
   "execution_count": null,
   "metadata": {},
   "outputs": [],
   "source": []
  },
  {
   "cell_type": "code",
   "execution_count": null,
   "metadata": {},
   "outputs": [],
   "source": []
  },
  {
   "cell_type": "code",
   "execution_count": null,
   "metadata": {},
   "outputs": [],
   "source": []
  },
  {
   "cell_type": "code",
   "execution_count": null,
   "metadata": {},
   "outputs": [],
   "source": []
  },
  {
   "cell_type": "code",
   "execution_count": null,
   "metadata": {},
   "outputs": [],
   "source": []
  },
  {
   "cell_type": "code",
   "execution_count": null,
   "metadata": {},
   "outputs": [],
   "source": []
  },
  {
   "cell_type": "code",
   "execution_count": null,
   "metadata": {},
   "outputs": [],
   "source": []
  },
  {
   "cell_type": "code",
   "execution_count": null,
   "metadata": {},
   "outputs": [],
   "source": []
  },
  {
   "cell_type": "code",
   "execution_count": null,
   "metadata": {},
   "outputs": [],
   "source": []
  },
  {
   "cell_type": "code",
   "execution_count": null,
   "metadata": {},
   "outputs": [],
   "source": []
  },
  {
   "cell_type": "code",
   "execution_count": null,
   "metadata": {},
   "outputs": [],
   "source": []
  },
  {
   "cell_type": "code",
   "execution_count": null,
   "metadata": {},
   "outputs": [],
   "source": [
    "# create validation set from the training set.\n",
    "\n",
    "\n",
    "# make sure to batch normalize & renormalize across all the inputs\n",
    "\n",
    "# smaller batch size (32) leads to much better results"
   ]
  }
 ],
 "metadata": {
  "kernelspec": {
   "display_name": "Python 3",
   "language": "python",
   "name": "python3"
  },
  "language_info": {
   "codemirror_mode": {
    "name": "ipython",
    "version": 3
   },
   "file_extension": ".py",
   "mimetype": "text/x-python",
   "name": "python",
   "nbconvert_exporter": "python",
   "pygments_lexer": "ipython3",
   "version": "3.7.3"
  },
  "varInspector": {
   "cols": {
    "lenName": 16,
    "lenType": 16,
    "lenVar": 40
   },
   "kernels_config": {
    "python": {
     "delete_cmd_postfix": "",
     "delete_cmd_prefix": "del ",
     "library": "var_list.py",
     "varRefreshCmd": "print(var_dic_list())"
    },
    "r": {
     "delete_cmd_postfix": ") ",
     "delete_cmd_prefix": "rm(",
     "library": "var_list.r",
     "varRefreshCmd": "cat(var_dic_list()) "
    }
   },
   "types_to_exclude": [
    "module",
    "function",
    "builtin_function_or_method",
    "instance",
    "_Feature"
   ],
   "window_display": false
  }
 },
 "nbformat": 4,
 "nbformat_minor": 2
}
