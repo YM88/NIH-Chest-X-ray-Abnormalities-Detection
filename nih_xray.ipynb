{
 "cells": [
  {
   "cell_type": "markdown",
   "metadata": {},
   "source": [
    "# 0. Introduction\n",
    "NIH released the chest X-ray [dataset](https://www.nih.gov/news-events/news-releases/nih-clinical-center-provides-one-largest-publicly-available-chest-x-ray-datasets-scientific-community)\n",
    "Files are extracted in the **'data'** and and the images are extracted in the **'images'** folders.\n"
   ]
  },
  {
   "cell_type": "code",
   "execution_count": 14,
   "metadata": {
    "ExecuteTime": {
     "end_time": "2019-11-17T20:08:26.052661Z",
     "start_time": "2019-11-17T20:08:26.031573Z"
    }
   },
   "outputs": [],
   "source": [
    "# # Download the 56 zip files in Images_png in batches\n",
    "# import urllib\n",
    "\n",
    "# # URLs for the zip files\n",
    "# links = [\n",
    "#     'https://nihcc.box.com/shared/static/vfk49d74nhbxq3nqjg0900w5nvkorp5c.gz',\n",
    "#     'https://nihcc.box.com/shared/static/i28rlmbvmfjbl8p2n3ril0pptcmcu9d1.gz',\n",
    "#     'https://nihcc.box.com/shared/static/f1t00wrtdk94satdfb9olcolqx20z2jp.gz',\n",
    "#     'https://nihcc.box.com/shared/static/0aowwzs5lhjrceb3qp67ahp0rd1l1etg.gz',\n",
    "#     'https://nihcc.box.com/shared/static/v5e3goj22zr6h8tzualxfsqlqaygfbsn.gz',\n",
    "#     'https://nihcc.box.com/shared/static/asi7ikud9jwnkrnkj99jnpfkjdes7l6l.gz',\n",
    "#     'https://nihcc.box.com/shared/static/jn1b4mw4n6lnh74ovmcjb8y48h8xj07n.gz',\n",
    "#     'https://nihcc.box.com/shared/static/tvpxmn7qyrgl0w8wfh9kqfjskv6nmm1j.gz',\n",
    "#     'https://nihcc.box.com/shared/static/upyy3ml7qdumlgk2rfcvlb9k6gvqq2pj.gz',\n",
    "#     'https://nihcc.box.com/shared/static/l6nilvfa9cg3s28tqv1qc1olm3gnz54p.gz',\n",
    "#     'https://nihcc.box.com/shared/static/hhq8fkdgvcari67vfhs7ppg2w6ni4jze.gz',\n",
    "#     'https://nihcc.box.com/shared/static/ioqwiy20ihqwyr8pf4c24eazhh281pbu.gz'\n",
    "# ]\n",
    "\n",
    "# for idx, link in enumerate(links):\n",
    "#     fn = 'images_%02d.tar.gz' % (idx+1)\n",
    "#     print('downloading', fn, '...')\n",
    "#     urllib.request.urlretrieve(link, fn)  # download the zip file\n",
    "# print(\"Download complete. Please check the checksums\")"
   ]
  },
  {
   "cell_type": "markdown",
   "metadata": {},
   "source": [
    "## Loading Prerequisites and Libraries "
   ]
  },
  {
   "cell_type": "markdown",
   "metadata": {},
   "source": [
    "Standard Imports:  \n",
    "Plotly is configured to run in the offline mode.  \n",
    "Pandas is chosen to for manipulating csv files.  \n",
    "Numpy is for the arithmetic applications.\n",
    "\n",
    "Visualizations:  \n",
    "Most of the visualizations are done via matplotlib, seaborn and plotly.   \n",
    "\n",
    "Custom Functions:  \n",
    "All additional functions and code are written and imported from the **eda_xray.py** file."
   ]
  },
  {
   "cell_type": "code",
   "execution_count": 31,
   "metadata": {
    "ExecuteTime": {
     "end_time": "2019-11-18T15:17:45.325506Z",
     "start_time": "2019-11-18T15:17:45.046749Z"
    }
   },
   "outputs": [
    {
     "name": "stdout",
     "output_type": "stream",
     "text": [
      "The autoreload extension is already loaded. To reload it, use:\n",
      "  %reload_ext autoreload\n"
     ]
    },
    {
     "data": {
      "application/vnd.jupyter.widget-view+json": {
       "model_id": "3efeb81bad044b1092c11a654872ca76",
       "version_major": 2,
       "version_minor": 0
      },
      "text/plain": [
       "ColorPicker(value='blue', description='Pick a color')"
      ]
     },
     "metadata": {},
     "output_type": "display_data"
    }
   ],
   "source": [
    "import shutil\n",
    "import os\n",
    "from eda_xray import load_xray\n",
    "from itertools import chain\n",
    "import seaborn as sns\n",
    "import pandas as pd\n",
    "import numpy as np\n",
    "import matplotlib.pyplot as plt  # sets up plotting under plt\n",
    "import matplotlib.cm as cm  # allows us easy access to colormaps\n",
    "from IPython.core.interactiveshell import InteractiveShell\n",
    "from IPython.core.display import display, HTML\n",
    "import ipywidgets as widgets\n",
    "from ipywidgets import interact\n",
    "import plotly_express as px\n",
    "import plotly.graph_objs as go\n",
    "import plotly.offline\n",
    "%matplotlib inline\n",
    "sns.set_style('whitegrid')\n",
    "sns.set_context(\"poster\")\n",
    "# import jtplot submodule from jupyterthemes\n",
    "from jupyterthemes import jtplot\n",
    "\n",
    "# currently installed theme will be used to\n",
    "# set plot style if no arguments provided\n",
    "jtplot.style(context='talk', fscale=1.4, spines=False, gridlines='--')\n",
    "%load_ext autoreload\n",
    "%autoreload 2\n",
    "pd.set_option('display.width', 500)\n",
    "pd.set_option('display.max_columns', 100)\n",
    "pd.set_option('display.max_rows', 100)\n",
    "pd.set_option('display.notebook_repr_html', True)\n",
    "pd.set_option('precision', 5)\n",
    "InteractiveShell.ast_node_interactivity = \"all\"\n",
    "# InteractiveShell.ast_node_interactivity = \"last_expr\"\n",
    "widgets.ColorPicker(\n",
    "    concise=False,\n",
    "    description='Pick a color',\n",
    "    value='blue',\n",
    "    disabled=False)"
   ]
  },
  {
   "cell_type": "markdown",
   "metadata": {},
   "source": [
    "There is a total of 112120 images on the NIH dataset."
   ]
  },
  {
   "cell_type": "code",
   "execution_count": 116,
   "metadata": {
    "ExecuteTime": {
     "end_time": "2019-11-18T19:03:25.255507Z",
     "start_time": "2019-11-18T19:03:24.932507Z"
    }
   },
   "outputs": [
    {
     "data": {
      "text/plain": [
       "112120"
      ]
     },
     "execution_count": 116,
     "metadata": {},
     "output_type": "execute_result"
    }
   ],
   "source": [
    "# creating image location and looking for the number of the images\n",
    "img_location = 'data/images'\n",
    "imgs = [file for file in os.listdir(img_location) if file.endswith('.png')]\n",
    "len(imgs)"
   ]
  },
  {
   "cell_type": "markdown",
   "metadata": {},
   "source": [
    "## Importing data and renaming/dropping columns\n",
    "\n",
    "The function **load_xray** does the following:\n",
    "1. imports the css\n",
    "2. renames the columns to lower letter\n",
    "3. drops the last empty column\n",
    "4. adds a new columns caled **'path'** that has the x-rays *image*.png* location"
   ]
  },
  {
   "cell_type": "code",
   "execution_count": 117,
   "metadata": {
    "ExecuteTime": {
     "end_time": "2019-11-18T19:03:26.315509Z",
     "start_time": "2019-11-18T19:03:25.872507Z"
    }
   },
   "outputs": [
    {
     "data": {
      "text/html": [
       "<div>\n",
       "<style scoped>\n",
       "    .dataframe tbody tr th:only-of-type {\n",
       "        vertical-align: middle;\n",
       "    }\n",
       "\n",
       "    .dataframe tbody tr th {\n",
       "        vertical-align: top;\n",
       "    }\n",
       "\n",
       "    .dataframe thead th {\n",
       "        text-align: right;\n",
       "    }\n",
       "</style>\n",
       "<table border=\"1\" class=\"dataframe\">\n",
       "  <thead>\n",
       "    <tr style=\"text-align: right;\">\n",
       "      <th></th>\n",
       "      <th>imgindex</th>\n",
       "      <th>label</th>\n",
       "      <th>followup</th>\n",
       "      <th>patientID</th>\n",
       "      <th>age</th>\n",
       "      <th>gender</th>\n",
       "      <th>viewposition</th>\n",
       "      <th>width</th>\n",
       "      <th>height</th>\n",
       "      <th>x</th>\n",
       "      <th>y</th>\n",
       "      <th>path</th>\n",
       "    </tr>\n",
       "  </thead>\n",
       "  <tbody>\n",
       "    <tr>\n",
       "      <th>31039</th>\n",
       "      <td>00008067_020.png</td>\n",
       "      <td>No Finding</td>\n",
       "      <td>20</td>\n",
       "      <td>8067</td>\n",
       "      <td>44</td>\n",
       "      <td>M</td>\n",
       "      <td>AP</td>\n",
       "      <td>2500</td>\n",
       "      <td>2048</td>\n",
       "      <td>0.168</td>\n",
       "      <td>0.168</td>\n",
       "      <td>data/images/00008067_020.png</td>\n",
       "    </tr>\n",
       "    <tr>\n",
       "      <th>95111</th>\n",
       "      <td>00024827_000.png</td>\n",
       "      <td>No Finding</td>\n",
       "      <td>0</td>\n",
       "      <td>24827</td>\n",
       "      <td>27</td>\n",
       "      <td>M</td>\n",
       "      <td>PA</td>\n",
       "      <td>2878</td>\n",
       "      <td>2885</td>\n",
       "      <td>0.143</td>\n",
       "      <td>0.143</td>\n",
       "      <td>data/images/00024827_000.png</td>\n",
       "    </tr>\n",
       "    <tr>\n",
       "      <th>91516</th>\n",
       "      <td>00022826_025.png</td>\n",
       "      <td>Infiltration|Pleural_Thickening</td>\n",
       "      <td>25</td>\n",
       "      <td>22826</td>\n",
       "      <td>61</td>\n",
       "      <td>M</td>\n",
       "      <td>PA</td>\n",
       "      <td>2698</td>\n",
       "      <td>2991</td>\n",
       "      <td>0.143</td>\n",
       "      <td>0.143</td>\n",
       "      <td>data/images/00022826_025.png</td>\n",
       "    </tr>\n",
       "    <tr>\n",
       "      <th>60622</th>\n",
       "      <td>00014958_007.png</td>\n",
       "      <td>Atelectasis|Effusion</td>\n",
       "      <td>7</td>\n",
       "      <td>14958</td>\n",
       "      <td>18</td>\n",
       "      <td>F</td>\n",
       "      <td>PA</td>\n",
       "      <td>2554</td>\n",
       "      <td>2746</td>\n",
       "      <td>0.143</td>\n",
       "      <td>0.143</td>\n",
       "      <td>data/images/00014958_007.png</td>\n",
       "    </tr>\n",
       "    <tr>\n",
       "      <th>51177</th>\n",
       "      <td>00012931_019.png</td>\n",
       "      <td>Infiltration</td>\n",
       "      <td>19</td>\n",
       "      <td>12931</td>\n",
       "      <td>47</td>\n",
       "      <td>F</td>\n",
       "      <td>AP</td>\n",
       "      <td>2500</td>\n",
       "      <td>2048</td>\n",
       "      <td>0.168</td>\n",
       "      <td>0.168</td>\n",
       "      <td>data/images/00012931_019.png</td>\n",
       "    </tr>\n",
       "  </tbody>\n",
       "</table>\n",
       "</div>"
      ],
      "text/plain": [
       "               imgindex                            label  followup  patientID  age gender viewposition  width  height      x      y                          path\n",
       "31039  00008067_020.png                       No Finding        20       8067   44      M           AP   2500    2048  0.168  0.168  data/images/00008067_020.png\n",
       "95111  00024827_000.png                       No Finding         0      24827   27      M           PA   2878    2885  0.143  0.143  data/images/00024827_000.png\n",
       "91516  00022826_025.png  Infiltration|Pleural_Thickening        25      22826   61      M           PA   2698    2991  0.143  0.143  data/images/00022826_025.png\n",
       "60622  00014958_007.png             Atelectasis|Effusion         7      14958   18      F           PA   2554    2746  0.143  0.143  data/images/00014958_007.png\n",
       "51177  00012931_019.png                     Infiltration        19      12931   47      F           AP   2500    2048  0.168  0.168  data/images/00012931_019.png"
      ]
     },
     "execution_count": 117,
     "metadata": {},
     "output_type": "execute_result"
    }
   ],
   "source": [
    "data = 'data/Data_Entry_2017.csv'\n",
    "df = load_xray(data)\n",
    "df.sample(5)"
   ]
  },
  {
   "cell_type": "code",
   "execution_count": 118,
   "metadata": {
    "ExecuteTime": {
     "end_time": "2019-11-18T19:03:26.686508Z",
     "start_time": "2019-11-18T19:03:26.543509Z"
    }
   },
   "outputs": [],
   "source": [
    "# df.age.describe()\n",
    "# df[df.age > df.age.quantile(0.997)]\n",
    "# df[df.age > 100]\n",
    "# sns.distplot(df.age[df.age > df.age.quantile(0.997)], kde = False)"
   ]
  },
  {
   "cell_type": "markdown",
   "metadata": {},
   "source": [
    "There are 836 different combinations of labeling among the x-rays."
   ]
  },
  {
   "cell_type": "markdown",
   "metadata": {},
   "source": [
    "## Unique pathologies of x-ray abnormalities and choosing a subset\n",
    "\n",
    "There 836 unique values in the labels and these values have several different groupings of the pathologies. "
   ]
  },
  {
   "cell_type": "code",
   "execution_count": 119,
   "metadata": {
    "ExecuteTime": {
     "end_time": "2019-11-18T19:03:27.756506Z",
     "start_time": "2019-11-18T19:03:27.628508Z"
    }
   },
   "outputs": [
    {
     "data": {
      "text/plain": [
       "836"
      ]
     },
     "execution_count": 119,
     "metadata": {},
     "output_type": "execute_result"
    }
   ],
   "source": [
    "df.label.nunique()"
   ]
  },
  {
   "cell_type": "markdown",
   "metadata": {},
   "source": [
    "If we don't the consider the multilabel abnormalities, we'd have 14 labels plus the *'No Finding'* classification."
   ]
  },
  {
   "cell_type": "code",
   "execution_count": 120,
   "metadata": {
    "ExecuteTime": {
     "end_time": "2019-11-18T19:03:29.416656Z",
     "start_time": "2019-11-18T19:03:28.975507Z"
    },
    "cell_style": "center"
   },
   "outputs": [
    {
     "name": "stdout",
     "output_type": "stream",
     "text": [
      "Infiltration          9547\n",
      "Atelectasis           4215\n",
      "Effusion              3955\n",
      "Nodule                2705\n",
      "Pneumothorax          2194\n",
      "Mass                  2139\n",
      "Consolidation         1310\n",
      "Pleural_Thickening    1126\n",
      "Cardiomegaly          1093\n",
      "Emphysema              892\n",
      "Fibrosis               727\n",
      "Edema                  628\n",
      "Pneumonia              322\n",
      "Hernia                 110\n",
      "Name: label, dtype: int64\n"
     ]
    },
    {
     "data": {
      "image/png": "[encoded data removed]",
      "text/plain": [
       "<Figure size 1440x360 with 1 Axes>"
      ]
     },
     "metadata": {},
     "output_type": "display_data"
    }
   ],
   "source": [
    "single_labels = ['Atelectasis', 'Consolidation', 'Infiltration', 'Pneumothorax',\n",
    "                 'Edema', 'Emphysema', 'Fibrosis', 'Effusion', 'Pneumonia',\n",
    "                 'Pleural_Thickening', 'Cardiomegaly', 'Nodule', 'Mass', 'Hernia']\n",
    "print(df[df.label.isin(single_labels)].label.value_counts())\n",
    "\n",
    "df[df.label.isin(single_labels)].label.value_counts().plot(kind='bar',\n",
    "                                                           figsize=(20, 5),\n",
    "                                                           title='Value Counts in Single Label Categories of Chest X-rays');"
   ]
  },
  {
   "cell_type": "markdown",
   "metadata": {},
   "source": [
    "By Looking at the dataset we can see there's more than 60,000 values for the *'No Finding'* label.\n",
    "To have a subset we randomly sample 10,000 values of this label and concat with the other single labels."
   ]
  },
  {
   "cell_type": "code",
   "execution_count": 121,
   "metadata": {
    "ExecuteTime": {
     "end_time": "2019-11-18T19:03:30.329507Z",
     "start_time": "2019-11-18T19:03:30.167510Z"
    }
   },
   "outputs": [],
   "source": [
    "df_subset = pd.concat((df[df.label == 'No Finding'].sample(10000, random_state=42),\n",
    "                       df[df.label.isin(single_labels)]))"
   ]
  },
  {
   "cell_type": "code",
   "execution_count": 122,
   "metadata": {
    "ExecuteTime": {
     "end_time": "2019-11-18T19:03:33.310630Z",
     "start_time": "2019-11-18T19:03:32.915621Z"
    }
   },
   "outputs": [
    {
     "name": "stdout",
     "output_type": "stream",
     "text": [
      "No Finding            10000\n",
      "Infiltration           9547\n",
      "Atelectasis            4215\n",
      "Effusion               3955\n",
      "Nodule                 2705\n",
      "Pneumothorax           2194\n",
      "Mass                   2139\n",
      "Consolidation          1310\n",
      "Pleural_Thickening     1126\n",
      "Cardiomegaly           1093\n",
      "Emphysema               892\n",
      "Fibrosis                727\n",
      "Edema                   628\n",
      "Pneumonia               322\n",
      "Hernia                  110\n",
      "Name: label, dtype: int64\n"
     ]
    },
    {
     "data": {
      "image/png": "[encoded data removed]",
      "text/plain": [
       "<Figure size 1440x360 with 1 Axes>"
      ]
     },
     "metadata": {},
     "output_type": "display_data"
    }
   ],
   "source": [
    "print(df_subset.label.value_counts())\n",
    "df_subset.label.value_counts().plot(kind='bar',\n",
    "                                    figsize=(20, 5),\n",
    "                                    color='g',\n",
    "                                    title='Subset Counts in Single Label Categories of Chest X-rays');"
   ]
  },
  {
   "cell_type": "markdown",
   "metadata": {},
   "source": [
    "The created subset has a total of 40963 values, which close to a third of the original dataset. Thus in total we have chosen **%36.53** of the original dataframe. "
   ]
  },
  {
   "cell_type": "code",
   "execution_count": 123,
   "metadata": {
    "ExecuteTime": {
     "end_time": "2019-11-18T19:03:43.626944Z",
     "start_time": "2019-11-18T19:03:43.524974Z"
    }
   },
   "outputs": [
    {
     "name": "stdout",
     "output_type": "stream",
     "text": [
      "# of rows in the subset dataframe:  40963\n",
      "\n",
      "# of rows in the original dataframe:  112120\n",
      "\n",
      "percentage subset of the original:  36.53496254013557\n"
     ]
    }
   ],
   "source": [
    "print('# of rows in the subset dataframe: ', df_subset.shape[0])\n",
    "print('\\n# of rows in the original dataframe: ', df.shape[0])\n",
    "print('\\npercentage subset of the original: ',\n",
    "      df_subset.shape[0]/df.shape[0]*100)"
   ]
  },
  {
   "cell_type": "markdown",
   "metadata": {},
   "source": [
    "## Creating Categorical Variables"
   ]
  },
  {
   "cell_type": "code",
   "execution_count": 135,
   "metadata": {
    "ExecuteTime": {
     "end_time": "2019-11-18T19:17:31.217516Z",
     "start_time": "2019-11-18T19:17:31.090451Z"
    }
   },
   "outputs": [],
   "source": [
    "# create\n",
    "cat_df = pd.get_dummies(df_subset,\n",
    "               columns=['label'],\n",
    "               prefix='',\n",
    "               prefix_sep='',\n",
    "               dtype=np.float64)\n",
    "\n",
    "cat_df['label'] = df_subset.label\n",
    "df_subset = cat_df"
   ]
  },
  {
   "cell_type": "code",
   "execution_count": 137,
   "metadata": {
    "ExecuteTime": {
     "end_time": "2019-11-18T19:18:10.584197Z",
     "start_time": "2019-11-18T19:17:51.373177Z"
    }
   },
   "outputs": [],
   "source": [
    "df_subset['target'] = df_subset.apply(lambda x: [x[single_labels].values], 1).map(lambda x: x[0])"
   ]
  },
  {
   "cell_type": "code",
   "execution_count": 138,
   "metadata": {
    "ExecuteTime": {
     "end_time": "2019-11-18T19:18:24.807905Z",
     "start_time": "2019-11-18T19:18:24.672912Z"
    }
   },
   "outputs": [],
   "source": [
    "# overwriting the df variable name with the df_subset for convention\n",
    "df = df_subset"
   ]
  },
  {
   "cell_type": "markdown",
   "metadata": {},
   "source": [
    "## Output to CSV & Pickle & HD5"
   ]
  },
  {
   "cell_type": "code",
   "execution_count": 89,
   "metadata": {
    "ExecuteTime": {
     "end_time": "2019-11-18T18:45:52.387535Z",
     "start_time": "2019-11-18T18:45:52.204478Z"
    }
   },
   "outputs": [],
   "source": []
  },
  {
   "cell_type": "markdown",
   "metadata": {},
   "source": [
    "## Split train, validation, and test data"
   ]
  },
  {
   "cell_type": "code",
   "execution_count": 146,
   "metadata": {
    "ExecuteTime": {
     "end_time": "2019-11-18T19:38:10.470424Z",
     "start_time": "2019-11-18T19:38:09.851517Z"
    }
   },
   "outputs": [
    {
     "name": "stdout",
     "output_type": "stream",
     "text": [
      "training set values (26216, 28)\n",
      "validation set values (8193, 28)\n",
      "testing set values (6554, 28)\n",
      "subset data values (40963, 28)\n"
     ]
    }
   ],
   "source": [
    "from sklearn.model_selection import train_test_split\n",
    "\n",
    "train_set, valid_set = train_test_split(df, test_size=0.2,\n",
    "                                       random_state=42,\n",
    "                                       stratify=df.label)\n",
    "\n",
    "train_set, test_set = train_test_split(train_set, test_size = 0.2, \n",
    "                                       random_state = 42, \n",
    "                                       stratify=train_set.label)\n",
    "\n",
    "\n",
    "print('training set values', train_set.shape)\n",
    "print('validation set values', valid_set.shape)\n",
    "print('testing set values', test_set.shape)\n",
    "print('subset data values', df.shape)\n"
   ]
  },
  {
   "cell_type": "code",
   "execution_count": 167,
   "metadata": {
    "ExecuteTime": {
     "end_time": "2019-11-18T19:52:07.943751Z",
     "start_time": "2019-11-18T19:52:06.457449Z"
    }
   },
   "outputs": [
    {
     "data": {
      "text/plain": [
       "<matplotlib.axes._subplots.AxesSubplot at 0x2a078b1b630>"
      ]
     },
     "execution_count": 167,
     "metadata": {},
     "output_type": "execute_result"
    },
    {
     "data": {
      "text/plain": [
       "<matplotlib.axes._subplots.AxesSubplot at 0x2a078b1b630>"
      ]
     },
     "execution_count": 167,
     "metadata": {},
     "output_type": "execute_result"
    },
    {
     "data": {
      "text/plain": [
       "<matplotlib.axes._subplots.AxesSubplot at 0x2a078b1b630>"
      ]
     },
     "execution_count": 167,
     "metadata": {},
     "output_type": "execute_result"
    },
    {
     "data": {
      "image/png": "[encoded data removed]",
      "text/plain": [
       "<Figure size 748.8x655.2 with 1 Axes>"
      ]
     },
     "metadata": {},
     "output_type": "display_data"
    }
   ],
   "source": [
    "#looking at the normalization of the splits\n",
    "for i in [train_set, valid_set, test_set]:\n",
    "    i.label.value_counts().plot(kind = 'barh');"
   ]
  },
  {
   "cell_type": "markdown",
   "metadata": {},
   "source": [
    "# Image Preprocessing"
   ]
  },
  {
   "cell_type": "markdown",
   "metadata": {},
   "source": [
    "## Checking for contrast normality"
   ]
  },
  {
   "cell_type": "code",
   "execution_count": null,
   "metadata": {},
   "outputs": [],
   "source": [
    "#plotting function\n",
    "#scikit image has some stuff - check them out on google\n"
   ]
  },
  {
   "cell_type": "markdown",
   "metadata": {
    "ExecuteTime": {
     "end_time": "2019-11-18T20:54:59.854257Z",
     "start_time": "2019-11-18T20:54:56.691551Z"
    }
   },
   "source": [
    "\n",
    "## CLAHE - Contrast Limited Adaptive Histogram Equalization  \n",
    "\n",
    "We apply the CLAHE [(Contrast Limited Adaptive Histogram Equalization)](https://en.wikipedia.org/wiki/Adaptive_histogram_equalization) method, which is a popular image processing method to improve contrast in images and limit the noise amplification of the regular adaptive method.\n"
   ]
  },
  {
   "cell_type": "code",
   "execution_count": 175,
   "metadata": {
    "ExecuteTime": {
     "end_time": "2019-11-18T21:04:04.242951Z",
     "start_time": "2019-11-18T21:04:03.754757Z"
    }
   },
   "outputs": [],
   "source": [
    "from tensorflow.keras.preprocessing.image import ImageDataGenerator\n",
    "\n",
    "from skimage.exposure import equalize_adapthist\n",
    "\n",
    "def CLAHE(img):\n",
    "    img = exposure.equalize_adapthist(img, clip_limit=0.03)\n",
    "    return img_adapteq\n",
    "\n",
    "img_gen = ImageDataGenerator(preprocessing_function=CLAHE,\n",
    "                             rescale=1./255,\n",
    "                             shear_range=0.2,\n",
    "                             zoom_range=0.2,\n",
    "                             rotation_range=30,\n",
    "                             width_shift_range=0.2,\n",
    "                             height_shift_range=0.2,\n",
    "                             horizontal_flip=True)"
   ]
  },
  {
   "cell_type": "code",
   "execution_count": 179,
   "metadata": {
    "ExecuteTime": {
     "end_time": "2019-11-18T21:57:22.173253Z",
     "start_time": "2019-11-18T21:57:14.112712Z"
    }
   },
   "outputs": [
    {
     "name": "stdout",
     "output_type": "stream",
     "text": [
      "Found 26216 validated image filenames belonging to 15 classes.\n"
     ]
    }
   ],
   "source": [
    "# test_datagen = ImageDataGenerator(rescale=1./255)\n",
    "\n",
    "train_generator = img_gen.flow_from_dataframe(\n",
    "        dataframe=train_set,\n",
    "        directory='',\n",
    "        x_col=\"path\",\n",
    "        y_col=\"label\",\n",
    "        target_size=(128, 128),\n",
    "        batch_size=32,\n",
    "        class_mode='sparse')"
   ]
  },
  {
   "cell_type": "code",
   "execution_count": 182,
   "metadata": {
    "ExecuteTime": {
     "end_time": "2019-11-18T21:58:34.339082Z",
     "start_time": "2019-11-18T21:58:31.763015Z"
    }
   },
   "outputs": [
    {
     "name": "stdout",
     "output_type": "stream",
     "text": [
      "Found 8193 validated image filenames belonging to 15 classes.\n"
     ]
    }
   ],
   "source": [
    "validation_generator = img_gen.flow_from_dataframe(\n",
    "        dataframe=valid_set,\n",
    "        directory='',\n",
    "        x_col=\"path\",\n",
    "        y_col=\"label\",\n",
    "        target_size=(128, 128),\n",
    "        batch_size=128,\n",
    "        class_mode='sparse')"
   ]
  },
  {
   "cell_type": "code",
   "execution_count": 183,
   "metadata": {
    "ExecuteTime": {
     "end_time": "2019-11-18T22:02:13.133270Z",
     "start_time": "2019-11-18T22:02:12.567235Z"
    }
   },
   "outputs": [],
   "source": [
    "# Import relevant libraries\n",
    "from tensorflow.keras.layers import Conv2D, MaxPooling2D, GlobalAveragePooling2D\n",
    "from tensorflow.keras.layers import Dropout, Flatten, Dense\n",
    "from tensorflow.keras.models import Sequential"
   ]
  },
  {
   "cell_type": "code",
   "execution_count": null,
   "metadata": {
    "ExecuteTime": {
     "end_time": "2019-11-18T22:02:38.936149Z",
     "start_time": "2019-11-18T22:02:38.284957Z"
    }
   },
   "outputs": [],
   "source": [
    "# Create CNN model\n",
    "# Will use a combination of convolutional, max pooling, and dropout layers for this purpose\n",
    "model = Sequential()\n",
    "\n",
    "model.add(Conv2D(filters = 8, kernel_size = 3, padding = 'same', activation = 'relu', input_shape = test_X.shape[1:]))\n",
    "model.add(MaxPooling2D(pool_size = 2))\n",
    "model.add(Dropout(0.2))\n",
    "\n",
    "model.add(Conv2D(filters = 16, kernel_size = 3, padding = 'same', activation = 'relu'))\n",
    "model.add(MaxPooling2D(pool_size = 2))\n",
    "model.add(Dropout(0.2))\n",
    "          \n",
    "model.add(Conv2D(filters = 32, kernel_size = 3, padding = 'same', activation = 'relu'))\n",
    "model.add(MaxPooling2D(pool_size = 2))\n",
    "model.add(Dropout(0.2))\n",
    "\n",
    "model.add(Conv2D(filters = 64, kernel_size = 3, padding = 'same', activation = 'relu'))\n",
    "model.add(MaxPooling2D(pool_size = 2))\n",
    "model.add(Dropout(0.2))\n",
    "          \n",
    "model.add(Conv2D(filters = 128, kernel_size = 3, padding = 'same', activation = 'relu'))\n",
    "model.add(MaxPooling2D(pool_size = 3))\n",
    "model.add(Dropout(0.2))\n",
    "\n",
    "# add in fully connected dense layers to model, then output classifiction probabilities using a softmax activation function\n",
    "model.add(Flatten())\n",
    "model.add(Dense(500, activation = 'relu'))\n",
    "model.add(Dropout(0.2))\n",
    "model.add(Dense(len(single_labels), activation = 'softmax'))\n",
    "\n",
    "# compile model, run summary\n",
    "model.compile(optimizer='adam', loss='categorical_crossentropy', metrics=['accuracy'])\n",
    "model.summary()"
   ]
  },
  {
   "cell_type": "code",
   "execution_count": null,
   "metadata": {
    "ExecuteTime": {
     "end_time": "2019-11-18T22:02:38.936149Z",
     "start_time": "2019-11-18T22:02:38.284957Z"
    }
   },
   "outputs": [],
   "source": [
    "# set up a checkpoint for model training\n",
    "# https://keras.io/callbacks/\n",
    "from keras.callbacks import ModelCheckpoint\n",
    "\n",
    "checkpointer = ModelCheckpoint(filepath='weights.best.{epoch:02d}-{val_loss:.2f}.hdf5', verbose=1, save_best_only = True)\n",
    "callbacks_list = [checkpointer]"
   ]
  },
  {
   "cell_type": "code",
   "execution_count": 184,
   "metadata": {
    "ExecuteTime": {
     "end_time": "2019-11-18T22:02:38.936149Z",
     "start_time": "2019-11-18T22:02:38.284957Z"
    }
   },
   "outputs": [
    {
     "ename": "NameError",
     "evalue": "name 'test_X' is not defined",
     "output_type": "error",
     "traceback": [
      "\u001b[1;31m--------------------------------------------------------------------\u001b[0m",
      "\u001b[1;31mNameError\u001b[0m                          Traceback (most recent call last)",
      "\u001b[1;32m<ipython-input-184-e900b6014e14>\u001b[0m in \u001b[0;36m<module>\u001b[1;34m\u001b[0m\n\u001b[0;32m      3\u001b[0m \u001b[0mmodel\u001b[0m \u001b[1;33m=\u001b[0m \u001b[0mSequential\u001b[0m\u001b[1;33m(\u001b[0m\u001b[1;33m)\u001b[0m\u001b[1;33m\u001b[0m\u001b[1;33m\u001b[0m\u001b[0m\n\u001b[0;32m      4\u001b[0m \u001b[1;33m\u001b[0m\u001b[0m\n\u001b[1;32m----> 5\u001b[1;33m \u001b[0mmodel\u001b[0m\u001b[1;33m.\u001b[0m\u001b[0madd\u001b[0m\u001b[1;33m(\u001b[0m\u001b[0mConv2D\u001b[0m\u001b[1;33m(\u001b[0m\u001b[0mfilters\u001b[0m \u001b[1;33m=\u001b[0m \u001b[1;36m8\u001b[0m\u001b[1;33m,\u001b[0m \u001b[0mkernel_size\u001b[0m \u001b[1;33m=\u001b[0m \u001b[1;36m3\u001b[0m\u001b[1;33m,\u001b[0m \u001b[0mpadding\u001b[0m \u001b[1;33m=\u001b[0m \u001b[1;34m'same'\u001b[0m\u001b[1;33m,\u001b[0m \u001b[0mactivation\u001b[0m \u001b[1;33m=\u001b[0m \u001b[1;34m'relu'\u001b[0m\u001b[1;33m,\u001b[0m \u001b[0minput_shape\u001b[0m \u001b[1;33m=\u001b[0m \u001b[0mtest_X\u001b[0m\u001b[1;33m.\u001b[0m\u001b[0mshape\u001b[0m\u001b[1;33m[\u001b[0m\u001b[1;36m1\u001b[0m\u001b[1;33m:\u001b[0m\u001b[1;33m]\u001b[0m\u001b[1;33m)\u001b[0m\u001b[1;33m)\u001b[0m\u001b[1;33m\u001b[0m\u001b[1;33m\u001b[0m\u001b[0m\n\u001b[0m\u001b[0;32m      6\u001b[0m \u001b[0mmodel\u001b[0m\u001b[1;33m.\u001b[0m\u001b[0madd\u001b[0m\u001b[1;33m(\u001b[0m\u001b[0mMaxPooling2D\u001b[0m\u001b[1;33m(\u001b[0m\u001b[0mpool_size\u001b[0m \u001b[1;33m=\u001b[0m \u001b[1;36m2\u001b[0m\u001b[1;33m)\u001b[0m\u001b[1;33m)\u001b[0m\u001b[1;33m\u001b[0m\u001b[1;33m\u001b[0m\u001b[0m\n\u001b[0;32m      7\u001b[0m \u001b[0mmodel\u001b[0m\u001b[1;33m.\u001b[0m\u001b[0madd\u001b[0m\u001b[1;33m(\u001b[0m\u001b[0mDropout\u001b[0m\u001b[1;33m(\u001b[0m\u001b[1;36m0.2\u001b[0m\u001b[1;33m)\u001b[0m\u001b[1;33m)\u001b[0m\u001b[1;33m\u001b[0m\u001b[1;33m\u001b[0m\u001b[0m\n",
      "\u001b[1;31mNameError\u001b[0m: name 'test_X' is not defined"
     ]
    }
   ],
   "source": [
    "## Fit the model!\n",
    "# Note: This first model will be fitted very quickly, will fit a higher accuracy modelthat requires more training time after this\n",
    "# Documentation: https://keras.io/models/model/\n",
    "model.fit_generator(\n",
    "        train_generator,\n",
    "        steps_per_epoch=50,\n",
    "        epochs=50,\n",
    "        validation_data=validation_generator,\n",
    "        validation_steps=50, callbacks = callbacks_list)\n",
    "\n",
    "## How I decided which fit function to use\n",
    "# model.fit_generator() v. model.fit() - https://datascience.stackexchange.com/questions/34444/what-is-the-difference-between-fit-and-fit-generator-in-keras\n",
    "# 2nd good example: https://medium.com/difference-engine-ai/keras-a-thing-you-should-know-about-keras-if-you-plan-to-train-a-deep-learning-model-on-a-large-fdd63ce66bd2\n",
    "# Basically, for large data-sets like this one, it's best-practice to use model.fit_generator()\n",
    "# This is because i) dataset can't be loaded into memory all at once, ii) we're already doing image augmentation, so this solution meshes nicely\n",
    "# Takeaway - use model.fit_generator() for this dataset"
   ]
  },
  {
   "cell_type": "code",
   "execution_count": null,
   "metadata": {},
   "outputs": [],
   "source": [
    "# img_gen.fit(img)\n",
    "# i=0\n",
    "# for img_batch in datagen.flow(img, batch_size=9):\n",
    "#     for img in img_batch:\n",
    "#         plt.subplot(330 + 1 + i)\n",
    "#         plt.imshow(img)\n",
    "#         i=i+1    \n",
    "#     if i >= batch_size:\n",
    "#         break"
   ]
  },
  {
   "cell_type": "code",
   "execution_count": 3,
   "metadata": {
    "ExecuteTime": {
     "end_time": "2019-11-17T19:10:32.778784Z",
     "start_time": "2019-11-17T19:10:32.772783Z"
    }
   },
   "outputs": [],
   "source": [
    "# model = Sequential()\n",
    "# model.add(Convolution2D(32, 3, 3, input_shape=(img_width, img_height, 3)))\n",
    "# model.add(Activation('relu'))\n",
    "# model.add(MaxPooling)\n",
    "# model.add(Convolution2D(32, 3, 3))\n",
    "# model.add(Activation('relu'))\n",
    "# model.add(MaxPooling)\n",
    "# model.add(Convolution2D(62, 3, 3))\n",
    "# model.add(Activation('relu'))\n",
    "# model.add(MaxPooling)\n",
    "# model.add(Flatten())\n",
    "# model.add(Dense(64))\n",
    "# model.aa(Activation('relu'))\n",
    "# model.add(Dropout(0.5))\n",
    "# model.add(Dense(1))\n",
    "# model.add(Activation('sigmoid'))  # or softmax?\n",
    "# model.compile(loss='binary_crossentropy',\n",
    "#               optimizer='rmsprop', metrics='accuracy')\n",
    "# # backward propagating based on loss function\n",
    "# model.fit(.....)\n",
    "\n",
    "\n",
    "# train_datagen = ImageDataGenerator(\n",
    "#     rotation_range=15,\n",
    "#     rescale=1./255,\n",
    "#     shear_range=0.1,\n",
    "#     zoom_range=0.2,\n",
    "#     horizontal_flip=True,\n",
    "#     width_shift_range=0.1,\n",
    "#     height_shift_range=0.1\n",
    "# )\n",
    "\n",
    "# train_generator = train_datagen.flow_from_dataframe(\n",
    "#     train_df,\n",
    "#     \"../input/train/train/\",\n",
    "#     x_col='filename',\n",
    "#     y_col='category',\n",
    "#     target_size=IMAGE_SIZE,\n",
    "#     class_mode='categorical',\n",
    "#     batch_size=batch_size\n",
    "# )\n",
    "\n",
    "\n",
    "# # classic CNN looks like this:\n",
    "# # input>conv>reLU>conv>reLU>pool>relu>conv>pool>fullyconnected\n",
    "# # common technique to avoid overfitting is to use dropout filters. it uses a random set of activation filters\n",
    "# # by settin ghtme to 0 as data flows through\n",
    "\n",
    "\n",
    "# # pooling reduces the dimensionality of each feature map but keeps the largest feature\n",
    "# # reLU replace all negative values with zero\n",
    "\n",
    "# # our filter is our feature identifier or basically the weights we assign\n",
    "\n",
    "# # all you have to do is to create a small filter and convert it to an array"
   ]
  },
  {
   "cell_type": "code",
   "execution_count": 11,
   "metadata": {
    "ExecuteTime": {
     "end_time": "2019-11-17T19:16:14.289626Z",
     "start_time": "2019-11-17T19:16:12.505215Z"
    }
   },
   "outputs": [],
   "source": [
    "!jt -t onedork -N -T -kl -f roboto -fs 115 -cursc r -cursw 4 -ofs 115 -cellw 100% -altp -m 200"
   ]
  },
  {
   "cell_type": "code",
   "execution_count": null,
   "metadata": {
    "ExecuteTime": {
     "start_time": "2019-11-18T04:32:50.482Z"
    }
   },
   "outputs": [
    {
     "name": "stderr",
     "output_type": "stream",
     "text": [
      "[autoreload of tensorflow._api failed: Traceback (most recent call last):\n",
      "  File \"C:\\Users\\yasha\\Anaconda3\\lib\\site-packages\\IPython\\extensions\\autoreload.py\", line 245, in check\n",
      "    superreload(m, reload, self.old_objects)\n",
      "  File \"C:\\Users\\yasha\\Anaconda3\\lib\\site-packages\\IPython\\extensions\\autoreload.py\", line 394, in superreload\n",
      "    module = reload(module)\n",
      "  File \"C:\\Users\\yasha\\Anaconda3\\lib\\imp.py\", line 314, in reload\n",
      "    return importlib.reload(module)\n",
      "  File \"C:\\Users\\yasha\\Anaconda3\\lib\\importlib\\__init__.py\", line 142, in reload\n",
      "    name = module.__spec__.name\n",
      "  File \"C:\\Users\\yasha\\Anaconda3\\lib\\site-packages\\tensorflow\\__init__.py\", line 50, in __getattr__\n",
      "    module = self._load()\n",
      "  File \"C:\\Users\\yasha\\Anaconda3\\lib\\site-packages\\tensorflow\\__init__.py\", line 45, in _load\n",
      "    self._parent_module_globals[self._local_name] = module\n",
      "  File \"C:\\Users\\yasha\\Anaconda3\\lib\\site-packages\\tensorflow\\__init__.py\", line 50, in __getattr__\n",
      "    module = self._load()\n",
      "  File \"C:\\Users\\yasha\\Anaconda3\\lib\\site-packages\\tensorflow\\__init__.py\", line 45, in _load\n",
      "    self._parent_module_globals[self._local_name] = module\n",
      "  File \"C:\\Users\\yasha\\Anaconda3\\lib\\site-packages\\tensorflow\\__init__.py\", line 50, in __getattr__\n",
      "    module = self._load()\n",
      "  File \"C:\\Users\\yasha\\Anaconda3\\lib\\site-packages\\tensorflow\\__init__.py\", line 45, in _load\n",
      "    self._parent_module_globals[self._local_name] = module\n",
      "RecursionError: maximum recursion depth exceeded while calling a Python object\n",
      "]\n",
      "[autoreload of tensorflow.python failed: Traceback (most recent call last):\n",
      "  File \"C:\\Users\\yasha\\Anaconda3\\lib\\site-packages\\IPython\\extensions\\autoreload.py\", line 245, in check\n",
      "    superreload(m, reload, self.old_objects)\n",
      "  File \"C:\\Users\\yasha\\Anaconda3\\lib\\site-packages\\IPython\\extensions\\autoreload.py\", line 394, in superreload\n",
      "    module = reload(module)\n",
      "  File \"C:\\Users\\yasha\\Anaconda3\\lib\\imp.py\", line 314, in reload\n",
      "    return importlib.reload(module)\n",
      "  File \"C:\\Users\\yasha\\Anaconda3\\lib\\importlib\\__init__.py\", line 142, in reload\n",
      "    name = module.__spec__.name\n",
      "  File \"C:\\Users\\yasha\\Anaconda3\\lib\\site-packages\\tensorflow\\__init__.py\", line 50, in __getattr__\n",
      "    module = self._load()\n",
      "  File \"C:\\Users\\yasha\\Anaconda3\\lib\\site-packages\\tensorflow\\__init__.py\", line 45, in _load\n",
      "    self._parent_module_globals[self._local_name] = module\n",
      "  File \"C:\\Users\\yasha\\Anaconda3\\lib\\site-packages\\tensorflow\\__init__.py\", line 50, in __getattr__\n",
      "    module = self._load()\n",
      "  File \"C:\\Users\\yasha\\Anaconda3\\lib\\site-packages\\tensorflow\\__init__.py\", line 45, in _load\n",
      "    self._parent_module_globals[self._local_name] = module\n",
      "  File \"C:\\Users\\yasha\\Anaconda3\\lib\\site-packages\\tensorflow\\__init__.py\", line 50, in __getattr__\n",
      "    module = self._load()\n",
      "  File \"C:\\Users\\yasha\\Anaconda3\\lib\\site-packages\\tensorflow\\__init__.py\", line 45, in _load\n",
      "    self._parent_module_globals[self._local_name] = module\n",
      "RecursionError: maximum recursion depth exceeded while calling a Python object\n",
      "]\n",
      "[autoreload of tensorflow.tools failed: Traceback (most recent call last):\n",
      "  File \"C:\\Users\\yasha\\Anaconda3\\lib\\site-packages\\IPython\\extensions\\autoreload.py\", line 245, in check\n",
      "    superreload(m, reload, self.old_objects)\n",
      "  File \"C:\\Users\\yasha\\Anaconda3\\lib\\site-packages\\IPython\\extensions\\autoreload.py\", line 394, in superreload\n",
      "    module = reload(module)\n",
      "  File \"C:\\Users\\yasha\\Anaconda3\\lib\\imp.py\", line 314, in reload\n",
      "    return importlib.reload(module)\n",
      "  File \"C:\\Users\\yasha\\Anaconda3\\lib\\importlib\\__init__.py\", line 142, in reload\n",
      "    name = module.__spec__.name\n",
      "  File \"C:\\Users\\yasha\\Anaconda3\\lib\\site-packages\\tensorflow\\__init__.py\", line 50, in __getattr__\n",
      "    module = self._load()\n",
      "  File \"C:\\Users\\yasha\\Anaconda3\\lib\\site-packages\\tensorflow\\__init__.py\", line 45, in _load\n",
      "    self._parent_module_globals[self._local_name] = module\n",
      "  File \"C:\\Users\\yasha\\Anaconda3\\lib\\site-packages\\tensorflow\\__init__.py\", line 50, in __getattr__\n",
      "    module = self._load()\n",
      "  File \"C:\\Users\\yasha\\Anaconda3\\lib\\site-packages\\tensorflow\\__init__.py\", line 45, in _load\n",
      "    self._parent_module_globals[self._local_name] = module\n",
      "  File \"C:\\Users\\yasha\\Anaconda3\\lib\\site-packages\\tensorflow\\__init__.py\", line 50, in __getattr__\n",
      "    module = self._load()\n",
      "  File \"C:\\Users\\yasha\\Anaconda3\\lib\\site-packages\\tensorflow\\__init__.py\", line 45, in _load\n",
      "    self._parent_module_globals[self._local_name] = module\n",
      "RecursionError: maximum recursion depth exceeded while calling a Python object\n",
      "]\n",
      "[autoreload of tensorflow.core failed: Traceback (most recent call last):\n",
      "  File \"C:\\Users\\yasha\\Anaconda3\\lib\\site-packages\\IPython\\extensions\\autoreload.py\", line 245, in check\n",
      "    superreload(m, reload, self.old_objects)\n",
      "  File \"C:\\Users\\yasha\\Anaconda3\\lib\\site-packages\\IPython\\extensions\\autoreload.py\", line 394, in superreload\n",
      "    module = reload(module)\n",
      "  File \"C:\\Users\\yasha\\Anaconda3\\lib\\imp.py\", line 314, in reload\n",
      "    return importlib.reload(module)\n",
      "  File \"C:\\Users\\yasha\\Anaconda3\\lib\\importlib\\__init__.py\", line 142, in reload\n",
      "    name = module.__spec__.name\n",
      "  File \"C:\\Users\\yasha\\Anaconda3\\lib\\site-packages\\tensorflow\\__init__.py\", line 50, in __getattr__\n",
      "    module = self._load()\n",
      "  File \"C:\\Users\\yasha\\Anaconda3\\lib\\site-packages\\tensorflow\\__init__.py\", line 45, in _load\n",
      "    self._parent_module_globals[self._local_name] = module\n",
      "  File \"C:\\Users\\yasha\\Anaconda3\\lib\\site-packages\\tensorflow\\__init__.py\", line 50, in __getattr__\n",
      "    module = self._load()\n",
      "  File \"C:\\Users\\yasha\\Anaconda3\\lib\\site-packages\\tensorflow\\__init__.py\", line 45, in _load\n",
      "    self._parent_module_globals[self._local_name] = module\n",
      "  File \"C:\\Users\\yasha\\Anaconda3\\lib\\site-packages\\tensorflow\\__init__.py\", line 50, in __getattr__\n",
      "    module = self._load()\n",
      "  File \"C:\\Users\\yasha\\Anaconda3\\lib\\site-packages\\tensorflow\\__init__.py\", line 45, in _load\n",
      "    self._parent_module_globals[self._local_name] = module\n",
      "RecursionError: maximum recursion depth exceeded while calling a Python object\n",
      "]\n",
      "[autoreload of tensorflow.compiler failed: Traceback (most recent call last):\n",
      "  File \"C:\\Users\\yasha\\Anaconda3\\lib\\site-packages\\IPython\\extensions\\autoreload.py\", line 245, in check\n",
      "    superreload(m, reload, self.old_objects)\n",
      "  File \"C:\\Users\\yasha\\Anaconda3\\lib\\site-packages\\IPython\\extensions\\autoreload.py\", line 394, in superreload\n",
      "    module = reload(module)\n",
      "  File \"C:\\Users\\yasha\\Anaconda3\\lib\\imp.py\", line 314, in reload\n",
      "    return importlib.reload(module)\n",
      "  File \"C:\\Users\\yasha\\Anaconda3\\lib\\importlib\\__init__.py\", line 142, in reload\n",
      "    name = module.__spec__.name\n",
      "  File \"C:\\Users\\yasha\\Anaconda3\\lib\\site-packages\\tensorflow\\__init__.py\", line 50, in __getattr__\n",
      "    module = self._load()\n",
      "  File \"C:\\Users\\yasha\\Anaconda3\\lib\\site-packages\\tensorflow\\__init__.py\", line 45, in _load\n",
      "    self._parent_module_globals[self._local_name] = module\n",
      "  File \"C:\\Users\\yasha\\Anaconda3\\lib\\site-packages\\tensorflow\\__init__.py\", line 50, in __getattr__\n",
      "    module = self._load()\n",
      "  File \"C:\\Users\\yasha\\Anaconda3\\lib\\site-packages\\tensorflow\\__init__.py\", line 45, in _load\n",
      "    self._parent_module_globals[self._local_name] = module\n",
      "  File \"C:\\Users\\yasha\\Anaconda3\\lib\\site-packages\\tensorflow\\__init__.py\", line 50, in __getattr__\n",
      "    module = self._load()\n",
      "  File \"C:\\Users\\yasha\\Anaconda3\\lib\\site-packages\\tensorflow\\__init__.py\", line 45, in _load\n",
      "    self._parent_module_globals[self._local_name] = module\n",
      "RecursionError: maximum recursion depth exceeded while calling a Python object\n",
      "]\n",
      "[autoreload of tensorflow.lite failed: Traceback (most recent call last):\n",
      "  File \"C:\\Users\\yasha\\Anaconda3\\lib\\site-packages\\IPython\\extensions\\autoreload.py\", line 245, in check\n",
      "    superreload(m, reload, self.old_objects)\n",
      "  File \"C:\\Users\\yasha\\Anaconda3\\lib\\site-packages\\IPython\\extensions\\autoreload.py\", line 394, in superreload\n",
      "    module = reload(module)\n",
      "  File \"C:\\Users\\yasha\\Anaconda3\\lib\\imp.py\", line 314, in reload\n",
      "    return importlib.reload(module)\n",
      "  File \"C:\\Users\\yasha\\Anaconda3\\lib\\importlib\\__init__.py\", line 142, in reload\n",
      "    name = module.__spec__.name\n",
      "  File \"C:\\Users\\yasha\\Anaconda3\\lib\\site-packages\\tensorflow\\__init__.py\", line 50, in __getattr__\n",
      "    module = self._load()\n",
      "  File \"C:\\Users\\yasha\\Anaconda3\\lib\\site-packages\\tensorflow\\__init__.py\", line 45, in _load\n",
      "    self._parent_module_globals[self._local_name] = module\n",
      "  File \"C:\\Users\\yasha\\Anaconda3\\lib\\site-packages\\tensorflow\\__init__.py\", line 50, in __getattr__\n",
      "    module = self._load()\n",
      "  File \"C:\\Users\\yasha\\Anaconda3\\lib\\site-packages\\tensorflow\\__init__.py\", line 45, in _load\n",
      "    self._parent_module_globals[self._local_name] = module\n",
      "  File \"C:\\Users\\yasha\\Anaconda3\\lib\\site-packages\\tensorflow\\__init__.py\", line 50, in __getattr__\n",
      "    module = self._load()\n",
      "  File \"C:\\Users\\yasha\\Anaconda3\\lib\\site-packages\\tensorflow\\__init__.py\", line 45, in _load\n",
      "    self._parent_module_globals[self._local_name] = module\n",
      "RecursionError: maximum recursion depth exceeded while calling a Python object\n",
      "]\n"
     ]
    },
    {
     "name": "stderr",
     "output_type": "stream",
     "text": [
      "[autoreload of tensorflow.keras failed: Traceback (most recent call last):\n",
      "  File \"C:\\Users\\yasha\\Anaconda3\\lib\\site-packages\\IPython\\extensions\\autoreload.py\", line 245, in check\n",
      "    superreload(m, reload, self.old_objects)\n",
      "  File \"C:\\Users\\yasha\\Anaconda3\\lib\\site-packages\\IPython\\extensions\\autoreload.py\", line 394, in superreload\n",
      "    module = reload(module)\n",
      "  File \"C:\\Users\\yasha\\Anaconda3\\lib\\imp.py\", line 314, in reload\n",
      "    return importlib.reload(module)\n",
      "  File \"C:\\Users\\yasha\\Anaconda3\\lib\\importlib\\__init__.py\", line 142, in reload\n",
      "    name = module.__spec__.name\n",
      "  File \"C:\\Users\\yasha\\Anaconda3\\lib\\site-packages\\tensorflow\\__init__.py\", line 50, in __getattr__\n",
      "    module = self._load()\n",
      "  File \"C:\\Users\\yasha\\Anaconda3\\lib\\site-packages\\tensorflow\\__init__.py\", line 45, in _load\n",
      "    self._parent_module_globals[self._local_name] = module\n",
      "  File \"C:\\Users\\yasha\\Anaconda3\\lib\\site-packages\\tensorflow\\__init__.py\", line 50, in __getattr__\n",
      "    module = self._load()\n",
      "  File \"C:\\Users\\yasha\\Anaconda3\\lib\\site-packages\\tensorflow\\__init__.py\", line 45, in _load\n",
      "    self._parent_module_globals[self._local_name] = module\n",
      "  File \"C:\\Users\\yasha\\Anaconda3\\lib\\site-packages\\tensorflow\\__init__.py\", line 50, in __getattr__\n",
      "    module = self._load()\n",
      "  File \"C:\\Users\\yasha\\Anaconda3\\lib\\site-packages\\tensorflow\\__init__.py\", line 45, in _load\n",
      "    self._parent_module_globals[self._local_name] = module\n",
      "RecursionError: maximum recursion depth exceeded while calling a Python object\n",
      "]\n",
      "[autoreload of tensorflow.compat failed: Traceback (most recent call last):\n",
      "  File \"C:\\Users\\yasha\\Anaconda3\\lib\\site-packages\\IPython\\extensions\\autoreload.py\", line 245, in check\n",
      "    superreload(m, reload, self.old_objects)\n",
      "  File \"C:\\Users\\yasha\\Anaconda3\\lib\\site-packages\\IPython\\extensions\\autoreload.py\", line 394, in superreload\n",
      "    module = reload(module)\n",
      "  File \"C:\\Users\\yasha\\Anaconda3\\lib\\imp.py\", line 314, in reload\n",
      "    return importlib.reload(module)\n",
      "  File \"C:\\Users\\yasha\\Anaconda3\\lib\\importlib\\__init__.py\", line 142, in reload\n",
      "    name = module.__spec__.name\n",
      "  File \"C:\\Users\\yasha\\Anaconda3\\lib\\site-packages\\tensorflow\\__init__.py\", line 50, in __getattr__\n",
      "    module = self._load()\n",
      "  File \"C:\\Users\\yasha\\Anaconda3\\lib\\site-packages\\tensorflow\\__init__.py\", line 45, in _load\n",
      "    self._parent_module_globals[self._local_name] = module\n",
      "  File \"C:\\Users\\yasha\\Anaconda3\\lib\\site-packages\\tensorflow\\__init__.py\", line 50, in __getattr__\n",
      "    module = self._load()\n",
      "  File \"C:\\Users\\yasha\\Anaconda3\\lib\\site-packages\\tensorflow\\__init__.py\", line 45, in _load\n",
      "    self._parent_module_globals[self._local_name] = module\n",
      "  File \"C:\\Users\\yasha\\Anaconda3\\lib\\site-packages\\tensorflow\\__init__.py\", line 50, in __getattr__\n",
      "    module = self._load()\n",
      "  File \"C:\\Users\\yasha\\Anaconda3\\lib\\site-packages\\tensorflow\\__init__.py\", line 45, in _load\n",
      "    self._parent_module_globals[self._local_name] = module\n",
      "RecursionError: maximum recursion depth exceeded while calling a Python object\n",
      "]\n",
      "[autoreload of tensorflow.examples failed: Traceback (most recent call last):\n",
      "  File \"C:\\Users\\yasha\\Anaconda3\\lib\\site-packages\\IPython\\extensions\\autoreload.py\", line 245, in check\n",
      "    superreload(m, reload, self.old_objects)\n",
      "  File \"C:\\Users\\yasha\\Anaconda3\\lib\\site-packages\\IPython\\extensions\\autoreload.py\", line 394, in superreload\n",
      "    module = reload(module)\n",
      "  File \"C:\\Users\\yasha\\Anaconda3\\lib\\imp.py\", line 314, in reload\n",
      "    return importlib.reload(module)\n",
      "  File \"C:\\Users\\yasha\\Anaconda3\\lib\\importlib\\__init__.py\", line 142, in reload\n",
      "    name = module.__spec__.name\n",
      "  File \"C:\\Users\\yasha\\Anaconda3\\lib\\site-packages\\tensorflow\\__init__.py\", line 50, in __getattr__\n",
      "    module = self._load()\n",
      "  File \"C:\\Users\\yasha\\Anaconda3\\lib\\site-packages\\tensorflow\\__init__.py\", line 45, in _load\n",
      "    self._parent_module_globals[self._local_name] = module\n",
      "  File \"C:\\Users\\yasha\\Anaconda3\\lib\\site-packages\\tensorflow\\__init__.py\", line 50, in __getattr__\n",
      "    module = self._load()\n",
      "  File \"C:\\Users\\yasha\\Anaconda3\\lib\\site-packages\\tensorflow\\__init__.py\", line 45, in _load\n",
      "    self._parent_module_globals[self._local_name] = module\n",
      "  File \"C:\\Users\\yasha\\Anaconda3\\lib\\site-packages\\tensorflow\\__init__.py\", line 50, in __getattr__\n",
      "    module = self._load()\n",
      "  File \"C:\\Users\\yasha\\Anaconda3\\lib\\site-packages\\tensorflow\\__init__.py\", line 45, in _load\n",
      "    self._parent_module_globals[self._local_name] = module\n",
      "RecursionError: maximum recursion depth exceeded while calling a Python object\n",
      "]\n",
      "[autoreload of tensorflow.core.framework.attr_value_pb2 failed: Traceback (most recent call last):\n",
      "  File \"C:\\Users\\yasha\\Anaconda3\\lib\\site-packages\\IPython\\extensions\\autoreload.py\", line 245, in check\n",
      "    superreload(m, reload, self.old_objects)\n",
      "  File \"C:\\Users\\yasha\\Anaconda3\\lib\\site-packages\\IPython\\extensions\\autoreload.py\", line 410, in superreload\n",
      "    update_generic(old_obj, new_obj)\n",
      "  File \"C:\\Users\\yasha\\Anaconda3\\lib\\site-packages\\IPython\\extensions\\autoreload.py\", line 347, in update_generic\n",
      "    update(a, b)\n",
      "  File \"C:\\Users\\yasha\\Anaconda3\\lib\\site-packages\\IPython\\extensions\\autoreload.py\", line 302, in update_class\n",
      "    if update_generic(old_obj, new_obj): continue\n",
      "  File \"C:\\Users\\yasha\\Anaconda3\\lib\\site-packages\\IPython\\extensions\\autoreload.py\", line 347, in update_generic\n",
      "    update(a, b)\n",
      "  File \"C:\\Users\\yasha\\Anaconda3\\lib\\site-packages\\IPython\\extensions\\autoreload.py\", line 317, in update_class\n",
      "    update_instances(old, new)\n",
      "  File \"C:\\Users\\yasha\\Anaconda3\\lib\\site-packages\\IPython\\extensions\\autoreload.py\", line 280, in update_instances\n",
      "    ref.__class__ = new\n",
      "TypeError: __class__ assignment: 'ListValue' object layout differs from 'ListValue'\n",
      "]\n",
      "[autoreload of tensorflow.core.framework.tensor_pb2 failed: Traceback (most recent call last):\n",
      "  File \"C:\\Users\\yasha\\Anaconda3\\lib\\site-packages\\IPython\\extensions\\autoreload.py\", line 245, in check\n",
      "    superreload(m, reload, self.old_objects)\n",
      "  File \"C:\\Users\\yasha\\Anaconda3\\lib\\site-packages\\IPython\\extensions\\autoreload.py\", line 410, in superreload\n",
      "    update_generic(old_obj, new_obj)\n",
      "  File \"C:\\Users\\yasha\\Anaconda3\\lib\\site-packages\\IPython\\extensions\\autoreload.py\", line 347, in update_generic\n",
      "    update(a, b)\n",
      "  File \"C:\\Users\\yasha\\Anaconda3\\lib\\site-packages\\IPython\\extensions\\autoreload.py\", line 317, in update_class\n",
      "    update_instances(old, new)\n",
      "  File \"C:\\Users\\yasha\\Anaconda3\\lib\\site-packages\\IPython\\extensions\\autoreload.py\", line 280, in update_instances\n",
      "    ref.__class__ = new\n",
      "TypeError: __class__ assignment: 'TensorProto' object layout differs from 'TensorProto'\n",
      "]\n",
      "[autoreload of tensorflow.core.framework.tensor_shape_pb2 failed: Traceback (most recent call last):\n",
      "  File \"C:\\Users\\yasha\\Anaconda3\\lib\\site-packages\\IPython\\extensions\\autoreload.py\", line 245, in check\n",
      "    superreload(m, reload, self.old_objects)\n",
      "  File \"C:\\Users\\yasha\\Anaconda3\\lib\\site-packages\\IPython\\extensions\\autoreload.py\", line 410, in superreload\n",
      "    update_generic(old_obj, new_obj)\n",
      "  File \"C:\\Users\\yasha\\Anaconda3\\lib\\site-packages\\IPython\\extensions\\autoreload.py\", line 347, in update_generic\n",
      "    update(a, b)\n",
      "  File \"C:\\Users\\yasha\\Anaconda3\\lib\\site-packages\\IPython\\extensions\\autoreload.py\", line 302, in update_class\n",
      "    if update_generic(old_obj, new_obj): continue\n",
      "  File \"C:\\Users\\yasha\\Anaconda3\\lib\\site-packages\\IPython\\extensions\\autoreload.py\", line 347, in update_generic\n",
      "    update(a, b)\n",
      "  File \"C:\\Users\\yasha\\Anaconda3\\lib\\site-packages\\IPython\\extensions\\autoreload.py\", line 317, in update_class\n",
      "    update_instances(old, new)\n",
      "  File \"C:\\Users\\yasha\\Anaconda3\\lib\\site-packages\\IPython\\extensions\\autoreload.py\", line 280, in update_instances\n",
      "    ref.__class__ = new\n",
      "TypeError: __class__ assignment: 'Dim' object layout differs from 'Dim'\n",
      "]\n",
      "[autoreload of tensorflow.core.framework.op_def_pb2 failed: Traceback (most recent call last):\n",
      "  File \"C:\\Users\\yasha\\Anaconda3\\lib\\site-packages\\IPython\\extensions\\autoreload.py\", line 245, in check\n",
      "    superreload(m, reload, self.old_objects)\n",
      "  File \"C:\\Users\\yasha\\Anaconda3\\lib\\site-packages\\IPython\\extensions\\autoreload.py\", line 410, in superreload\n",
      "    update_generic(old_obj, new_obj)\n",
      "  File \"C:\\Users\\yasha\\Anaconda3\\lib\\site-packages\\IPython\\extensions\\autoreload.py\", line 347, in update_generic\n",
      "    update(a, b)\n",
      "  File \"C:\\Users\\yasha\\Anaconda3\\lib\\site-packages\\IPython\\extensions\\autoreload.py\", line 302, in update_class\n",
      "    if update_generic(old_obj, new_obj): continue\n",
      "  File \"C:\\Users\\yasha\\Anaconda3\\lib\\site-packages\\IPython\\extensions\\autoreload.py\", line 347, in update_generic\n",
      "    update(a, b)\n",
      "  File \"C:\\Users\\yasha\\Anaconda3\\lib\\site-packages\\IPython\\extensions\\autoreload.py\", line 317, in update_class\n",
      "    update_instances(old, new)\n",
      "  File \"C:\\Users\\yasha\\Anaconda3\\lib\\site-packages\\IPython\\extensions\\autoreload.py\", line 280, in update_instances\n",
      "    ref.__class__ = new\n",
      "TypeError: __class__ assignment: 'ArgDef' object layout differs from 'ArgDef'\n",
      "]\n"
     ]
    },
    {
     "name": "stderr",
     "output_type": "stream",
     "text": [
      "[autoreload of tensorflow.python.framework.device_spec failed: Traceback (most recent call last):\n",
      "  File \"C:\\Users\\yasha\\Anaconda3\\lib\\site-packages\\IPython\\extensions\\autoreload.py\", line 245, in check\n",
      "    superreload(m, reload, self.old_objects)\n",
      "  File \"C:\\Users\\yasha\\Anaconda3\\lib\\site-packages\\IPython\\extensions\\autoreload.py\", line 410, in superreload\n",
      "    update_generic(old_obj, new_obj)\n",
      "  File \"C:\\Users\\yasha\\Anaconda3\\lib\\site-packages\\IPython\\extensions\\autoreload.py\", line 347, in update_generic\n",
      "    update(a, b)\n",
      "  File \"C:\\Users\\yasha\\Anaconda3\\lib\\site-packages\\IPython\\extensions\\autoreload.py\", line 317, in update_class\n",
      "    update_instances(old, new)\n",
      "  File \"C:\\Users\\yasha\\Anaconda3\\lib\\site-packages\\IPython\\extensions\\autoreload.py\", line 280, in update_instances\n",
      "    ref.__class__ = new\n",
      "TypeError: __class__ assignment: 'DeviceSpecV1' object layout differs from 'DeviceSpecV1'\n",
      "]\n"
     ]
    }
   ],
   "source": [
    "3//1"
   ]
  },
  {
   "cell_type": "code",
   "execution_count": 1,
   "metadata": {
    "ExecuteTime": {
     "end_time": "2019-11-18T15:04:25.229313Z",
     "start_time": "2019-11-18T15:04:22.073512Z"
    },
    "scrolled": true
   },
   "outputs": [],
   "source": [
    "!jt -t onedork -N -T -kl -f roboto -fs 115 -cursc r -cursw 4 -ofs 115 -cellw 100% -altp -m 200"
   ]
  },
  {
   "cell_type": "code",
   "execution_count": null,
   "metadata": {},
   "outputs": [],
   "source": []
  },
  {
   "cell_type": "code",
   "execution_count": null,
   "metadata": {},
   "outputs": [],
   "source": []
  },
  {
   "cell_type": "code",
   "execution_count": null,
   "metadata": {},
   "outputs": [],
   "source": []
  },
  {
   "cell_type": "code",
   "execution_count": null,
   "metadata": {},
   "outputs": [],
   "source": []
  },
  {
   "cell_type": "code",
   "execution_count": null,
   "metadata": {},
   "outputs": [],
   "source": []
  },
  {
   "cell_type": "code",
   "execution_count": null,
   "metadata": {},
   "outputs": [],
   "source": []
  },
  {
   "cell_type": "code",
   "execution_count": null,
   "metadata": {},
   "outputs": [],
   "source": []
  },
  {
   "cell_type": "code",
   "execution_count": null,
   "metadata": {},
   "outputs": [],
   "source": []
  },
  {
   "cell_type": "code",
   "execution_count": null,
   "metadata": {},
   "outputs": [],
   "source": []
  },
  {
   "cell_type": "code",
   "execution_count": null,
   "metadata": {},
   "outputs": [],
   "source": []
  },
  {
   "cell_type": "code",
   "execution_count": null,
   "metadata": {},
   "outputs": [],
   "source": []
  },
  {
   "cell_type": "code",
   "execution_count": null,
   "metadata": {},
   "outputs": [],
   "source": []
  },
  {
   "cell_type": "code",
   "execution_count": null,
   "metadata": {},
   "outputs": [],
   "source": []
  },
  {
   "cell_type": "code",
   "execution_count": null,
   "metadata": {},
   "outputs": [],
   "source": [
    "# create validation set from the training set.\n",
    "\n",
    "\n",
    "# make sure to batch normalize & renormalize across all the inputs\n",
    "\n",
    "# smaller batch size (32) leads to much better results"
   ]
  }
 ],
 "metadata": {
  "kernelspec": {
   "display_name": "Python 3",
   "language": "python",
   "name": "python3"
  },
  "language_info": {
   "codemirror_mode": {
    "name": "ipython",
    "version": 3
   },
   "file_extension": ".py",
   "mimetype": "text/x-python",
   "name": "python",
   "nbconvert_exporter": "python",
   "pygments_lexer": "ipython3",
   "version": "3.7.3"
  },
  "varInspector": {
   "cols": {
    "lenName": 16,
    "lenType": 16,
    "lenVar": 40
   },
   "kernels_config": {
    "python": {
     "delete_cmd_postfix": "",
     "delete_cmd_prefix": "del ",
     "library": "var_list.py",
     "varRefreshCmd": "print(var_dic_list())"
    },
    "r": {
     "delete_cmd_postfix": ") ",
     "delete_cmd_prefix": "rm(",
     "library": "var_list.r",
     "varRefreshCmd": "cat(var_dic_list()) "
    }
   },
   "types_to_exclude": [
    "module",
    "function",
    "builtin_function_or_method",
    "instance",
    "_Feature"
   ],
   "window_display": false
  }
 },
 "nbformat": 4,
 "nbformat_minor": 2
}
